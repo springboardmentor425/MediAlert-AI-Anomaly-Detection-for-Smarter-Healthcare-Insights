{
 "cells": [
  {
   "cell_type": "code",
   "id": "b5238442",
   "metadata": {
    "ExecuteTime": {
     "end_time": "2024-12-26T06:10:03.347588Z",
     "start_time": "2024-12-26T06:10:03.343498Z"
    }
   },
   "source": [
    "import pandas as pd\n",
    "import numpy as np\n",
    "from sklearn.preprocessing import MinMaxScaler, OneHotEncoder\n",
    "from sklearn.decomposition import TruncatedSVD\n",
    "from sklearn.feature_extraction import FeatureHasher"
   ],
   "outputs": [],
   "execution_count": 17
  },
  {
   "cell_type": "code",
   "id": "547f5dde",
   "metadata": {
    "ExecuteTime": {
     "end_time": "2024-12-26T06:10:03.418171Z",
     "start_time": "2024-12-26T06:10:03.410889Z"
    }
   },
   "source": [
    "def standardize_column_names(df):\n",
    "    \"\"\"Standardize column names by stripping whitespace and replacing spaces with underscores.\"\"\"\n",
    "    print(\"Standardizing column names...\")\n",
    "    return df.rename(columns=lambda x: x.strip().replace(\" \", \"_\"))\n",
    "\n",
    "def encode_categorical(df, columns, strategy=\"frequency\"):\n",
    "    \"\"\"Apply categorical encoding based on the specified strategy.\n",
    "\n",
    "    Parameters:\n",
    "    - df: DataFrame\n",
    "    - columns: list of column names to encode\n",
    "    - strategy: str, encoding strategy ('frequency', 'ordinal', etc.)\n",
    "\n",
    "    Returns:\n",
    "    - DataFrame with encoded columns\n",
    "    \"\"\"\n",
    "    for column in columns:\n",
    "        print(f\"Applying {strategy} encoding to column: {column}\")\n",
    "        if strategy == \"frequency\":\n",
    "            freq_map = df[column].value_counts(normalize=True).to_dict()\n",
    "            df[f'{column}_Freq'] = df[column].map(freq_map)\n",
    "        elif strategy == \"ordinal\":\n",
    "            df[column] = pd.Categorical(df[column]).codes\n",
    "        else:\n",
    "            raise ValueError(f\"Unsupported encoding strategy: {strategy}\")\n",
    "    return df\n",
    "\n",
    "def impute_missing_values(df, column, group_by_column, overall=True):\n",
    "    \"\"\"Impute missing values using grouped median and optionally overall median.\"\"\"\n",
    "    print(f\"Imputing missing values for {column} grouped by {group_by_column}...\")\n",
    "    df[column] = df[column].fillna(df.groupby(group_by_column)[column].transform(\"median\"))\n",
    "    if overall:\n",
    "        overall_median = df[column].median()\n",
    "        print(f\"Filling remaining missing values in {column} with overall median: {overall_median}\")\n",
    "        df[column] = df[column].fillna(overall_median)\n",
    "    return df"
   ],
   "outputs": [],
   "execution_count": 18
  },
  {
   "cell_type": "code",
   "id": "9bc0bedf",
   "metadata": {
    "ExecuteTime": {
     "end_time": "2024-12-26T06:10:03.922364Z",
     "start_time": "2024-12-26T06:10:03.455340Z"
    }
   },
   "source": [
    "# Load the dataset from the specified file path\n",
    "file_path = 'Healthcare Providers.csv'\n",
    "print(f\"Loading dataset from {file_path}...\")\n",
    "data = pd.read_csv(file_path)\n",
    "data_with_all_col = data  # Keep a backup of the original dataset"
   ],
   "outputs": [
    {
     "name": "stdout",
     "output_type": "stream",
     "text": [
      "Loading dataset from Healthcare Providers.csv...\n"
     ]
    }
   ],
   "execution_count": 19
  },
  {
   "cell_type": "code",
   "id": "79b16432",
   "metadata": {
    "ExecuteTime": {
     "end_time": "2024-12-26T06:10:03.982963Z",
     "start_time": "2024-12-26T06:10:03.957589Z"
    }
   },
   "source": [
    "# Define columns to retain for fraud detection analysis\n",
    "selected_columns = [\n",
    "    \"Number of Services\",\n",
    "    \"Number of Medicare Beneficiaries\",\n",
    "    \"Number of Distinct Medicare Beneficiary/Per Day Services\",\n",
    "    \"Average Submitted Charge Amount\",\n",
    "    \"Average Medicare Payment Amount\",\n",
    "    \"Average Medicare Allowed Amount\",\n",
    "    \"Average Medicare Standardized Amount\",\n",
    "    \"HCPCS Code\",\n",
    "    \"Provider Type\",\n",
    "    \"Place of Service\",\n",
    "    \"State Code of the Provider\",\n",
    "    \"Medicare Participation Indicator\",\n",
    "]\n",
    "\n",
    "print(\"Selecting relevant columns...\")\n",
    "# Select only the specified columns from the dataset\n",
    "df = data[selected_columns].copy()"
   ],
   "outputs": [
    {
     "name": "stdout",
     "output_type": "stream",
     "text": [
      "Selecting relevant columns...\n"
     ]
    }
   ],
   "execution_count": 20
  },
  {
   "cell_type": "code",
   "id": "a794ac85",
   "metadata": {
    "ExecuteTime": {
     "end_time": "2024-12-26T06:10:04.065880Z",
     "start_time": "2024-12-26T06:10:04.015870Z"
    }
   },
   "source": [
    "# Display dataset information to understand the data types and missing values\n",
    "print(\"Dataset information:\")\n",
    "df.info()"
   ],
   "outputs": [
    {
     "name": "stdout",
     "output_type": "stream",
     "text": [
      "Dataset information:\n",
      "<class 'pandas.core.frame.DataFrame'>\n",
      "RangeIndex: 100000 entries, 0 to 99999\n",
      "Data columns (total 12 columns):\n",
      " #   Column                                                    Non-Null Count   Dtype \n",
      "---  ------                                                    --------------   ----- \n",
      " 0   Number of Services                                        100000 non-null  object\n",
      " 1   Number of Medicare Beneficiaries                          100000 non-null  object\n",
      " 2   Number of Distinct Medicare Beneficiary/Per Day Services  100000 non-null  object\n",
      " 3   Average Submitted Charge Amount                           100000 non-null  object\n",
      " 4   Average Medicare Payment Amount                           100000 non-null  object\n",
      " 5   Average Medicare Allowed Amount                           100000 non-null  object\n",
      " 6   Average Medicare Standardized Amount                      100000 non-null  object\n",
      " 7   HCPCS Code                                                100000 non-null  object\n",
      " 8   Provider Type                                             100000 non-null  object\n",
      " 9   Place of Service                                          100000 non-null  object\n",
      " 10  State Code of the Provider                                100000 non-null  object\n",
      " 11  Medicare Participation Indicator                          100000 non-null  object\n",
      "dtypes: object(12)\n",
      "memory usage: 9.2+ MB\n"
     ]
    }
   ],
   "execution_count": 21
  },
  {
   "cell_type": "code",
   "id": "3f3a6c00",
   "metadata": {
    "ExecuteTime": {
     "end_time": "2024-12-26T06:10:04.442605Z",
     "start_time": "2024-12-26T06:10:04.125086Z"
    }
   },
   "source": [
    "# Convert numerical features stored as object types to numeric\n",
    "numerical_object_columns = [\n",
    "    \"Number of Services\",\n",
    "    \"Number of Medicare Beneficiaries\",\n",
    "    \"Number of Distinct Medicare Beneficiary/Per Day Services\",\n",
    "    \"Average Submitted Charge Amount\",\n",
    "    \"Average Medicare Payment Amount\",\n",
    "    \"Average Medicare Allowed Amount\",\n",
    "    \"Average Medicare Standardized Amount\"\n",
    "]\n",
    "\n",
    "print(\"Converting numerical features to numeric...\")\n",
    "# Convert columns to numeric and coerce invalid values to NaN\n",
    "for column in numerical_object_columns:\n",
    "    print(f\"Converting column {column} to numeric...\")\n",
    "    df[column] = pd.to_numeric(df[column], errors='coerce')"
   ],
   "outputs": [
    {
     "name": "stdout",
     "output_type": "stream",
     "text": [
      "Converting numerical features to numeric...\n",
      "Converting column Number of Services to numeric...\n",
      "Converting column Number of Medicare Beneficiaries to numeric...\n",
      "Converting column Number of Distinct Medicare Beneficiary/Per Day Services to numeric...\n",
      "Converting column Average Submitted Charge Amount to numeric...\n",
      "Converting column Average Medicare Payment Amount to numeric...\n",
      "Converting column Average Medicare Allowed Amount to numeric...\n",
      "Converting column Average Medicare Standardized Amount to numeric...\n"
     ]
    }
   ],
   "execution_count": 22
  },
  {
   "cell_type": "code",
   "id": "05b1236c",
   "metadata": {
    "ExecuteTime": {
     "end_time": "2024-12-26T06:10:04.556469Z",
     "start_time": "2024-12-26T06:10:04.454579Z"
    }
   },
   "source": [
    "# Standardize column names using the defined function\n",
    "print(\"Standardizing column names...\")\n",
    "df = standardize_column_names(df)\n",
    "\n",
    "# Impute missing values for relevant columns\n",
    "df = impute_missing_values(df, \"Number_of_Services\", \"Provider_Type\")\n",
    "df = impute_missing_values(df, \"Number_of_Medicare_Beneficiaries\", \"Provider_Type\")\n",
    "df = impute_missing_values(df, \"Average_Submitted_Charge_Amount\", \"HCPCS_Code\")\n",
    "df = impute_missing_values(df, \"Number_of_Distinct_Medicare_Beneficiary/Per_Day_Services\", \"Provider_Type\")\n",
    "df = impute_missing_values(df, \"Average_Medicare_Payment_Amount\", \"HCPCS_Code\")\n",
    "df = impute_missing_values(df, \"Average_Medicare_Allowed_Amount\", \"HCPCS_Code\")\n",
    "df = impute_missing_values(df, \"Average_Medicare_Standardized_Amount\", \"HCPCS_Code\")"
   ],
   "outputs": [
    {
     "name": "stdout",
     "output_type": "stream",
     "text": [
      "Standardizing column names...\n",
      "Standardizing column names...\n",
      "Imputing missing values for Number_of_Services grouped by Provider_Type...\n",
      "Filling remaining missing values in Number_of_Services with overall median: 42.0\n",
      "Imputing missing values for Number_of_Medicare_Beneficiaries grouped by Provider_Type...\n",
      "Filling remaining missing values in Number_of_Medicare_Beneficiaries with overall median: 32.0\n",
      "Imputing missing values for Average_Submitted_Charge_Amount grouped by HCPCS_Code...\n",
      "Filling remaining missing values in Average_Submitted_Charge_Amount with overall median: 144.16666667\n",
      "Imputing missing values for Number_of_Distinct_Medicare_Beneficiary/Per_Day_Services grouped by Provider_Type...\n",
      "Filling remaining missing values in Number_of_Distinct_Medicare_Beneficiary/Per_Day_Services with overall median: 40.0\n",
      "Imputing missing values for Average_Medicare_Payment_Amount grouped by HCPCS_Code...\n",
      "Filling remaining missing values in Average_Medicare_Payment_Amount with overall median: 46.960416666499995\n",
      "Imputing missing values for Average_Medicare_Allowed_Amount grouped by HCPCS_Code...\n",
      "Filling remaining missing values in Average_Medicare_Allowed_Amount with overall median: 64.8149211045\n",
      "Imputing missing values for Average_Medicare_Standardized_Amount grouped by HCPCS_Code...\n",
      "Filling remaining missing values in Average_Medicare_Standardized_Amount with overall median: 47.8022482145\n"
     ]
    }
   ],
   "execution_count": 23
  },
  {
   "cell_type": "code",
   "id": "fe1993a5",
   "metadata": {
    "ExecuteTime": {
     "end_time": "2024-12-26T06:10:04.593744Z",
     "start_time": "2024-12-26T06:10:04.586667Z"
    }
   },
   "source": [
    "# Calculate derived features\n",
    "print(\"Adding derived features...\")\n",
    "df[\"Payment_to_Charge_Ratio\"] = df[\"Average_Medicare_Payment_Amount\"] / df[\"Average_Submitted_Charge_Amount\"]\n",
    "df[\"Allowed_to_Charge_Ratio\"] = df[\"Average_Medicare_Allowed_Amount\"] / df[\"Average_Submitted_Charge_Amount\"]\n",
    "print(\"Derived features added: Payment_to_Charge_Ratio, Allowed_to_Charge_Ratio\")"
   ],
   "outputs": [
    {
     "name": "stdout",
     "output_type": "stream",
     "text": [
      "Adding derived features...\n",
      "Derived features added: Payment_to_Charge_Ratio, Allowed_to_Charge_Ratio\n"
     ]
    }
   ],
   "execution_count": 24
  },
  {
   "cell_type": "code",
   "id": "3f22dac9",
   "metadata": {
    "ExecuteTime": {
     "end_time": "2024-12-26T06:10:04.653636Z",
     "start_time": "2024-12-26T06:10:04.624266Z"
    }
   },
   "source": [
    "# Scaling numerical features for autoencoders\n",
    "print(\"Scaling numerical features for autoencoders...\")\n",
    "scaler = MinMaxScaler()\n",
    "numerical_columns = [\n",
    "    \"Number_of_Services\",\n",
    "    \"Number_of_Medicare_Beneficiaries\",\n",
    "    \"Number_of_Distinct_Medicare_Beneficiary/Per_Day_Services\",\n",
    "    \"Average_Submitted_Charge_Amount\",\n",
    "    \"Average_Medicare_Payment_Amount\",\n",
    "    \"Average_Medicare_Allowed_Amount\",\n",
    "    \"Average_Medicare_Standardized_Amount\",\n",
    "    \"Payment_to_Charge_Ratio\",\n",
    "    \"Allowed_to_Charge_Ratio\"\n",
    "]\n",
    "df[numerical_columns] = scaler.fit_transform(df[numerical_columns])"
   ],
   "outputs": [
    {
     "name": "stdout",
     "output_type": "stream",
     "text": [
      "Scaling numerical features for autoencoders...\n"
     ]
    }
   ],
   "execution_count": 25
  },
  {
   "cell_type": "code",
   "id": "3b3b6b51",
   "metadata": {
    "ExecuteTime": {
     "end_time": "2024-12-26T06:10:04.746763Z",
     "start_time": "2024-12-26T06:10:04.685712Z"
    }
   },
   "source": [
    "# Encoding categorical variables\n",
    "print(\"Applying categorical encoding...\")\n",
    "df = encode_categorical(df, ['Provider_Type', 'State_Code_of_the_Provider'], strategy=\"frequency\")\n",
    "\n",
    "# One-Hot Encoding for Place of Service\n",
    "print(\"Applying one-hot encoding for Place_of_Service...\")\n",
    "one_hot_encoder = OneHotEncoder(handle_unknown='ignore', sparse_output=True)\n",
    "place_of_service_encoded = one_hot_encoder.fit_transform(df[['Place_of_Service']])\n",
    "df = pd.concat([df, pd.DataFrame.sparse.from_spmatrix(\n",
    "    place_of_service_encoded, \n",
    "    columns=one_hot_encoder.get_feature_names_out(['Place_of_Service'])\n",
    ")], axis=1)"
   ],
   "outputs": [
    {
     "name": "stdout",
     "output_type": "stream",
     "text": [
      "Applying categorical encoding...\n",
      "Applying frequency encoding to column: Provider_Type\n",
      "Applying frequency encoding to column: State_Code_of_the_Provider\n",
      "Applying one-hot encoding for Place_of_Service...\n"
     ]
    }
   ],
   "execution_count": 26
  },
  {
   "cell_type": "code",
   "id": "fa08c634",
   "metadata": {
    "ExecuteTime": {
     "end_time": "2024-12-26T06:10:04.790865Z",
     "start_time": "2024-12-26T06:10:04.781977Z"
    }
   },
   "source": [
    "# Binary Encoding for Medicare Participation Indicator\n",
    "print(\"Applying binary encoding for Medicare_Participation_Indicator...\")\n",
    "binary_map = {'Y': 1, 'N': 0}\n",
    "df['Medicare_Participation_Encoded'] = df['Medicare_Participation_Indicator'].map(binary_map)"
   ],
   "outputs": [
    {
     "name": "stdout",
     "output_type": "stream",
     "text": [
      "Applying binary encoding for Medicare_Participation_Indicator...\n"
     ]
    }
   ],
   "execution_count": 27
  },
  {
   "cell_type": "code",
   "id": "04bd712f",
   "metadata": {
    "ExecuteTime": {
     "end_time": "2024-12-26T06:10:05.035092Z",
     "start_time": "2024-12-26T06:10:04.855607Z"
    }
   },
   "source": [
    "# Feature hashing for HCPCS Code\n",
    "print(\"Applying feature hashing...\")\n",
    "def dynamic_feature_hasher(df, column, max_features=50):\n",
    "    \"\"\"Apply feature hashing dynamically adjusting n_features based on data cardinality.\"\"\"\n",
    "    if column not in df.columns:\n",
    "        raise ValueError(f\"Column {column} does not exist in the DataFrame.\")\n",
    "    print(f\"Applying feature hashing for {column} with max features: {max_features}\")\n",
    "    n_features = min(max_features, len(df[column].unique()))\n",
    "    hasher = FeatureHasher(n_features=n_features, input_type='string')\n",
    "    hashed_features = hasher.transform(df[column].astype(str).apply(lambda x: [x]))\n",
    "    print(f\"Generated {n_features} hashed features for {column}\")\n",
    "    return pd.DataFrame.sparse.from_spmatrix(hashed_features, columns=[f'{column}_Hash_{i}' for i in range(n_features)])\n",
    "\n",
    "hashed_features_df = dynamic_feature_hasher(df, 'HCPCS_Code')\n",
    "df = pd.concat([df, hashed_features_df], axis=1)"
   ],
   "outputs": [
    {
     "name": "stdout",
     "output_type": "stream",
     "text": [
      "Applying feature hashing...\n",
      "Applying feature hashing for HCPCS_Code with max features: 50\n",
      "Generated 50 hashed features for HCPCS_Code\n"
     ]
    }
   ],
   "execution_count": 28
  },
  {
   "cell_type": "code",
   "id": "0905fad6",
   "metadata": {
    "ExecuteTime": {
     "end_time": "2024-12-26T06:10:06.237315Z",
     "start_time": "2024-12-26T06:10:05.046758Z"
    }
   },
   "source": [
    "# Dimensionality reduction for high-cardinality data\n",
    "print(\"Reducing dimensionality of hashed features...\")\n",
    "hashed_columns = [col for col in df.columns if col.startswith('HCPCS_Code_Hash_')]\n",
    "svd = TruncatedSVD(n_components=20, random_state=42)\n",
    "reduced_data = svd.fit_transform(df[hashed_columns])\n",
    "reduced_df = pd.DataFrame(reduced_data, columns=[f'SVD_Component_{i}' for i in range(reduced_data.shape[1])])\n",
    "df = pd.concat([df, reduced_df], axis=1)\n",
    "df = df.drop(columns=hashed_columns)"
   ],
   "outputs": [
    {
     "name": "stdout",
     "output_type": "stream",
     "text": [
      "Reducing dimensionality of hashed features...\n"
     ]
    }
   ],
   "execution_count": 29
  },
  {
   "cell_type": "code",
   "id": "db7ba268",
   "metadata": {
    "ExecuteTime": {
     "end_time": "2024-12-26T06:10:06.285979Z",
     "start_time": "2024-12-26T06:10:06.270204Z"
    }
   },
   "source": [
    "# Verify if columns are no longer needed before dropping them\n",
    "print(\"Verifying columns to drop...\")\n",
    "columns_to_drop = ['HCPCS_Code', 'Provider_Type', 'State_Code_of_the_Provider', 'Place_of_Service', 'Medicare_Participation_Indicator']\n",
    "missing_columns = [col for col in columns_to_drop if col not in df.columns]\n",
    "if missing_columns:\n",
    "    raise ValueError(f\"The following columns are missing and cannot be dropped: {missing_columns}\")\n",
    "df = df.drop(columns=columns_to_drop)"
   ],
   "outputs": [
    {
     "name": "stdout",
     "output_type": "stream",
     "text": [
      "Verifying columns to drop...\n"
     ]
    }
   ],
   "execution_count": 30
  },
  {
   "cell_type": "code",
   "id": "ad7b7b9e",
   "metadata": {
    "ExecuteTime": {
     "end_time": "2024-12-26T06:10:06.329504Z",
     "start_time": "2024-12-26T06:10:06.319168Z"
    }
   },
   "source": [
    "# Final dataset with all preprocessing applied\n",
    "print(\"Preprocessing complete. Here is the updated dataset:\")\n",
    "print(df.head())"
   ],
   "outputs": [
    {
     "name": "stdout",
     "output_type": "stream",
     "text": [
      "Preprocessing complete. Here is the updated dataset:\n",
      "   Number_of_Services  Number_of_Medicare_Beneficiaries  \\\n",
      "0            0.016194                          0.013158   \n",
      "1            0.165992                          0.165992   \n",
      "2            0.021255                          0.002024   \n",
      "3            0.009109                          0.007085   \n",
      "4            0.022267                          0.013158   \n",
      "\n",
      "   Number_of_Distinct_Medicare_Beneficiary/Per_Day_Services  \\\n",
      "0                                           0.016194          \n",
      "1                                           0.165992          \n",
      "2                                           0.021255          \n",
      "3                                           0.009109          \n",
      "4                                           0.020243          \n",
      "\n",
      "   Average_Submitted_Charge_Amount  Average_Medicare_Payment_Amount  \\\n",
      "0                         0.305285                         0.157472   \n",
      "1                         0.548940                         0.118987   \n",
      "2                         0.155032                         0.064521   \n",
      "3                         0.004991                         0.003426   \n",
      "4                         0.040001                         0.019558   \n",
      "\n",
      "   Average_Medicare_Allowed_Amount  Average_Medicare_Standardized_Amount  \\\n",
      "0                         0.200610                              0.161099   \n",
      "1                         0.123740                              0.135474   \n",
      "2                         0.090655                              0.060662   \n",
      "3                         0.003491                              0.003426   \n",
      "4                         0.026514                              0.019072   \n",
      "\n",
      "   Payment_to_Charge_Ratio  Allowed_to_Charge_Ratio  Provider_Type_Freq  ...  \\\n",
      "0                 0.012310                 0.012239             0.11366  ...   \n",
      "1                 0.005168                 0.004192             0.01028  ...   \n",
      "2                 0.009931                 0.010890             0.02027  ...   \n",
      "3                 0.016392                 0.013037             0.11366  ...   \n",
      "4                 0.011670                 0.012347             0.11366  ...   \n",
      "\n",
      "   SVD_Component_10  SVD_Component_11  SVD_Component_12  SVD_Component_13  \\\n",
      "0         -0.000778          0.005557          0.084043         -0.080087   \n",
      "1          0.005211          0.003066         -0.063122          0.035656   \n",
      "2         -0.000397         -0.000168          0.001939         -0.001732   \n",
      "3         -0.005211         -0.003066          0.063122         -0.035656   \n",
      "4         -0.002026         -0.005801          0.041795         -0.041345   \n",
      "\n",
      "   SVD_Component_14  SVD_Component_15  SVD_Component_16  SVD_Component_17  \\\n",
      "0          0.990831         -0.025277          0.008120          0.013589   \n",
      "1          0.045406         -0.056629          0.094367          0.072286   \n",
      "2         -0.000637          0.000053         -0.000874         -0.001105   \n",
      "3         -0.045406          0.056629         -0.094367         -0.072286   \n",
      "4         -0.011938          0.003943          0.937671          0.101100   \n",
      "\n",
      "   SVD_Component_18  SVD_Component_19  \n",
      "0         -0.013062         -0.004851  \n",
      "1         -0.058687          0.066913  \n",
      "2         -0.000141         -0.000554  \n",
      "3          0.058687         -0.066913  \n",
      "4          0.150627          0.150942  \n",
      "\n",
      "[5 rows x 34 columns]\n"
     ]
    }
   ],
   "execution_count": 31
  },
  {
   "cell_type": "code",
   "id": "a2790c55",
   "metadata": {
    "ExecuteTime": {
     "end_time": "2024-12-26T06:10:36.966410Z",
     "start_time": "2024-12-26T06:10:32.941313Z"
    }
   },
   "source": "df.to_csv('Processed_dataset.csv')",
   "outputs": [],
   "execution_count": 33
  },
  {
   "cell_type": "code",
   "id": "cc85fbd4",
   "metadata": {
    "ExecuteTime": {
     "end_time": "2024-12-26T06:10:10.417138Z",
     "start_time": "2024-12-26T06:10:10.414774Z"
    }
   },
   "source": [],
   "outputs": [],
   "execution_count": null
  }
 ],
 "metadata": {
  "kernelspec": {
   "display_name": "Python 3 (ipykernel)",
   "language": "python",
   "name": "python3"
  },
  "language_info": {
   "codemirror_mode": {
    "name": "ipython",
    "version": 3
   },
   "file_extension": ".py",
   "mimetype": "text/x-python",
   "name": "python",
   "nbconvert_exporter": "python",
   "pygments_lexer": "ipython3",
   "version": "3.11.10"
  }
 },
 "nbformat": 4,
 "nbformat_minor": 5
}
