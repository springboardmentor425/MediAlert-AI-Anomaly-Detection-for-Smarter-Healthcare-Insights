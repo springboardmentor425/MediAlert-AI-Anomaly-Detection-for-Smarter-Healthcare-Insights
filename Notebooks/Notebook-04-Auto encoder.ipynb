{
 "cells": [
  {
   "cell_type": "code",
   "execution_count": 1,
   "id": "9f3e584d",
   "metadata": {},
   "outputs": [],
   "source": [
    "import pandas as pd\n",
    "import numpy as np"
   ]
  },
  {
   "cell_type": "code",
   "execution_count": 2,
   "id": "3005886d",
   "metadata": {},
   "outputs": [],
   "source": [
    "file_path = 'Healthcare Providers.csv'\n",
    "data = pd.read_csv(file_path)\n",
    "data_with_all_col=data"
   ]
  },
  {
   "cell_type": "code",
   "execution_count": 3,
   "id": "a86f7f68",
   "metadata": {},
   "outputs": [],
   "source": [
    "# Columns to retain for fraud detection analysis\n",
    "selected_columns = [\n",
    "    \"Number of Services\",\n",
    "    \"Number of Medicare Beneficiaries\",\n",
    "    \"Number of Distinct Medicare Beneficiary/Per Day Services\",\n",
    "    \"Average Submitted Charge Amount\",\n",
    "    \"Average Medicare Payment Amount\",\n",
    "    \"Average Medicare Allowed Amount\",\n",
    "    \"Average Medicare Standardized Amount\",\n",
    "    \"HCPCS Code\",\n",
    "    \"Provider Type\",\n",
    "    \"Place of Service\",\n",
    "    \"State Code of the Provider\",\n",
    "    \"Medicare Participation Indicator\",\n",
    "]\n",
    "\n",
    "# Select specified columns\n",
    "df = data[selected_columns].copy()"
   ]
  },
  {
   "cell_type": "code",
   "execution_count": 4,
   "id": "d667b351",
   "metadata": {},
   "outputs": [
    {
     "name": "stdout",
     "output_type": "stream",
     "text": [
      "<class 'pandas.core.frame.DataFrame'>\n",
      "RangeIndex: 100000 entries, 0 to 99999\n",
      "Data columns (total 12 columns):\n",
      " #   Column                                                    Non-Null Count   Dtype \n",
      "---  ------                                                    --------------   ----- \n",
      " 0   Number of Services                                        100000 non-null  object\n",
      " 1   Number of Medicare Beneficiaries                          100000 non-null  object\n",
      " 2   Number of Distinct Medicare Beneficiary/Per Day Services  100000 non-null  object\n",
      " 3   Average Submitted Charge Amount                           100000 non-null  object\n",
      " 4   Average Medicare Payment Amount                           100000 non-null  object\n",
      " 5   Average Medicare Allowed Amount                           100000 non-null  object\n",
      " 6   Average Medicare Standardized Amount                      100000 non-null  object\n",
      " 7   HCPCS Code                                                100000 non-null  object\n",
      " 8   Provider Type                                             100000 non-null  object\n",
      " 9   Place of Service                                          100000 non-null  object\n",
      " 10  State Code of the Provider                                100000 non-null  object\n",
      " 11  Medicare Participation Indicator                          100000 non-null  object\n",
      "dtypes: object(12)\n",
      "memory usage: 9.2+ MB\n"
     ]
    }
   ],
   "source": [
    "df.info()"
   ]
  },
  {
   "cell_type": "code",
   "execution_count": 5,
   "id": "d77db303",
   "metadata": {},
   "outputs": [],
   "source": [
    "# Convert numerical features stored as objects to numeric\n",
    "numerical_object_columns = [\n",
    "    \"Number of Services\",\n",
    "    \"Number of Medicare Beneficiaries\",\n",
    "    \"Number of Distinct Medicare Beneficiary/Per Day Services\",\n",
    "    \"Average Submitted Charge Amount\",\n",
    "    \"Average Medicare Payment Amount\",\n",
    "    \"Average Medicare Allowed Amount\",\n",
    "    \"Average Medicare Standardized Amount\"\n",
    "]"
   ]
  },
  {
   "cell_type": "code",
   "execution_count": 6,
   "id": "584eb891",
   "metadata": {},
   "outputs": [],
   "source": [
    "# Coerce conversion errors to NaN\n",
    "for column in numerical_object_columns:\n",
    "    df[column] = pd.to_numeric(df[column], errors='coerce')\n"
   ]
  },
  {
   "cell_type": "code",
   "execution_count": 7,
   "id": "6f905d1f",
   "metadata": {},
   "outputs": [],
   "source": [
    "# missing_values=df.isnull().sum()\n",
    "# missing_values"
   ]
  },
  {
   "cell_type": "code",
   "execution_count": 8,
   "id": "c7e9d59d",
   "metadata": {},
   "outputs": [],
   "source": [
    "# df['Number_of_Services'].mean()"
   ]
  },
  {
   "cell_type": "code",
   "execution_count": 9,
   "id": "68966131",
   "metadata": {},
   "outputs": [],
   "source": [
    "df.columns=df.columns.str.strip().str.replace(\" \",\"_\")"
   ]
  },
  {
   "cell_type": "markdown",
   "id": "5e3c5818",
   "metadata": {},
   "source": [
    "# Number of Services"
   ]
  },
  {
   "cell_type": "markdown",
   "id": "a2355396",
   "metadata": {},
   "source": [
    "## Suggested Imputation Type: Grouped Median Imputation\n",
    "##### Why?\n",
    "- Provider-Specific Trends: The number of services billed varies significantly by Provider Type. For example, a cardiologist likely performs more services than a podiatrist.\n",
    "- Preserves Data Distribution: Median imputation within groups avoids skewing the data due to outliers.\n",
    "- Efficient and Simple: This approach works well for a large dataset and is computationally inexpensive."
   ]
  },
  {
   "cell_type": "code",
   "execution_count": 10,
   "id": "98d81ce4",
   "metadata": {},
   "outputs": [
    {
     "name": "stdout",
     "output_type": "stream",
     "text": [
      "Missing values before imputation: 2653\n"
     ]
    }
   ],
   "source": [
    "print(\"Missing values before imputation:\", df[\"Number_of_Services\"].isnull().sum())\n"
   ]
  },
  {
   "cell_type": "code",
   "execution_count": 11,
   "id": "e035b53e",
   "metadata": {},
   "outputs": [
    {
     "data": {
      "text/plain": [
       "Provider_Type\n",
       "Diagnostic Radiology                                12537\n",
       "Internal Medicine                                   11366\n",
       "Family Practice                                      9760\n",
       "Nurse Practitioner                                   5713\n",
       "Cardiology                                           4602\n",
       "                                                    ...  \n",
       "Certified Nurse Midwife                                 7\n",
       "Radiation Therapy Center                                3\n",
       "Mammography Center                                      3\n",
       "Pharmacy                                                1\n",
       "Advanced Heart Failure and Transplant Cardiology        1\n",
       "Name: count, Length: 90, dtype: int64"
      ]
     },
     "execution_count": 11,
     "metadata": {},
     "output_type": "execute_result"
    }
   ],
   "source": [
    "df['Provider_Type'].value_counts()"
   ]
  },
  {
   "cell_type": "code",
   "execution_count": 12,
   "id": "a6ce99b4",
   "metadata": {},
   "outputs": [
    {
     "data": {
      "text/plain": [
       "Provider_Type\n",
       "Addiction Medicine                                   50.5\n",
       "Advanced Heart Failure and Transplant Cardiology     81.0\n",
       "All Other Suppliers                                  48.0\n",
       "Allergy/ Immunology                                  52.0\n",
       "Ambulance Service Provider                          126.0\n",
       "                                                    ...  \n",
       "Surgical Oncology                                    37.0\n",
       "Thoracic Surgery                                     23.5\n",
       "Undefined Physician type                             39.0\n",
       "Urology                                              40.0\n",
       "Vascular Surgery                                     33.0\n",
       "Name: Number_of_Services, Length: 90, dtype: float64"
      ]
     },
     "execution_count": 12,
     "metadata": {},
     "output_type": "execute_result"
    }
   ],
   "source": [
    "median_services_by_provider=df.groupby('Provider_Type')[\"Number_of_Services\"].median()\n",
    "median_services_by_provider"
   ]
  },
  {
   "cell_type": "code",
   "execution_count": 13,
   "id": "be9236e4",
   "metadata": {},
   "outputs": [
    {
     "name": "stdout",
     "output_type": "stream",
     "text": [
      "Missing values after imputation: 0\n"
     ]
    }
   ],
   "source": [
    "df['Number_of_Services']=df['Number_of_Services'].fillna(\n",
    "    df.groupby('Provider_Type')['Number_of_Services'].transform(\"median\")\n",
    ")\n",
    "print(\"Missing values after imputation:\", df[\"Number_of_Services\"].isnull().sum())\n"
   ]
  },
  {
   "cell_type": "markdown",
   "id": "28c66677",
   "metadata": {},
   "source": [
    "\n",
    "### For the \"Number of Medicare Beneficiaries\" column with 405 missing values, the imputation strategy should consider the relationship between this column and other relevant features. Here's my recommendation:\n",
    "\n",
    "####  Recommended Imputation Type: Grouped Median Imputation\n",
    "Why?\n",
    "- The Number of Medicare Beneficiaries is often correlated with other columns like Number of Services, Provider Type, and possibly Place of Service.\n",
    "- Grouped median imputation ensures that the imputed values align with realistic expectations for the specific provider's specialty and service characteristics."
   ]
  },
  {
   "cell_type": "code",
   "execution_count": 14,
   "id": "2e4c0cb3",
   "metadata": {},
   "outputs": [
    {
     "name": "stdout",
     "output_type": "stream",
     "text": [
      "Missing values before imputation 405\n"
     ]
    }
   ],
   "source": [
    "print(\"Missing values before imputation\",df['Number_of_Medicare_Beneficiaries'].isnull().sum())"
   ]
  },
  {
   "cell_type": "code",
   "execution_count": 15,
   "id": "97a3f325",
   "metadata": {},
   "outputs": [],
   "source": [
    "median_beneficiaries_by_provider = df.groupby(\"Provider_Type\")[\"Number_of_Medicare_Beneficiaries\"].median()"
   ]
  },
  {
   "cell_type": "code",
   "execution_count": 16,
   "id": "ffce4ff8",
   "metadata": {},
   "outputs": [
    {
     "name": "stdout",
     "output_type": "stream",
     "text": [
      "Missing values after imputation: 0\n"
     ]
    }
   ],
   "source": [
    "df[\"Number_of_Medicare_Beneficiaries\"] = df[\"Number_of_Medicare_Beneficiaries\"].fillna(\n",
    "    df.groupby(\"Provider_Type\")[\"Number_of_Medicare_Beneficiaries\"].transform(\"median\")\n",
    ")\n",
    "\n",
    "print(\"Missing values after imputation:\", df[\"Number_of_Medicare_Beneficiaries\"].isnull().sum())"
   ]
  },
  {
   "cell_type": "markdown",
   "id": "d244bacf",
   "metadata": {},
   "source": [
    "### Recommended Imputation Type: Grouped Median Imputation\n",
    "Why?\n",
    "- The Average Submitted Charge Amount is closely related to specific procedures (HCPCS Code), the provider's specialty (Provider Type), and the Place of Service.\n",
    "- Grouped median imputation ensures imputed values align with realistic expectations for similar services."
   ]
  },
  {
   "cell_type": "code",
   "execution_count": 17,
   "id": "c2603d8b",
   "metadata": {},
   "outputs": [
    {
     "name": "stdout",
     "output_type": "stream",
     "text": [
      "Missing values before imputation: 6723\n",
      "Missing values after imputation: 0\n"
     ]
    }
   ],
   "source": [
    "print(\"Missing values before imputation:\", df[\"Average_Submitted_Charge_Amount\"].isnull().sum())\n",
    "median_charge_by_hcpcs = df.groupby(\"HCPCS_Code\")[\"Average_Submitted_Charge_Amount\"].median()\n",
    "df[\"Average_Submitted_Charge_Amount\"] = df[\"Average_Submitted_Charge_Amount\"].fillna(\n",
    "    df.groupby(\"HCPCS_Code\")[\"Average_Submitted_Charge_Amount\"].transform(\"median\")\n",
    ")\n",
    "overall_median_charge = df[\"Average_Submitted_Charge_Amount\"].median()\n",
    "df[\"Average_Submitted_Charge_Amount\"] = df[\"Average_Submitted_Charge_Amount\"].fillna(overall_median_charge)\n",
    "print(\"Missing values after imputation:\", df[\"Average_Submitted_Charge_Amount\"].isnull().sum())\n"
   ]
  },
  {
   "cell_type": "code",
   "execution_count": 18,
   "id": "970fa975",
   "metadata": {},
   "outputs": [
    {
     "name": "stdout",
     "output_type": "stream",
     "text": [
      "Missing values before imputation: 1500\n",
      "Missing values after imputation: 0\n"
     ]
    }
   ],
   "source": [
    "print(\"Missing values before imputation:\", df[\"Number_of_Distinct_Medicare_Beneficiary/Per_Day_Services\"].isnull().sum())\n",
    "median_beneficiaries_per_day = df.groupby(\"Provider_Type\")[\"Number_of_Distinct_Medicare_Beneficiary/Per_Day_Services\"].median()\n",
    "df[\"Number_of_Distinct_Medicare_Beneficiary/Per_Day_Services\"] = df[\"Number_of_Distinct_Medicare_Beneficiary/Per_Day_Services\"].fillna(\n",
    "    df.groupby(\"Provider_Type\")[\"Number_of_Distinct_Medicare_Beneficiary/Per_Day_Services\"].transform(\"median\")\n",
    ")\n",
    "overall_median_beneficiaries_per_day = df[\"Number_of_Distinct_Medicare_Beneficiary/Per_Day_Services\"].median()\n",
    "df[\"Number_of_Distinct_Medicare_Beneficiary/Per_Day_Services\"] = df[\"Number_of_Distinct_Medicare_Beneficiary/Per_Day_Services\"].fillna(\n",
    "    overall_median_beneficiaries_per_day\n",
    ")\n",
    "print(\"Missing values after imputation:\", df[\"Number_of_Distinct_Medicare_Beneficiary/Per_Day_Services\"].isnull().sum())"
   ]
  },
  {
   "cell_type": "code",
   "execution_count": 19,
   "id": "750085cd",
   "metadata": {},
   "outputs": [
    {
     "name": "stdout",
     "output_type": "stream",
     "text": [
      "Missing values before imputation: 466\n",
      "Missing values after imputation: 0\n"
     ]
    }
   ],
   "source": [
    "print(\"Missing values before imputation:\", df[\"Average_Medicare_Payment_Amount\"].isnull().sum())\n",
    "median_payment_by_hcpcs = df.groupby(\"HCPCS_Code\")[\"Average_Medicare_Payment_Amount\"].median()\n",
    "df[\"Average_Medicare_Payment_Amount\"] = df[\"Average_Medicare_Payment_Amount\"].fillna(\n",
    "    df.groupby(\"HCPCS_Code\")[\"Average_Medicare_Payment_Amount\"].transform(\"median\")\n",
    ")\n",
    "overall_median_payment = df[\"Average_Medicare_Payment_Amount\"].median()\n",
    "df[\"Average_Medicare_Payment_Amount\"] = df[\"Average_Medicare_Payment_Amount\"].fillna(overall_median_payment)\n",
    "print(\"Missing values after imputation:\", df[\"Average_Medicare_Payment_Amount\"].isnull().sum())"
   ]
  },
  {
   "cell_type": "code",
   "execution_count": 20,
   "id": "981d7ab0",
   "metadata": {},
   "outputs": [
    {
     "name": "stdout",
     "output_type": "stream",
     "text": [
      "Missing values before imputation: 745\n",
      "Missing values after imputation: 0\n"
     ]
    }
   ],
   "source": [
    "print(\"Missing values before imputation:\", df[\"Average_Medicare_Allowed_Amount\"].isnull().sum())\n",
    "median_allowed_by_hcpcs = df.groupby(\"HCPCS_Code\")[\"Average_Medicare_Allowed_Amount\"].median()\n",
    "df[\"Average_Medicare_Allowed_Amount\"] = df[\"Average_Medicare_Allowed_Amount\"].fillna(\n",
    "    df.groupby(\"HCPCS_Code\")[\"Average_Medicare_Allowed_Amount\"].transform(\"median\")\n",
    ")\n",
    "overall_median_allowed = df[\"Average_Medicare_Allowed_Amount\"].median()\n",
    "df[\"Average_Medicare_Allowed_Amount\"] = df[\"Average_Medicare_Allowed_Amount\"].fillna(overall_median_allowed)\n",
    "print(\"Missing values after imputation:\", df[\"Average_Medicare_Allowed_Amount\"].isnull().sum())"
   ]
  },
  {
   "cell_type": "code",
   "execution_count": 21,
   "id": "36435b5a",
   "metadata": {},
   "outputs": [
    {
     "name": "stdout",
     "output_type": "stream",
     "text": [
      "Missing values before imputation: 470\n",
      "Missing values after imputation: 0\n"
     ]
    }
   ],
   "source": [
    "print(\"Missing values before imputation:\", df[\"Average_Medicare_Standardized_Amount\"].isnull().sum())\n",
    "median_standardized_by_hcpcs = df.groupby(\"HCPCS_Code\")[\"Average_Medicare_Standardized_Amount\"].median()\n",
    "df[\"Average_Medicare_Standardized_Amount\"] = df[\"Average_Medicare_Standardized_Amount\"].fillna(\n",
    "    df.groupby(\"HCPCS_Code\")[\"Average_Medicare_Standardized_Amount\"].transform(\"median\")\n",
    ")\n",
    "overall_median_standardized = df[\"Average_Medicare_Standardized_Amount\"].median()\n",
    "df[\"Average_Medicare_Standardized_Amount\"] = df[\"Average_Medicare_Standardized_Amount\"].fillna(overall_median_standardized)\n",
    "print(\"Missing values after imputation:\", df[\"Average_Medicare_Standardized_Amount\"].isnull().sum())"
   ]
  },
  {
   "cell_type": "code",
   "execution_count": 22,
   "id": "c390d6d1",
   "metadata": {},
   "outputs": [
    {
     "data": {
      "text/plain": [
       "Number_of_Services                                          0\n",
       "Number_of_Medicare_Beneficiaries                            0\n",
       "Number_of_Distinct_Medicare_Beneficiary/Per_Day_Services    0\n",
       "Average_Submitted_Charge_Amount                             0\n",
       "Average_Medicare_Payment_Amount                             0\n",
       "Average_Medicare_Allowed_Amount                             0\n",
       "Average_Medicare_Standardized_Amount                        0\n",
       "HCPCS_Code                                                  0\n",
       "Provider_Type                                               0\n",
       "Place_of_Service                                            0\n",
       "State_Code_of_the_Provider                                  0\n",
       "Medicare_Participation_Indicator                            0\n",
       "dtype: int64"
      ]
     },
     "execution_count": 22,
     "metadata": {},
     "output_type": "execute_result"
    }
   ],
   "source": [
    "missing_values=df.isnull().sum()\n",
    "missing_values"
   ]
  },
  {
   "cell_type": "code",
   "execution_count": 23,
   "id": "e262af41",
   "metadata": {},
   "outputs": [],
   "source": [
    "original_data=df.copy"
   ]
  },
  {
   "cell_type": "code",
   "execution_count": 24,
   "id": "133a6abf",
   "metadata": {},
   "outputs": [
    {
     "name": "stdout",
     "output_type": "stream",
     "text": [
      "New Derived Features Added:\n"
     ]
    }
   ],
   "source": [
    "df[\"Payment_to_Charge_Ratio\"] = df[\"Average_Medicare_Payment_Amount\"] / df[\"Average_Submitted_Charge_Amount\"]\n",
    "df[\"Allowed_to_Charge_Ratio\"] = df[\"Average_Medicare_Allowed_Amount\"] / df[\"Average_Submitted_Charge_Amount\"]\n",
    "print(\"New Derived Features Added:\")"
   ]
  },
  {
   "cell_type": "code",
   "execution_count": 25,
   "id": "b7dfaaef",
   "metadata": {},
   "outputs": [],
   "source": [
    "original_data=df"
   ]
  },
  {
   "cell_type": "code",
   "execution_count": 26,
   "id": "ccc6a39f",
   "metadata": {},
   "outputs": [
    {
     "data": {
      "text/html": [
       "<div>\n",
       "<style scoped>\n",
       "    .dataframe tbody tr th:only-of-type {\n",
       "        vertical-align: middle;\n",
       "    }\n",
       "\n",
       "    .dataframe tbody tr th {\n",
       "        vertical-align: top;\n",
       "    }\n",
       "\n",
       "    .dataframe thead th {\n",
       "        text-align: right;\n",
       "    }\n",
       "</style>\n",
       "<table border=\"1\" class=\"dataframe\">\n",
       "  <thead>\n",
       "    <tr style=\"text-align: right;\">\n",
       "      <th></th>\n",
       "      <th>Number_of_Services</th>\n",
       "      <th>Number_of_Medicare_Beneficiaries</th>\n",
       "      <th>Number_of_Distinct_Medicare_Beneficiary/Per_Day_Services</th>\n",
       "      <th>Average_Submitted_Charge_Amount</th>\n",
       "      <th>Average_Medicare_Payment_Amount</th>\n",
       "      <th>Average_Medicare_Allowed_Amount</th>\n",
       "      <th>Average_Medicare_Standardized_Amount</th>\n",
       "      <th>HCPCS_Code</th>\n",
       "      <th>Provider_Type</th>\n",
       "      <th>Place_of_Service</th>\n",
       "      <th>State_Code_of_the_Provider</th>\n",
       "      <th>Medicare_Participation_Indicator</th>\n",
       "      <th>Payment_to_Charge_Ratio</th>\n",
       "      <th>Allowed_to_Charge_Ratio</th>\n",
       "    </tr>\n",
       "  </thead>\n",
       "  <tbody>\n",
       "    <tr>\n",
       "      <th>0</th>\n",
       "      <td>27.0</td>\n",
       "      <td>24.0</td>\n",
       "      <td>27.0</td>\n",
       "      <td>305.211111</td>\n",
       "      <td>157.262222</td>\n",
       "      <td>200.587778</td>\n",
       "      <td>160.908889</td>\n",
       "      <td>99223</td>\n",
       "      <td>Internal Medicine</td>\n",
       "      <td>F</td>\n",
       "      <td>MO</td>\n",
       "      <td>Y</td>\n",
       "      <td>0.515257</td>\n",
       "      <td>0.657210</td>\n",
       "    </tr>\n",
       "    <tr>\n",
       "      <th>1</th>\n",
       "      <td>175.0</td>\n",
       "      <td>175.0</td>\n",
       "      <td>175.0</td>\n",
       "      <td>548.800000</td>\n",
       "      <td>118.830000</td>\n",
       "      <td>123.730000</td>\n",
       "      <td>135.315257</td>\n",
       "      <td>G0202</td>\n",
       "      <td>Obstetrics &amp; Gynecology</td>\n",
       "      <td>O</td>\n",
       "      <td>NC</td>\n",
       "      <td>Y</td>\n",
       "      <td>0.216527</td>\n",
       "      <td>0.225456</td>\n",
       "    </tr>\n",
       "    <tr>\n",
       "      <th>2</th>\n",
       "      <td>32.0</td>\n",
       "      <td>13.0</td>\n",
       "      <td>32.0</td>\n",
       "      <td>155.000000</td>\n",
       "      <td>64.439688</td>\n",
       "      <td>90.650000</td>\n",
       "      <td>60.595937</td>\n",
       "      <td>99348</td>\n",
       "      <td>Podiatry</td>\n",
       "      <td>O</td>\n",
       "      <td>CT</td>\n",
       "      <td>Y</td>\n",
       "      <td>0.415740</td>\n",
       "      <td>0.584839</td>\n",
       "    </tr>\n",
       "    <tr>\n",
       "      <th>3</th>\n",
       "      <td>20.0</td>\n",
       "      <td>18.0</td>\n",
       "      <td>20.0</td>\n",
       "      <td>5.000000</td>\n",
       "      <td>3.430000</td>\n",
       "      <td>3.500000</td>\n",
       "      <td>3.430000</td>\n",
       "      <td>81002</td>\n",
       "      <td>Internal Medicine</td>\n",
       "      <td>O</td>\n",
       "      <td>MO</td>\n",
       "      <td>Y</td>\n",
       "      <td>0.686000</td>\n",
       "      <td>0.700000</td>\n",
       "    </tr>\n",
       "    <tr>\n",
       "      <th>4</th>\n",
       "      <td>33.0</td>\n",
       "      <td>24.0</td>\n",
       "      <td>31.0</td>\n",
       "      <td>40.000000</td>\n",
       "      <td>19.539394</td>\n",
       "      <td>26.520000</td>\n",
       "      <td>19.057576</td>\n",
       "      <td>96372</td>\n",
       "      <td>Internal Medicine</td>\n",
       "      <td>O</td>\n",
       "      <td>FL</td>\n",
       "      <td>Y</td>\n",
       "      <td>0.488485</td>\n",
       "      <td>0.663000</td>\n",
       "    </tr>\n",
       "    <tr>\n",
       "      <th>...</th>\n",
       "      <td>...</td>\n",
       "      <td>...</td>\n",
       "      <td>...</td>\n",
       "      <td>...</td>\n",
       "      <td>...</td>\n",
       "      <td>...</td>\n",
       "      <td>...</td>\n",
       "      <td>...</td>\n",
       "      <td>...</td>\n",
       "      <td>...</td>\n",
       "      <td>...</td>\n",
       "      <td>...</td>\n",
       "      <td>...</td>\n",
       "      <td>...</td>\n",
       "    </tr>\n",
       "    <tr>\n",
       "      <th>99995</th>\n",
       "      <td>20.0</td>\n",
       "      <td>20.0</td>\n",
       "      <td>20.0</td>\n",
       "      <td>214.000000</td>\n",
       "      <td>60.725500</td>\n",
       "      <td>85.372500</td>\n",
       "      <td>62.248500</td>\n",
       "      <td>97162</td>\n",
       "      <td>Physical Therapist in Private Practice</td>\n",
       "      <td>O</td>\n",
       "      <td>IL</td>\n",
       "      <td>Y</td>\n",
       "      <td>0.283764</td>\n",
       "      <td>0.398937</td>\n",
       "    </tr>\n",
       "    <tr>\n",
       "      <th>99996</th>\n",
       "      <td>136.0</td>\n",
       "      <td>107.0</td>\n",
       "      <td>136.0</td>\n",
       "      <td>144.051471</td>\n",
       "      <td>30.006176</td>\n",
       "      <td>61.270000</td>\n",
       "      <td>37.040221</td>\n",
       "      <td>99213</td>\n",
       "      <td>Nurse Practitioner</td>\n",
       "      <td>O</td>\n",
       "      <td>OR</td>\n",
       "      <td>Y</td>\n",
       "      <td>0.208302</td>\n",
       "      <td>0.425334</td>\n",
       "    </tr>\n",
       "    <tr>\n",
       "      <th>99997</th>\n",
       "      <td>11.0</td>\n",
       "      <td>11.0</td>\n",
       "      <td>11.0</td>\n",
       "      <td>109.545455</td>\n",
       "      <td>14.090000</td>\n",
       "      <td>17.980000</td>\n",
       "      <td>14.620000</td>\n",
       "      <td>93320</td>\n",
       "      <td>Cardiology</td>\n",
       "      <td>F</td>\n",
       "      <td>MO</td>\n",
       "      <td>Y</td>\n",
       "      <td>0.128622</td>\n",
       "      <td>0.164133</td>\n",
       "    </tr>\n",
       "    <tr>\n",
       "      <th>99998</th>\n",
       "      <td>12.0</td>\n",
       "      <td>12.0</td>\n",
       "      <td>12.0</td>\n",
       "      <td>65.000000</td>\n",
       "      <td>29.930000</td>\n",
       "      <td>30.540000</td>\n",
       "      <td>25.320000</td>\n",
       "      <td>G0008</td>\n",
       "      <td>Internal Medicine</td>\n",
       "      <td>O</td>\n",
       "      <td>NY</td>\n",
       "      <td>Y</td>\n",
       "      <td>0.460462</td>\n",
       "      <td>0.469846</td>\n",
       "    </tr>\n",
       "    <tr>\n",
       "      <th>99999</th>\n",
       "      <td>589.0</td>\n",
       "      <td>76.0</td>\n",
       "      <td>587.0</td>\n",
       "      <td>46.867572</td>\n",
       "      <td>29.736876</td>\n",
       "      <td>38.601053</td>\n",
       "      <td>25.912139</td>\n",
       "      <td>97112</td>\n",
       "      <td>Physical Therapist in Private Practice</td>\n",
       "      <td>O</td>\n",
       "      <td>NY</td>\n",
       "      <td>Y</td>\n",
       "      <td>0.634487</td>\n",
       "      <td>0.823620</td>\n",
       "    </tr>\n",
       "  </tbody>\n",
       "</table>\n",
       "<p>100000 rows × 14 columns</p>\n",
       "</div>"
      ],
      "text/plain": [
       "       Number_of_Services  Number_of_Medicare_Beneficiaries  \\\n",
       "0                    27.0                              24.0   \n",
       "1                   175.0                             175.0   \n",
       "2                    32.0                              13.0   \n",
       "3                    20.0                              18.0   \n",
       "4                    33.0                              24.0   \n",
       "...                   ...                               ...   \n",
       "99995                20.0                              20.0   \n",
       "99996               136.0                             107.0   \n",
       "99997                11.0                              11.0   \n",
       "99998                12.0                              12.0   \n",
       "99999               589.0                              76.0   \n",
       "\n",
       "       Number_of_Distinct_Medicare_Beneficiary/Per_Day_Services  \\\n",
       "0                                                   27.0          \n",
       "1                                                  175.0          \n",
       "2                                                   32.0          \n",
       "3                                                   20.0          \n",
       "4                                                   31.0          \n",
       "...                                                  ...          \n",
       "99995                                               20.0          \n",
       "99996                                              136.0          \n",
       "99997                                               11.0          \n",
       "99998                                               12.0          \n",
       "99999                                              587.0          \n",
       "\n",
       "       Average_Submitted_Charge_Amount  Average_Medicare_Payment_Amount  \\\n",
       "0                           305.211111                       157.262222   \n",
       "1                           548.800000                       118.830000   \n",
       "2                           155.000000                        64.439688   \n",
       "3                             5.000000                         3.430000   \n",
       "4                            40.000000                        19.539394   \n",
       "...                                ...                              ...   \n",
       "99995                       214.000000                        60.725500   \n",
       "99996                       144.051471                        30.006176   \n",
       "99997                       109.545455                        14.090000   \n",
       "99998                        65.000000                        29.930000   \n",
       "99999                        46.867572                        29.736876   \n",
       "\n",
       "       Average_Medicare_Allowed_Amount  Average_Medicare_Standardized_Amount  \\\n",
       "0                           200.587778                            160.908889   \n",
       "1                           123.730000                            135.315257   \n",
       "2                            90.650000                             60.595937   \n",
       "3                             3.500000                              3.430000   \n",
       "4                            26.520000                             19.057576   \n",
       "...                                ...                                   ...   \n",
       "99995                        85.372500                             62.248500   \n",
       "99996                        61.270000                             37.040221   \n",
       "99997                        17.980000                             14.620000   \n",
       "99998                        30.540000                             25.320000   \n",
       "99999                        38.601053                             25.912139   \n",
       "\n",
       "      HCPCS_Code                           Provider_Type Place_of_Service  \\\n",
       "0          99223                       Internal Medicine                F   \n",
       "1          G0202                 Obstetrics & Gynecology                O   \n",
       "2          99348                                Podiatry                O   \n",
       "3          81002                       Internal Medicine                O   \n",
       "4          96372                       Internal Medicine                O   \n",
       "...          ...                                     ...              ...   \n",
       "99995      97162  Physical Therapist in Private Practice                O   \n",
       "99996      99213                      Nurse Practitioner                O   \n",
       "99997      93320                              Cardiology                F   \n",
       "99998      G0008                       Internal Medicine                O   \n",
       "99999      97112  Physical Therapist in Private Practice                O   \n",
       "\n",
       "      State_Code_of_the_Provider Medicare_Participation_Indicator  \\\n",
       "0                             MO                                Y   \n",
       "1                             NC                                Y   \n",
       "2                             CT                                Y   \n",
       "3                             MO                                Y   \n",
       "4                             FL                                Y   \n",
       "...                          ...                              ...   \n",
       "99995                         IL                                Y   \n",
       "99996                         OR                                Y   \n",
       "99997                         MO                                Y   \n",
       "99998                         NY                                Y   \n",
       "99999                         NY                                Y   \n",
       "\n",
       "       Payment_to_Charge_Ratio  Allowed_to_Charge_Ratio  \n",
       "0                     0.515257                 0.657210  \n",
       "1                     0.216527                 0.225456  \n",
       "2                     0.415740                 0.584839  \n",
       "3                     0.686000                 0.700000  \n",
       "4                     0.488485                 0.663000  \n",
       "...                        ...                      ...  \n",
       "99995                 0.283764                 0.398937  \n",
       "99996                 0.208302                 0.425334  \n",
       "99997                 0.128622                 0.164133  \n",
       "99998                 0.460462                 0.469846  \n",
       "99999                 0.634487                 0.823620  \n",
       "\n",
       "[100000 rows x 14 columns]"
      ]
     },
     "execution_count": 26,
     "metadata": {},
     "output_type": "execute_result"
    }
   ],
   "source": [
    "df"
   ]
  },
  {
   "cell_type": "markdown",
   "id": "bd8aa9ea",
   "metadata": {},
   "source": [
    "## Encoding"
   ]
  },
  {
   "cell_type": "code",
   "execution_count": 27,
   "id": "86c503af",
   "metadata": {},
   "outputs": [],
   "source": [
    "from sklearn.preprocessing import OneHotEncoder,OrdinalEncoder\n",
    "from sklearn.feature_extraction import FeatureHasher"
   ]
  },
  {
   "cell_type": "code",
   "execution_count": 28,
   "id": "acac4561",
   "metadata": {},
   "outputs": [],
   "source": [
    "# df.info()"
   ]
  },
  {
   "cell_type": "code",
   "execution_count": 29,
   "id": "71f100b3",
   "metadata": {},
   "outputs": [],
   "source": [
    "data=df"
   ]
  },
  {
   "cell_type": "code",
   "execution_count": 30,
   "id": "5f8b30c1",
   "metadata": {},
   "outputs": [],
   "source": [
    "import pandas as pd\n",
    "from sklearn.preprocessing import OneHotEncoder, OrdinalEncoder\n",
    "from sklearn.feature_extraction import FeatureHasher\n",
    "\n",
    "# Assuming `data` is your dataframe\n",
    "\n",
    "# **1. Frequency Encoding for `Provider_Type` and `State_Code_of_the_Provider`**\n",
    "for column in ['Provider_Type', 'State_Code_of_the_Provider']:\n",
    "    freq_map = data[column].value_counts(normalize=True).to_dict()\n",
    "    data[f'{column}_Freq'] = data[column].map(freq_map)\n",
    "\n",
    "# **2. One-Hot Encoding for `Place_of_Service`**\n",
    "one_hot_encoder = OneHotEncoder(handle_unknown='ignore', sparse_output=False)\n",
    "place_of_service_encoded = one_hot_encoder.fit_transform(data[['Place_of_Service']])\n",
    "# Convert back to DataFrame with proper column names\n",
    "place_of_service_df = pd.DataFrame(place_of_service_encoded, columns=one_hot_encoder.get_feature_names_out(['Place_of_Service']))\n",
    "data = pd.concat([data, place_of_service_df], axis=1)\n",
    "\n",
    "# **3. Binary Encoding for `Medicare_Participation_Indicator`**\n",
    "binary_map = {'Y': 1, 'N': 0}\n",
    "data['Medicare_Participation_Encoded'] = data['Medicare_Participation_Indicator'].map(binary_map)\n",
    "\n",
    "# Correcting FeatureHasher input\n",
    "hasher = FeatureHasher(n_features=10, input_type='string')  # Adjust n_features as needed\n",
    "hashed_features = hasher.transform(data['HCPCS_Code'].astype(str).apply(lambda x: [x]))\n",
    "hashed_features_df = pd.DataFrame(hashed_features.toarray(), columns=[f'HCPCS_Code_Hash_{i}' for i in range(10)])\n",
    "\n",
    "# Add the hashed features to the dataframe\n",
    "data = pd.concat([data, hashed_features_df], axis=1)\n",
    "\n",
    "# Drop the original column\n",
    "data = data.drop(columns=['HCPCS_Code'])\n",
    "\n",
    "# Display the resulting dataset\n",
    "# print(data.head())\n",
    "data_with_allcol = data\n",
    "data = data.drop(columns=['Provider_Type', 'State_Code_of_the_Provider', 'Place_of_Service', 'Medicare_Participation_Indicator'])\n",
    "\n"
   ]
  },
  {
   "cell_type": "code",
   "execution_count": 31,
   "id": "50ba6a62",
   "metadata": {},
   "outputs": [],
   "source": [
    "# data.to_csv(\"Data.csv\")"
   ]
  },
  {
   "cell_type": "code",
   "execution_count": 32,
   "id": "77d6c2f3",
   "metadata": {},
   "outputs": [],
   "source": [
    "import tensorflow as tf\n",
    "from tensorflow.keras.models import Model\n",
    "from tensorflow.keras.layers import Input,Dense\n",
    "from sklearn.preprocessing import StandardScaler"
   ]
  },
  {
   "cell_type": "code",
   "execution_count": 33,
   "id": "c54d3a87",
   "metadata": {},
   "outputs": [],
   "source": [
    "scaler=StandardScaler()"
   ]
  },
  {
   "cell_type": "code",
   "execution_count": 34,
   "id": "8f0e5bfe",
   "metadata": {},
   "outputs": [],
   "source": [
    "normalized_data=scaler.fit_transform(data)"
   ]
  },
  {
   "cell_type": "code",
   "execution_count": 35,
   "id": "23db636e",
   "metadata": {},
   "outputs": [],
   "source": [
    "input_dim=normalized_data.shape[1]"
   ]
  },
  {
   "cell_type": "code",
   "execution_count": 36,
   "id": "a4737b46",
   "metadata": {},
   "outputs": [],
   "source": [
    "from sklearn.model_selection import train_test_split\n",
    "\n",
    "X_train,X_val=train_test_split(normalized_data,test_size=0.2,random_state=42)"
   ]
  },
  {
   "cell_type": "code",
   "execution_count": 37,
   "id": "cb2f1fe0",
   "metadata": {},
   "outputs": [
    {
     "name": "stdout",
     "output_type": "stream",
     "text": [
      "GPU not available. Falling back to CPU.\n"
     ]
    }
   ],
   "source": [
    "physical_devices = tf.config.list_physical_devices('GPU')\n",
    "if physical_devices:\n",
    "    try:\n",
    "        tf.config.experimental.set_memory_growth(physical_devices[0], True)\n",
    "        print(\"GPU is available and will be used.\")\n",
    "    except RuntimeError as e:\n",
    "        print(\"Error enabling GPU memory growth:\", e)\n",
    "else:\n",
    "    print(\"GPU not available. Falling back to CPU.\")"
   ]
  },
  {
   "cell_type": "code",
   "execution_count": 40,
   "id": "fd2e9cb1",
   "metadata": {},
   "outputs": [
    {
     "name": "stdout",
     "output_type": "stream",
     "text": [
      "Epoch 1/100\n",
      "\u001b[1m2165/2188\u001b[0m \u001b[32m━━━━━━━━━━━━━━━━━━━\u001b[0m\u001b[37m━\u001b[0m \u001b[1m0s\u001b[0m 982us/step - loss: 0.9670\n",
      "Epoch 1: val_loss improved from inf to 0.83598, saving model to best_autoencoder.keras\n",
      "Epoch 1: Learning rate is 0.0010000000474974513\n",
      "\u001b[1m2188/2188\u001b[0m \u001b[32m━━━━━━━━━━━━━━━━━━━━\u001b[0m\u001b[37m\u001b[0m \u001b[1m5s\u001b[0m 1ms/step - loss: 0.9664 - val_loss: 0.8360 - learning_rate: 0.0010\n",
      "Epoch 2/100\n",
      "\u001b[1m2157/2188\u001b[0m \u001b[32m━━━━━━━━━━━━━━━━━━━\u001b[0m\u001b[37m━\u001b[0m \u001b[1m0s\u001b[0m 1ms/step - loss: 0.9019\n",
      "Epoch 2: val_loss improved from 0.83598 to 0.82553, saving model to best_autoencoder.keras\n",
      "Epoch 2: Learning rate is 0.0010000000474974513\n",
      "\u001b[1m2188/2188\u001b[0m \u001b[32m━━━━━━━━━━━━━━━━━━━━\u001b[0m\u001b[37m\u001b[0m \u001b[1m3s\u001b[0m 1ms/step - loss: 0.9013 - val_loss: 0.8255 - learning_rate: 0.0010\n",
      "Epoch 3/100\n",
      "\u001b[1m2138/2188\u001b[0m \u001b[32m━━━━━━━━━━━━━━━━━━━\u001b[0m\u001b[37m━\u001b[0m \u001b[1m0s\u001b[0m 1ms/step - loss: 0.8495\n",
      "Epoch 3: val_loss improved from 0.82553 to 0.81604, saving model to best_autoencoder.keras\n",
      "Epoch 3: Learning rate is 0.0010000000474974513\n",
      "\u001b[1m2188/2188\u001b[0m \u001b[32m━━━━━━━━━━━━━━━━━━━━\u001b[0m\u001b[37m\u001b[0m \u001b[1m3s\u001b[0m 1ms/step - loss: 0.8496 - val_loss: 0.8160 - learning_rate: 0.0010\n",
      "Epoch 4/100\n",
      "\u001b[1m2147/2188\u001b[0m \u001b[32m━━━━━━━━━━━━━━━━━━━\u001b[0m\u001b[37m━\u001b[0m \u001b[1m0s\u001b[0m 1ms/step - loss: 0.8261\n",
      "Epoch 4: val_loss improved from 0.81604 to 0.81345, saving model to best_autoencoder.keras\n",
      "Epoch 4: Learning rate is 0.0010000000474974513\n",
      "\u001b[1m2188/2188\u001b[0m \u001b[32m━━━━━━━━━━━━━━━━━━━━\u001b[0m\u001b[37m\u001b[0m \u001b[1m3s\u001b[0m 1ms/step - loss: 0.8265 - val_loss: 0.8135 - learning_rate: 0.0010\n",
      "Epoch 5/100\n",
      "\u001b[1m2139/2188\u001b[0m \u001b[32m━━━━━━━━━━━━━━━━━━━\u001b[0m\u001b[37m━\u001b[0m \u001b[1m0s\u001b[0m 1ms/step - loss: 0.8487\n",
      "Epoch 5: val_loss improved from 0.81345 to 0.81052, saving model to best_autoencoder.keras\n",
      "Epoch 5: Learning rate is 0.0010000000474974513\n",
      "\u001b[1m2188/2188\u001b[0m \u001b[32m━━━━━━━━━━━━━━━━━━━━\u001b[0m\u001b[37m\u001b[0m \u001b[1m3s\u001b[0m 1ms/step - loss: 0.8486 - val_loss: 0.8105 - learning_rate: 0.0010\n",
      "Epoch 6/100\n",
      "\u001b[1m2186/2188\u001b[0m \u001b[32m━━━━━━━━━━━━━━━━━━━\u001b[0m\u001b[37m━\u001b[0m \u001b[1m0s\u001b[0m 1ms/step - loss: 0.8526\n",
      "Epoch 6: val_loss did not improve from 0.81052\n",
      "Epoch 6: Learning rate is 0.0010000000474974513\n",
      "\u001b[1m2188/2188\u001b[0m \u001b[32m━━━━━━━━━━━━━━━━━━━━\u001b[0m\u001b[37m\u001b[0m \u001b[1m3s\u001b[0m 1ms/step - loss: 0.8526 - val_loss: 0.8112 - learning_rate: 0.0010\n",
      "Epoch 7/100\n",
      "\u001b[1m2156/2188\u001b[0m \u001b[32m━━━━━━━━━━━━━━━━━━━\u001b[0m\u001b[37m━\u001b[0m \u001b[1m0s\u001b[0m 1ms/step - loss: 0.8212\n",
      "Epoch 7: val_loss improved from 0.81052 to 0.80690, saving model to best_autoencoder.keras\n",
      "Epoch 7: Learning rate is 0.0010000000474974513\n",
      "\u001b[1m2188/2188\u001b[0m \u001b[32m━━━━━━━━━━━━━━━━━━━━\u001b[0m\u001b[37m\u001b[0m \u001b[1m3s\u001b[0m 1ms/step - loss: 0.8215 - val_loss: 0.8069 - learning_rate: 0.0010\n",
      "Epoch 8/100\n",
      "\u001b[1m2145/2188\u001b[0m \u001b[32m━━━━━━━━━━━━━━━━━━━\u001b[0m\u001b[37m━\u001b[0m \u001b[1m0s\u001b[0m 1ms/step - loss: 0.8208\n",
      "Epoch 8: val_loss improved from 0.80690 to 0.80610, saving model to best_autoencoder.keras\n",
      "Epoch 8: Learning rate is 0.0010000000474974513\n",
      "\u001b[1m2188/2188\u001b[0m \u001b[32m━━━━━━━━━━━━━━━━━━━━\u001b[0m\u001b[37m\u001b[0m \u001b[1m3s\u001b[0m 1ms/step - loss: 0.8212 - val_loss: 0.8061 - learning_rate: 0.0010\n",
      "Epoch 9/100\n",
      "\u001b[1m2168/2188\u001b[0m \u001b[32m━━━━━━━━━━━━━━━━━━━\u001b[0m\u001b[37m━\u001b[0m \u001b[1m0s\u001b[0m 981us/step - loss: 0.8440\n",
      "Epoch 9: val_loss did not improve from 0.80610\n",
      "Epoch 9: Learning rate is 0.0010000000474974513\n",
      "\u001b[1m2188/2188\u001b[0m \u001b[32m━━━━━━━━━━━━━━━━━━━━\u001b[0m\u001b[37m\u001b[0m \u001b[1m3s\u001b[0m 1ms/step - loss: 0.8440 - val_loss: 0.8066 - learning_rate: 0.0010\n",
      "Epoch 10/100\n",
      "\u001b[1m2162/2188\u001b[0m \u001b[32m━━━━━━━━━━━━━━━━━━━\u001b[0m\u001b[37m━\u001b[0m \u001b[1m0s\u001b[0m 982us/step - loss: 0.8385\n",
      "Epoch 10: val_loss improved from 0.80610 to 0.80484, saving model to best_autoencoder.keras\n",
      "Epoch 10: Learning rate is 0.0010000000474974513\n",
      "\u001b[1m2188/2188\u001b[0m \u001b[32m━━━━━━━━━━━━━━━━━━━━\u001b[0m\u001b[37m\u001b[0m \u001b[1m3s\u001b[0m 1ms/step - loss: 0.8385 - val_loss: 0.8048 - learning_rate: 0.0010\n",
      "Epoch 11/100\n",
      "\u001b[1m2142/2188\u001b[0m \u001b[32m━━━━━━━━━━━━━━━━━━━\u001b[0m\u001b[37m━\u001b[0m \u001b[1m0s\u001b[0m 971us/step - loss: 0.8874\n",
      "Epoch 11: val_loss improved from 0.80484 to 0.80405, saving model to best_autoencoder.keras\n",
      "Epoch 11: Learning rate is 0.0010000000474974513\n",
      "\u001b[1m2188/2188\u001b[0m \u001b[32m━━━━━━━━━━━━━━━━━━━━\u001b[0m\u001b[37m\u001b[0m \u001b[1m3s\u001b[0m 1ms/step - loss: 0.8863 - val_loss: 0.8040 - learning_rate: 0.0010\n",
      "Epoch 12/100\n",
      "\u001b[1m2180/2188\u001b[0m \u001b[32m━━━━━━━━━━━━━━━━━━━\u001b[0m\u001b[37m━\u001b[0m \u001b[1m0s\u001b[0m 976us/step - loss: 0.8520\n",
      "Epoch 12: val_loss improved from 0.80405 to 0.80390, saving model to best_autoencoder.keras\n",
      "Epoch 12: Learning rate is 0.0010000000474974513\n",
      "\u001b[1m2188/2188\u001b[0m \u001b[32m━━━━━━━━━━━━━━━━━━━━\u001b[0m\u001b[37m\u001b[0m \u001b[1m3s\u001b[0m 1ms/step - loss: 0.8519 - val_loss: 0.8039 - learning_rate: 0.0010\n",
      "Epoch 13/100\n",
      "\u001b[1m2166/2188\u001b[0m \u001b[32m━━━━━━━━━━━━━━━━━━━\u001b[0m\u001b[37m━\u001b[0m \u001b[1m0s\u001b[0m 1ms/step - loss: 0.8167\n",
      "Epoch 13: val_loss did not improve from 0.80390\n",
      "Epoch 13: Learning rate is 0.0010000000474974513\n",
      "\u001b[1m2188/2188\u001b[0m \u001b[32m━━━━━━━━━━━━━━━━━━━━\u001b[0m\u001b[37m\u001b[0m \u001b[1m3s\u001b[0m 1ms/step - loss: 0.8169 - val_loss: 0.8048 - learning_rate: 0.0010\n",
      "Epoch 14/100\n",
      "\u001b[1m2179/2188\u001b[0m \u001b[32m━━━━━━━━━━━━━━━━━━━\u001b[0m\u001b[37m━\u001b[0m \u001b[1m0s\u001b[0m 975us/step - loss: 0.8415\n",
      "Epoch 14: val_loss did not improve from 0.80390\n",
      "Epoch 14: Learning rate is 0.0010000000474974513\n",
      "\u001b[1m2188/2188\u001b[0m \u001b[32m━━━━━━━━━━━━━━━━━━━━\u001b[0m\u001b[37m\u001b[0m \u001b[1m3s\u001b[0m 1ms/step - loss: 0.8415 - val_loss: 0.8054 - learning_rate: 0.0010\n",
      "Epoch 15/100\n",
      "\u001b[1m2173/2188\u001b[0m \u001b[32m━━━━━━━━━━━━━━━━━━━\u001b[0m\u001b[37m━\u001b[0m \u001b[1m0s\u001b[0m 955us/step - loss: 0.8601\n",
      "Epoch 15: val_loss improved from 0.80390 to 0.80346, saving model to best_autoencoder.keras\n",
      "Epoch 15: Learning rate is 0.0010000000474974513\n",
      "\u001b[1m2188/2188\u001b[0m \u001b[32m━━━━━━━━━━━━━━━━━━━━\u001b[0m\u001b[37m\u001b[0m \u001b[1m3s\u001b[0m 1ms/step - loss: 0.8600 - val_loss: 0.8035 - learning_rate: 0.0010\n",
      "Epoch 16/100\n",
      "\u001b[1m2147/2188\u001b[0m \u001b[32m━━━━━━━━━━━━━━━━━━━\u001b[0m\u001b[37m━\u001b[0m \u001b[1m0s\u001b[0m 1ms/step - loss: 0.8513\n",
      "Epoch 16: val_loss did not improve from 0.80346\n",
      "Epoch 16: Learning rate is 0.0010000000474974513\n",
      "\u001b[1m2188/2188\u001b[0m \u001b[32m━━━━━━━━━━━━━━━━━━━━\u001b[0m\u001b[37m\u001b[0m \u001b[1m3s\u001b[0m 1ms/step - loss: 0.8510 - val_loss: 0.8035 - learning_rate: 0.0010\n",
      "Epoch 17/100\n",
      "\u001b[1m2160/2188\u001b[0m \u001b[32m━━━━━━━━━━━━━━━━━━━\u001b[0m\u001b[37m━\u001b[0m \u001b[1m0s\u001b[0m 985us/step - loss: 0.8171\n",
      "Epoch 17: val_loss improved from 0.80346 to 0.80284, saving model to best_autoencoder.keras\n",
      "Epoch 17: Learning rate is 0.0010000000474974513\n",
      "\u001b[1m2188/2188\u001b[0m \u001b[32m━━━━━━━━━━━━━━━━━━━━\u001b[0m\u001b[37m\u001b[0m \u001b[1m3s\u001b[0m 1ms/step - loss: 0.8173 - val_loss: 0.8028 - learning_rate: 0.0010\n",
      "Epoch 18/100\n",
      "\u001b[1m2152/2188\u001b[0m \u001b[32m━━━━━━━━━━━━━━━━━━━\u001b[0m\u001b[37m━\u001b[0m \u001b[1m0s\u001b[0m 1ms/step - loss: 0.8361\n",
      "Epoch 18: val_loss did not improve from 0.80284\n",
      "Epoch 18: Learning rate is 0.0010000000474974513\n",
      "\u001b[1m2188/2188\u001b[0m \u001b[32m━━━━━━━━━━━━━━━━━━━━\u001b[0m\u001b[37m\u001b[0m \u001b[1m3s\u001b[0m 1ms/step - loss: 0.8361 - val_loss: 0.8037 - learning_rate: 0.0010\n",
      "Epoch 19/100\n",
      "\u001b[1m2153/2188\u001b[0m \u001b[32m━━━━━━━━━━━━━━━━━━━\u001b[0m\u001b[37m━\u001b[0m \u001b[1m0s\u001b[0m 986us/step - loss: 0.8461\n",
      "Epoch 19: val_loss did not improve from 0.80284\n",
      "Epoch 19: Learning rate is 0.0010000000474974513\n",
      "\u001b[1m2188/2188\u001b[0m \u001b[32m━━━━━━━━━━━━━━━━━━━━\u001b[0m\u001b[37m\u001b[0m \u001b[1m3s\u001b[0m 1ms/step - loss: 0.8459 - val_loss: 0.8036 - learning_rate: 0.0010\n",
      "Epoch 20/100\n",
      "\u001b[1m2166/2188\u001b[0m \u001b[32m━━━━━━━━━━━━━━━━━━━\u001b[0m\u001b[37m━\u001b[0m \u001b[1m0s\u001b[0m 1ms/step - loss: 0.8180\n",
      "Epoch 20: ReduceLROnPlateau reducing learning rate to 0.0005000000237487257.\n",
      "\n",
      "Epoch 20: val_loss did not improve from 0.80284\n",
      "Epoch 20: Learning rate is 0.0005000000237487257\n",
      "\u001b[1m2188/2188\u001b[0m \u001b[32m━━━━━━━━━━━━━━━━━━━━\u001b[0m\u001b[37m\u001b[0m \u001b[1m3s\u001b[0m 1ms/step - loss: 0.8181 - val_loss: 0.8032 - learning_rate: 0.0010\n",
      "Epoch 21/100\n",
      "\u001b[1m2166/2188\u001b[0m \u001b[32m━━━━━━━━━━━━━━━━━━━\u001b[0m\u001b[37m━\u001b[0m \u001b[1m0s\u001b[0m 1ms/step - loss: 0.8293\n",
      "Epoch 21: val_loss improved from 0.80284 to 0.80170, saving model to best_autoencoder.keras\n",
      "Epoch 21: Learning rate is 0.0005000000237487257\n",
      "\u001b[1m2188/2188\u001b[0m \u001b[32m━━━━━━━━━━━━━━━━━━━━\u001b[0m\u001b[37m\u001b[0m \u001b[1m3s\u001b[0m 1ms/step - loss: 0.8293 - val_loss: 0.8017 - learning_rate: 5.0000e-04\n",
      "Epoch 22/100\n",
      "\u001b[1m2156/2188\u001b[0m \u001b[32m━━━━━━━━━━━━━━━━━━━\u001b[0m\u001b[37m━\u001b[0m \u001b[1m0s\u001b[0m 1ms/step - loss: 0.8582\n",
      "Epoch 22: val_loss did not improve from 0.80170\n",
      "Epoch 22: Learning rate is 0.0005000000237487257\n",
      "\u001b[1m2188/2188\u001b[0m \u001b[32m━━━━━━━━━━━━━━━━━━━━\u001b[0m\u001b[37m\u001b[0m \u001b[1m3s\u001b[0m 1ms/step - loss: 0.8579 - val_loss: 0.8021 - learning_rate: 5.0000e-04\n",
      "Epoch 23/100\n",
      "\u001b[1m2184/2188\u001b[0m \u001b[32m━━━━━━━━━━━━━━━━━━━\u001b[0m\u001b[37m━\u001b[0m \u001b[1m0s\u001b[0m 1ms/step - loss: 0.8147\n",
      "Epoch 23: val_loss did not improve from 0.80170\n"
     ]
    },
    {
     "name": "stdout",
     "output_type": "stream",
     "text": [
      "Epoch 23: Learning rate is 0.0005000000237487257\n",
      "\u001b[1m2188/2188\u001b[0m \u001b[32m━━━━━━━━━━━━━━━━━━━━\u001b[0m\u001b[37m\u001b[0m \u001b[1m3s\u001b[0m 1ms/step - loss: 0.8147 - val_loss: 0.8020 - learning_rate: 5.0000e-04\n",
      "Epoch 24/100\n",
      "\u001b[1m2141/2188\u001b[0m \u001b[32m━━━━━━━━━━━━━━━━━━━\u001b[0m\u001b[37m━\u001b[0m \u001b[1m0s\u001b[0m 1ms/step - loss: 0.8122\n",
      "Epoch 24: ReduceLROnPlateau reducing learning rate to 0.0002500000118743628.\n",
      "\n",
      "Epoch 24: val_loss did not improve from 0.80170\n",
      "Epoch 24: Learning rate is 0.0002500000118743628\n",
      "\u001b[1m2188/2188\u001b[0m \u001b[32m━━━━━━━━━━━━━━━━━━━━\u001b[0m\u001b[37m\u001b[0m \u001b[1m3s\u001b[0m 1ms/step - loss: 0.8127 - val_loss: 0.8018 - learning_rate: 5.0000e-04\n",
      "Epoch 25/100\n",
      "\u001b[1m2135/2188\u001b[0m \u001b[32m━━━━━━━━━━━━━━━━━━━\u001b[0m\u001b[37m━\u001b[0m \u001b[1m0s\u001b[0m 949us/step - loss: 0.8544\n",
      "Epoch 25: val_loss improved from 0.80170 to 0.80103, saving model to best_autoencoder.keras\n",
      "Epoch 25: Learning rate is 0.0002500000118743628\n",
      "\u001b[1m2188/2188\u001b[0m \u001b[32m━━━━━━━━━━━━━━━━━━━━\u001b[0m\u001b[37m\u001b[0m \u001b[1m3s\u001b[0m 1ms/step - loss: 0.8538 - val_loss: 0.8010 - learning_rate: 2.5000e-04\n",
      "Epoch 26/100\n",
      "\u001b[1m2167/2188\u001b[0m \u001b[32m━━━━━━━━━━━━━━━━━━━\u001b[0m\u001b[37m━\u001b[0m \u001b[1m0s\u001b[0m 956us/step - loss: 0.8109\n",
      "Epoch 26: val_loss did not improve from 0.80103\n",
      "Epoch 26: Learning rate is 0.0002500000118743628\n",
      "\u001b[1m2188/2188\u001b[0m \u001b[32m━━━━━━━━━━━━━━━━━━━━\u001b[0m\u001b[37m\u001b[0m \u001b[1m3s\u001b[0m 1ms/step - loss: 0.8111 - val_loss: 0.8016 - learning_rate: 2.5000e-04\n",
      "Epoch 27/100\n",
      "\u001b[1m2157/2188\u001b[0m \u001b[32m━━━━━━━━━━━━━━━━━━━\u001b[0m\u001b[37m━\u001b[0m \u001b[1m0s\u001b[0m 963us/step - loss: 0.8185\n",
      "Epoch 27: val_loss did not improve from 0.80103\n",
      "Epoch 27: Learning rate is 0.0002500000118743628\n",
      "\u001b[1m2188/2188\u001b[0m \u001b[32m━━━━━━━━━━━━━━━━━━━━\u001b[0m\u001b[37m\u001b[0m \u001b[1m3s\u001b[0m 1ms/step - loss: 0.8187 - val_loss: 0.8016 - learning_rate: 2.5000e-04\n",
      "Epoch 28/100\n",
      "\u001b[1m2187/2188\u001b[0m \u001b[32m━━━━━━━━━━━━━━━━━━━\u001b[0m\u001b[37m━\u001b[0m \u001b[1m0s\u001b[0m 949us/step - loss: 0.8466\n",
      "Epoch 28: ReduceLROnPlateau reducing learning rate to 0.0001250000059371814.\n",
      "\n",
      "Epoch 28: val_loss did not improve from 0.80103\n",
      "Epoch 28: Learning rate is 0.0001250000059371814\n",
      "\u001b[1m2188/2188\u001b[0m \u001b[32m━━━━━━━━━━━━━━━━━━━━\u001b[0m\u001b[37m\u001b[0m \u001b[1m3s\u001b[0m 1ms/step - loss: 0.8466 - val_loss: 0.8011 - learning_rate: 2.5000e-04\n",
      "Epoch 29/100\n",
      "\u001b[1m2149/2188\u001b[0m \u001b[32m━━━━━━━━━━━━━━━━━━━\u001b[0m\u001b[37m━\u001b[0m \u001b[1m0s\u001b[0m 990us/step - loss: 0.8473\n",
      "Epoch 29: val_loss improved from 0.80103 to 0.80098, saving model to best_autoencoder.keras\n",
      "Epoch 29: Learning rate is 0.0001250000059371814\n",
      "\u001b[1m2188/2188\u001b[0m \u001b[32m━━━━━━━━━━━━━━━━━━━━\u001b[0m\u001b[37m\u001b[0m \u001b[1m3s\u001b[0m 1ms/step - loss: 0.8471 - val_loss: 0.8010 - learning_rate: 1.2500e-04\n",
      "Epoch 30/100\n",
      "\u001b[1m2185/2188\u001b[0m \u001b[32m━━━━━━━━━━━━━━━━━━━\u001b[0m\u001b[37m━\u001b[0m \u001b[1m0s\u001b[0m 973us/step - loss: 0.8247\n",
      "Epoch 30: val_loss did not improve from 0.80098\n",
      "Epoch 30: Learning rate is 0.0001250000059371814\n",
      "\u001b[1m2188/2188\u001b[0m \u001b[32m━━━━━━━━━━━━━━━━━━━━\u001b[0m\u001b[37m\u001b[0m \u001b[1m3s\u001b[0m 1ms/step - loss: 0.8247 - val_loss: 0.8011 - learning_rate: 1.2500e-04\n",
      "Epoch 31/100\n",
      "\u001b[1m2154/2188\u001b[0m \u001b[32m━━━━━━━━━━━━━━━━━━━\u001b[0m\u001b[37m━\u001b[0m \u001b[1m0s\u001b[0m 964us/step - loss: 0.8240\n",
      "Epoch 31: val_loss improved from 0.80098 to 0.80092, saving model to best_autoencoder.keras\n",
      "Epoch 31: Learning rate is 0.0001250000059371814\n",
      "\u001b[1m2188/2188\u001b[0m \u001b[32m━━━━━━━━━━━━━━━━━━━━\u001b[0m\u001b[37m\u001b[0m \u001b[1m3s\u001b[0m 1ms/step - loss: 0.8242 - val_loss: 0.8009 - learning_rate: 1.2500e-04\n",
      "Epoch 32/100\n",
      "\u001b[1m2149/2188\u001b[0m \u001b[32m━━━━━━━━━━━━━━━━━━━\u001b[0m\u001b[37m━\u001b[0m \u001b[1m0s\u001b[0m 1ms/step - loss: 0.8405\n",
      "Epoch 32: val_loss improved from 0.80092 to 0.80088, saving model to best_autoencoder.keras\n",
      "Epoch 32: Learning rate is 0.0001250000059371814\n",
      "\u001b[1m2188/2188\u001b[0m \u001b[32m━━━━━━━━━━━━━━━━━━━━\u001b[0m\u001b[37m\u001b[0m \u001b[1m3s\u001b[0m 1ms/step - loss: 0.8404 - val_loss: 0.8009 - learning_rate: 1.2500e-04\n",
      "Epoch 33/100\n",
      "\u001b[1m2168/2188\u001b[0m \u001b[32m━━━━━━━━━━━━━━━━━━━\u001b[0m\u001b[37m━\u001b[0m \u001b[1m0s\u001b[0m 1ms/step - loss: 0.8474\n",
      "Epoch 33: val_loss did not improve from 0.80088\n",
      "Epoch 33: Learning rate is 0.0001250000059371814\n",
      "\u001b[1m2188/2188\u001b[0m \u001b[32m━━━━━━━━━━━━━━━━━━━━\u001b[0m\u001b[37m\u001b[0m \u001b[1m3s\u001b[0m 1ms/step - loss: 0.8472 - val_loss: 0.8011 - learning_rate: 1.2500e-04\n",
      "Epoch 34/100\n",
      "\u001b[1m2144/2188\u001b[0m \u001b[32m━━━━━━━━━━━━━━━━━━━\u001b[0m\u001b[37m━\u001b[0m \u001b[1m0s\u001b[0m 1ms/step - loss: 0.8485\n",
      "Epoch 34: ReduceLROnPlateau reducing learning rate to 6.25000029685907e-05.\n",
      "\n",
      "Epoch 34: val_loss did not improve from 0.80088\n",
      "Epoch 34: Learning rate is 6.25000029685907e-05\n",
      "\u001b[1m2188/2188\u001b[0m \u001b[32m━━━━━━━━━━━━━━━━━━━━\u001b[0m\u001b[37m\u001b[0m \u001b[1m3s\u001b[0m 1ms/step - loss: 0.8482 - val_loss: 0.8011 - learning_rate: 1.2500e-04\n",
      "Epoch 35/100\n",
      "\u001b[1m2168/2188\u001b[0m \u001b[32m━━━━━━━━━━━━━━━━━━━\u001b[0m\u001b[37m━\u001b[0m \u001b[1m0s\u001b[0m 1ms/step - loss: 0.8324\n",
      "Epoch 35: val_loss improved from 0.80088 to 0.80074, saving model to best_autoencoder.keras\n",
      "Epoch 35: Learning rate is 6.25000029685907e-05\n",
      "\u001b[1m2188/2188\u001b[0m \u001b[32m━━━━━━━━━━━━━━━━━━━━\u001b[0m\u001b[37m\u001b[0m \u001b[1m3s\u001b[0m 1ms/step - loss: 0.8324 - val_loss: 0.8007 - learning_rate: 6.2500e-05\n",
      "Epoch 36/100\n",
      "\u001b[1m2156/2188\u001b[0m \u001b[32m━━━━━━━━━━━━━━━━━━━\u001b[0m\u001b[37m━\u001b[0m \u001b[1m0s\u001b[0m 1ms/step - loss: 0.8102\n",
      "Epoch 36: val_loss improved from 0.80074 to 0.80067, saving model to best_autoencoder.keras\n",
      "Epoch 36: Learning rate is 6.25000029685907e-05\n",
      "\u001b[1m2188/2188\u001b[0m \u001b[32m━━━━━━━━━━━━━━━━━━━━\u001b[0m\u001b[37m\u001b[0m \u001b[1m3s\u001b[0m 1ms/step - loss: 0.8106 - val_loss: 0.8007 - learning_rate: 6.2500e-05\n",
      "Epoch 37/100\n",
      "\u001b[1m2180/2188\u001b[0m \u001b[32m━━━━━━━━━━━━━━━━━━━\u001b[0m\u001b[37m━\u001b[0m \u001b[1m0s\u001b[0m 1ms/step - loss: 0.8059\n",
      "Epoch 37: val_loss did not improve from 0.80067\n",
      "Epoch 37: Learning rate is 6.25000029685907e-05\n",
      "\u001b[1m2188/2188\u001b[0m \u001b[32m━━━━━━━━━━━━━━━━━━━━\u001b[0m\u001b[37m\u001b[0m \u001b[1m3s\u001b[0m 1ms/step - loss: 0.8060 - val_loss: 0.8008 - learning_rate: 6.2500e-05\n",
      "Epoch 38/100\n",
      "\u001b[1m2142/2188\u001b[0m \u001b[32m━━━━━━━━━━━━━━━━━━━\u001b[0m\u001b[37m━\u001b[0m \u001b[1m0s\u001b[0m 1ms/step - loss: 0.8208\n",
      "Epoch 38: ReduceLROnPlateau reducing learning rate to 3.125000148429535e-05.\n",
      "\n",
      "Epoch 38: val_loss did not improve from 0.80067\n",
      "Epoch 38: Learning rate is 3.125000148429535e-05\n",
      "\u001b[1m2188/2188\u001b[0m \u001b[32m━━━━━━━━━━━━━━━━━━━━\u001b[0m\u001b[37m\u001b[0m \u001b[1m3s\u001b[0m 1ms/step - loss: 0.8211 - val_loss: 0.8007 - learning_rate: 6.2500e-05\n",
      "Epoch 39/100\n",
      "\u001b[1m2182/2188\u001b[0m \u001b[32m━━━━━━━━━━━━━━━━━━━\u001b[0m\u001b[37m━\u001b[0m \u001b[1m0s\u001b[0m 1ms/step - loss: 0.8528\n",
      "Epoch 39: val_loss did not improve from 0.80067\n",
      "Epoch 39: Learning rate is 3.125000148429535e-05\n",
      "\u001b[1m2188/2188\u001b[0m \u001b[32m━━━━━━━━━━━━━━━━━━━━\u001b[0m\u001b[37m\u001b[0m \u001b[1m3s\u001b[0m 1ms/step - loss: 0.8527 - val_loss: 0.8008 - learning_rate: 3.1250e-05\n",
      "Epoch 40/100\n",
      "\u001b[1m2171/2188\u001b[0m \u001b[32m━━━━━━━━━━━━━━━━━━━\u001b[0m\u001b[37m━\u001b[0m \u001b[1m0s\u001b[0m 1ms/step - loss: 0.8346\n",
      "Epoch 40: val_loss did not improve from 0.80067\n",
      "Epoch 40: Learning rate is 3.125000148429535e-05\n",
      "\u001b[1m2188/2188\u001b[0m \u001b[32m━━━━━━━━━━━━━━━━━━━━\u001b[0m\u001b[37m\u001b[0m \u001b[1m3s\u001b[0m 1ms/step - loss: 0.8346 - val_loss: 0.8008 - learning_rate: 3.1250e-05\n",
      "Epoch 41/100\n",
      "\u001b[1m2181/2188\u001b[0m \u001b[32m━━━━━━━━━━━━━━━━━━━\u001b[0m\u001b[37m━\u001b[0m \u001b[1m0s\u001b[0m 1ms/step - loss: 0.8430\n",
      "Epoch 41: ReduceLROnPlateau reducing learning rate to 1.5625000742147677e-05.\n",
      "\n",
      "Epoch 41: val_loss did not improve from 0.80067\n",
      "Epoch 41: Learning rate is 1.5625000742147677e-05\n",
      "\u001b[1m2188/2188\u001b[0m \u001b[32m━━━━━━━━━━━━━━━━━━━━\u001b[0m\u001b[37m\u001b[0m \u001b[1m3s\u001b[0m 1ms/step - loss: 0.8430 - val_loss: 0.8007 - learning_rate: 3.1250e-05\n"
     ]
    }
   ],
   "source": [
    "from tensorflow.keras.models import Model\n",
    "from tensorflow.keras.layers import Input, Dense, Dropout\n",
    "from tensorflow.keras.regularizers import l2\n",
    "from tensorflow.keras.callbacks import EarlyStopping, ReduceLROnPlateau, ModelCheckpoint, Callback\n",
    "import tensorflow as tf\n",
    "\n",
    "# Define the autoencoder architecture\n",
    "# Make encoding_dim a tunable parameter\n",
    "def create_autoencoder(encoding_dim=16):\n",
    "    input_layer = Input(shape=(normalized_data.shape[1],))\n",
    "    encoded = Dense(64, activation='relu', kernel_regularizer=l2(0.001))(input_layer)\n",
    "    encoded = Dropout(0.2)(encoded)  # Dropout to prevent overfitting\n",
    "    encoded = Dense(32, activation='relu', kernel_regularizer=l2(0.001))(encoded)\n",
    "    encoded = Dense(encoding_dim, activation='relu', kernel_regularizer=l2(0.001))(encoded)  # Bottleneck layer\n",
    "\n",
    "    decoded = Dense(32, activation='relu', kernel_regularizer=l2(0.001))(encoded)\n",
    "    decoded = Dense(64, activation='relu', kernel_regularizer=l2(0.001))(decoded)\n",
    "    decoded = Dense(normalized_data.shape[1], activation='sigmoid', kernel_regularizer=l2(0.001))(decoded)\n",
    "\n",
    "    # Build the autoencoder model\n",
    "    autoencoder = Model(inputs=input_layer, outputs=decoded)\n",
    "\n",
    "    return autoencoder\n",
    "\n",
    "# Create the autoencoder model with a tunable encoding dimension\n",
    "autoencoder = create_autoencoder(encoding_dim=16)\n",
    "\n",
    "# Compile the model\n",
    "autoencoder.compile(optimizer='adam', loss='mse')\n",
    "\n",
    "# Define callbacks\n",
    "early_stopping = EarlyStopping(\n",
    "    monitor='val_loss',\n",
    "    patience=5,\n",
    "    restore_best_weights=True\n",
    ")\n",
    "\n",
    "reduce_lr = ReduceLROnPlateau(\n",
    "    monitor='val_loss',\n",
    "    factor=0.5,\n",
    "    patience=3,\n",
    "    min_lr=1e-6,\n",
    "    verbose=1\n",
    ")\n",
    "\n",
    "# Log learning rate changes\n",
    "class LoggingLearningRateCallback(Callback):\n",
    "    def on_epoch_end(self, epoch, logs=None):\n",
    "        lr = tf.keras.backend.get_value(self.model.optimizer.learning_rate)\n",
    "        print(f\"Epoch {epoch + 1}: Learning rate is {lr}\")\n",
    "\n",
    "logging_lr_callback = LoggingLearningRateCallback()\n",
    "\n",
    "model_checkpoint = ModelCheckpoint(\n",
    "    filepath='best_autoencoder.keras',\n",
    "    monitor='val_loss',\n",
    "    save_best_only=True,\n",
    "    verbose=1\n",
    ")\n",
    "\n",
    "# Train the model\n",
    "history = autoencoder.fit(\n",
    "    x=normalized_data,\n",
    "    y=normalized_data,\n",
    "    epochs=100,\n",
    "    batch_size=32,\n",
    "    validation_split=0.3,\n",
    "    callbacks=[early_stopping, reduce_lr, model_checkpoint, logging_lr_callback]\n",
    ")\n"
   ]
  },
  {
   "cell_type": "code",
   "execution_count": 40,
   "id": "8ef34d25",
   "metadata": {},
   "outputs": [
    {
     "data": {
      "image/png": "[encoded data removed]",
      "text/plain": [
       "<Figure size 1000x600 with 1 Axes>"
      ]
     },
     "metadata": {},
     "output_type": "display_data"
    }
   ],
   "source": [
    "import matplotlib.pyplot as plt\n",
    "\n",
    "# Extract loss values for training and validation\n",
    "train_loss = history.history['loss']\n",
    "val_loss = history.history['val_loss']\n",
    "\n",
    "# Plot the training and validation loss\n",
    "plt.figure(figsize=(10, 6))\n",
    "plt.plot(train_loss, label='Training Loss')\n",
    "plt.plot(val_loss, label='Validation Loss')\n",
    "plt.xlabel('Epochs')\n",
    "plt.ylabel('Mean Squared Error (Loss)')\n",
    "plt.title('Training and Validation Loss')\n",
    "plt.legend()\n",
    "plt.grid(True)\n",
    "plt.show()\n"
   ]
  },
  {
   "cell_type": "code",
   "execution_count": 44,
   "id": "dd7c59fe",
   "metadata": {},
   "outputs": [
    {
     "name": "stdout",
     "output_type": "stream",
     "text": [
      "\u001b[1m3125/3125\u001b[0m \u001b[32m━━━━━━━━━━━━━━━━━━━━\u001b[0m\u001b[37m\u001b[0m \u001b[1m2s\u001b[0m 765us/step\n",
      "Reconstruction Errors: [0.44328032 0.75625038 0.61048257 ... 0.47814232 0.35934555 0.84410111]\n"
     ]
    }
   ],
   "source": [
    "predictions = autoencoder.predict(normalized_data)\n",
    "\n",
    "# Evaluate reconstruction errors\n",
    "reconstruction_errors = np.mean(np.square(normalized_data - predictions), axis=1)\n",
    "\n",
    "print(\"Reconstruction Errors:\", reconstruction_errors)\n"
   ]
  },
  {
   "cell_type": "code",
   "execution_count": 45,
   "id": "797ebc9d",
   "metadata": {},
   "outputs": [],
   "source": [
    "df['Error']=reconstruction_errors"
   ]
  },
  {
   "cell_type": "code",
   "execution_count": 51,
   "id": "e2017140",
   "metadata": {},
   "outputs": [
    {
     "data": {
      "text/plain": [
       "array([0.44328032, 0.75625038, 0.61048257, ..., 0.47814232, 0.35934555,\n",
       "       0.84410111])"
      ]
     },
     "execution_count": 51,
     "metadata": {},
     "output_type": "execute_result"
    }
   ],
   "source": [
    "reconstruction_errors"
   ]
  },
  {
   "cell_type": "code",
   "execution_count": 71,
   "id": "6209b232",
   "metadata": {},
   "outputs": [
    {
     "name": "stdout",
     "output_type": "stream",
     "text": [
      "Anomaly detection threshold: 1.2657034931652982\n"
     ]
    }
   ],
   "source": [
    "threshold = np.percentile(reconstruction_errors, 95)\n",
    "print(f\"Anomaly detection threshold: {threshold}\")"
   ]
  },
  {
   "cell_type": "code",
   "execution_count": 72,
   "id": "c7c14d6f",
   "metadata": {},
   "outputs": [],
   "source": [
    "data_with_all_col['flag']=(reconstruction_errors > threshold).astype(int)"
   ]
  },
  {
   "cell_type": "code",
   "execution_count": 73,
   "id": "c96efcee",
   "metadata": {},
   "outputs": [],
   "source": [
    "data_with_all_col['Error']=reconstruction_errors"
   ]
  },
  {
   "cell_type": "code",
   "execution_count": 78,
   "id": "ffa9a7e9",
   "metadata": {},
   "outputs": [],
   "source": [
    "data_with_all_col['flag'].value_counts()\n",
    "data_with_all_col.to_csv('all_coll_data.csv')"
   ]
  },
  {
   "cell_type": "code",
   "execution_count": 44,
   "id": "0a2286c1",
   "metadata": {},
   "outputs": [
    {
     "data": {
      "text/plain": [
       "Anomaly_Flag\n",
       "0    95000\n",
       "1     5000\n",
       "Name: count, dtype: int64"
      ]
     },
     "execution_count": 44,
     "metadata": {},
     "output_type": "execute_result"
    }
   ],
   "source": [
    "original_data['Anomaly_Flag'].value_counts()"
   ]
  },
  {
   "cell_type": "code",
   "execution_count": 138,
   "id": "1d46d5ad",
   "metadata": {},
   "outputs": [],
   "source": [
    "# original_data.to_csv(\"predicted_data.csv\")"
   ]
  },
  {
   "cell_type": "code",
   "execution_count": 139,
   "id": "6bdefb9f",
   "metadata": {},
   "outputs": [
    {
     "data": {
      "text/html": [
       "<div>\n",
       "<style scoped>\n",
       "    .dataframe tbody tr th:only-of-type {\n",
       "        vertical-align: middle;\n",
       "    }\n",
       "\n",
       "    .dataframe tbody tr th {\n",
       "        vertical-align: top;\n",
       "    }\n",
       "\n",
       "    .dataframe thead th {\n",
       "        text-align: right;\n",
       "    }\n",
       "</style>\n",
       "<table border=\"1\" class=\"dataframe\">\n",
       "  <thead>\n",
       "    <tr style=\"text-align: right;\">\n",
       "      <th></th>\n",
       "      <th>Number_of_Services</th>\n",
       "      <th>Number_of_Medicare_Beneficiaries</th>\n",
       "      <th>Number_of_Distinct_Medicare_Beneficiary/Per_Day_Services</th>\n",
       "      <th>Average_Submitted_Charge_Amount</th>\n",
       "      <th>Average_Medicare_Payment_Amount</th>\n",
       "      <th>Average_Medicare_Allowed_Amount</th>\n",
       "      <th>Average_Medicare_Standardized_Amount</th>\n",
       "      <th>HCPCS_Code</th>\n",
       "      <th>Provider_Type</th>\n",
       "      <th>Place_of_Service</th>\n",
       "      <th>State_Code_of_the_Provider</th>\n",
       "      <th>Medicare_Participation_Indicator</th>\n",
       "      <th>Payment_to_Charge_Ratio</th>\n",
       "      <th>Allowed_to_Charge_Ratio</th>\n",
       "      <th>Anomaly_Flag</th>\n",
       "    </tr>\n",
       "  </thead>\n",
       "  <tbody>\n",
       "    <tr>\n",
       "      <th>0</th>\n",
       "      <td>27.0</td>\n",
       "      <td>24.0</td>\n",
       "      <td>27.0</td>\n",
       "      <td>305.211111</td>\n",
       "      <td>157.262222</td>\n",
       "      <td>200.587778</td>\n",
       "      <td>160.908889</td>\n",
       "      <td>99223</td>\n",
       "      <td>Internal Medicine</td>\n",
       "      <td>F</td>\n",
       "      <td>MO</td>\n",
       "      <td>Y</td>\n",
       "      <td>0.515257</td>\n",
       "      <td>0.657210</td>\n",
       "      <td>0</td>\n",
       "    </tr>\n",
       "    <tr>\n",
       "      <th>1</th>\n",
       "      <td>175.0</td>\n",
       "      <td>175.0</td>\n",
       "      <td>175.0</td>\n",
       "      <td>548.800000</td>\n",
       "      <td>118.830000</td>\n",
       "      <td>123.730000</td>\n",
       "      <td>135.315257</td>\n",
       "      <td>G0202</td>\n",
       "      <td>Obstetrics &amp; Gynecology</td>\n",
       "      <td>O</td>\n",
       "      <td>NC</td>\n",
       "      <td>Y</td>\n",
       "      <td>0.216527</td>\n",
       "      <td>0.225456</td>\n",
       "      <td>0</td>\n",
       "    </tr>\n",
       "    <tr>\n",
       "      <th>2</th>\n",
       "      <td>32.0</td>\n",
       "      <td>13.0</td>\n",
       "      <td>32.0</td>\n",
       "      <td>155.000000</td>\n",
       "      <td>64.439688</td>\n",
       "      <td>90.650000</td>\n",
       "      <td>60.595937</td>\n",
       "      <td>99348</td>\n",
       "      <td>Podiatry</td>\n",
       "      <td>O</td>\n",
       "      <td>CT</td>\n",
       "      <td>Y</td>\n",
       "      <td>0.415740</td>\n",
       "      <td>0.584839</td>\n",
       "      <td>0</td>\n",
       "    </tr>\n",
       "    <tr>\n",
       "      <th>3</th>\n",
       "      <td>20.0</td>\n",
       "      <td>18.0</td>\n",
       "      <td>20.0</td>\n",
       "      <td>5.000000</td>\n",
       "      <td>3.430000</td>\n",
       "      <td>3.500000</td>\n",
       "      <td>3.430000</td>\n",
       "      <td>81002</td>\n",
       "      <td>Internal Medicine</td>\n",
       "      <td>O</td>\n",
       "      <td>MO</td>\n",
       "      <td>Y</td>\n",
       "      <td>0.686000</td>\n",
       "      <td>0.700000</td>\n",
       "      <td>0</td>\n",
       "    </tr>\n",
       "    <tr>\n",
       "      <th>4</th>\n",
       "      <td>33.0</td>\n",
       "      <td>24.0</td>\n",
       "      <td>31.0</td>\n",
       "      <td>40.000000</td>\n",
       "      <td>19.539394</td>\n",
       "      <td>26.520000</td>\n",
       "      <td>19.057576</td>\n",
       "      <td>96372</td>\n",
       "      <td>Internal Medicine</td>\n",
       "      <td>O</td>\n",
       "      <td>FL</td>\n",
       "      <td>Y</td>\n",
       "      <td>0.488485</td>\n",
       "      <td>0.663000</td>\n",
       "      <td>0</td>\n",
       "    </tr>\n",
       "    <tr>\n",
       "      <th>...</th>\n",
       "      <td>...</td>\n",
       "      <td>...</td>\n",
       "      <td>...</td>\n",
       "      <td>...</td>\n",
       "      <td>...</td>\n",
       "      <td>...</td>\n",
       "      <td>...</td>\n",
       "      <td>...</td>\n",
       "      <td>...</td>\n",
       "      <td>...</td>\n",
       "      <td>...</td>\n",
       "      <td>...</td>\n",
       "      <td>...</td>\n",
       "      <td>...</td>\n",
       "      <td>...</td>\n",
       "    </tr>\n",
       "    <tr>\n",
       "      <th>99995</th>\n",
       "      <td>20.0</td>\n",
       "      <td>20.0</td>\n",
       "      <td>20.0</td>\n",
       "      <td>214.000000</td>\n",
       "      <td>60.725500</td>\n",
       "      <td>85.372500</td>\n",
       "      <td>62.248500</td>\n",
       "      <td>97162</td>\n",
       "      <td>Physical Therapist in Private Practice</td>\n",
       "      <td>O</td>\n",
       "      <td>IL</td>\n",
       "      <td>Y</td>\n",
       "      <td>0.283764</td>\n",
       "      <td>0.398937</td>\n",
       "      <td>0</td>\n",
       "    </tr>\n",
       "    <tr>\n",
       "      <th>99996</th>\n",
       "      <td>136.0</td>\n",
       "      <td>107.0</td>\n",
       "      <td>136.0</td>\n",
       "      <td>144.051471</td>\n",
       "      <td>30.006176</td>\n",
       "      <td>61.270000</td>\n",
       "      <td>37.040221</td>\n",
       "      <td>99213</td>\n",
       "      <td>Nurse Practitioner</td>\n",
       "      <td>O</td>\n",
       "      <td>OR</td>\n",
       "      <td>Y</td>\n",
       "      <td>0.208302</td>\n",
       "      <td>0.425334</td>\n",
       "      <td>0</td>\n",
       "    </tr>\n",
       "    <tr>\n",
       "      <th>99997</th>\n",
       "      <td>11.0</td>\n",
       "      <td>11.0</td>\n",
       "      <td>11.0</td>\n",
       "      <td>109.545455</td>\n",
       "      <td>14.090000</td>\n",
       "      <td>17.980000</td>\n",
       "      <td>14.620000</td>\n",
       "      <td>93320</td>\n",
       "      <td>Cardiology</td>\n",
       "      <td>F</td>\n",
       "      <td>MO</td>\n",
       "      <td>Y</td>\n",
       "      <td>0.128622</td>\n",
       "      <td>0.164133</td>\n",
       "      <td>0</td>\n",
       "    </tr>\n",
       "    <tr>\n",
       "      <th>99998</th>\n",
       "      <td>12.0</td>\n",
       "      <td>12.0</td>\n",
       "      <td>12.0</td>\n",
       "      <td>65.000000</td>\n",
       "      <td>29.930000</td>\n",
       "      <td>30.540000</td>\n",
       "      <td>25.320000</td>\n",
       "      <td>G0008</td>\n",
       "      <td>Internal Medicine</td>\n",
       "      <td>O</td>\n",
       "      <td>NY</td>\n",
       "      <td>Y</td>\n",
       "      <td>0.460462</td>\n",
       "      <td>0.469846</td>\n",
       "      <td>0</td>\n",
       "    </tr>\n",
       "    <tr>\n",
       "      <th>99999</th>\n",
       "      <td>589.0</td>\n",
       "      <td>76.0</td>\n",
       "      <td>587.0</td>\n",
       "      <td>46.867572</td>\n",
       "      <td>29.736876</td>\n",
       "      <td>38.601053</td>\n",
       "      <td>25.912139</td>\n",
       "      <td>97112</td>\n",
       "      <td>Physical Therapist in Private Practice</td>\n",
       "      <td>O</td>\n",
       "      <td>NY</td>\n",
       "      <td>Y</td>\n",
       "      <td>0.634487</td>\n",
       "      <td>0.823620</td>\n",
       "      <td>0</td>\n",
       "    </tr>\n",
       "  </tbody>\n",
       "</table>\n",
       "<p>100000 rows × 15 columns</p>\n",
       "</div>"
      ],
      "text/plain": [
       "       Number_of_Services  Number_of_Medicare_Beneficiaries  \\\n",
       "0                    27.0                              24.0   \n",
       "1                   175.0                             175.0   \n",
       "2                    32.0                              13.0   \n",
       "3                    20.0                              18.0   \n",
       "4                    33.0                              24.0   \n",
       "...                   ...                               ...   \n",
       "99995                20.0                              20.0   \n",
       "99996               136.0                             107.0   \n",
       "99997                11.0                              11.0   \n",
       "99998                12.0                              12.0   \n",
       "99999               589.0                              76.0   \n",
       "\n",
       "       Number_of_Distinct_Medicare_Beneficiary/Per_Day_Services  \\\n",
       "0                                                   27.0          \n",
       "1                                                  175.0          \n",
       "2                                                   32.0          \n",
       "3                                                   20.0          \n",
       "4                                                   31.0          \n",
       "...                                                  ...          \n",
       "99995                                               20.0          \n",
       "99996                                              136.0          \n",
       "99997                                               11.0          \n",
       "99998                                               12.0          \n",
       "99999                                              587.0          \n",
       "\n",
       "       Average_Submitted_Charge_Amount  Average_Medicare_Payment_Amount  \\\n",
       "0                           305.211111                       157.262222   \n",
       "1                           548.800000                       118.830000   \n",
       "2                           155.000000                        64.439688   \n",
       "3                             5.000000                         3.430000   \n",
       "4                            40.000000                        19.539394   \n",
       "...                                ...                              ...   \n",
       "99995                       214.000000                        60.725500   \n",
       "99996                       144.051471                        30.006176   \n",
       "99997                       109.545455                        14.090000   \n",
       "99998                        65.000000                        29.930000   \n",
       "99999                        46.867572                        29.736876   \n",
       "\n",
       "       Average_Medicare_Allowed_Amount  Average_Medicare_Standardized_Amount  \\\n",
       "0                           200.587778                            160.908889   \n",
       "1                           123.730000                            135.315257   \n",
       "2                            90.650000                             60.595937   \n",
       "3                             3.500000                              3.430000   \n",
       "4                            26.520000                             19.057576   \n",
       "...                                ...                                   ...   \n",
       "99995                        85.372500                             62.248500   \n",
       "99996                        61.270000                             37.040221   \n",
       "99997                        17.980000                             14.620000   \n",
       "99998                        30.540000                             25.320000   \n",
       "99999                        38.601053                             25.912139   \n",
       "\n",
       "      HCPCS_Code                           Provider_Type Place_of_Service  \\\n",
       "0          99223                       Internal Medicine                F   \n",
       "1          G0202                 Obstetrics & Gynecology                O   \n",
       "2          99348                                Podiatry                O   \n",
       "3          81002                       Internal Medicine                O   \n",
       "4          96372                       Internal Medicine                O   \n",
       "...          ...                                     ...              ...   \n",
       "99995      97162  Physical Therapist in Private Practice                O   \n",
       "99996      99213                      Nurse Practitioner                O   \n",
       "99997      93320                              Cardiology                F   \n",
       "99998      G0008                       Internal Medicine                O   \n",
       "99999      97112  Physical Therapist in Private Practice                O   \n",
       "\n",
       "      State_Code_of_the_Provider Medicare_Participation_Indicator  \\\n",
       "0                             MO                                Y   \n",
       "1                             NC                                Y   \n",
       "2                             CT                                Y   \n",
       "3                             MO                                Y   \n",
       "4                             FL                                Y   \n",
       "...                          ...                              ...   \n",
       "99995                         IL                                Y   \n",
       "99996                         OR                                Y   \n",
       "99997                         MO                                Y   \n",
       "99998                         NY                                Y   \n",
       "99999                         NY                                Y   \n",
       "\n",
       "       Payment_to_Charge_Ratio  Allowed_to_Charge_Ratio  Anomaly_Flag  \n",
       "0                     0.515257                 0.657210             0  \n",
       "1                     0.216527                 0.225456             0  \n",
       "2                     0.415740                 0.584839             0  \n",
       "3                     0.686000                 0.700000             0  \n",
       "4                     0.488485                 0.663000             0  \n",
       "...                        ...                      ...           ...  \n",
       "99995                 0.283764                 0.398937             0  \n",
       "99996                 0.208302                 0.425334             0  \n",
       "99997                 0.128622                 0.164133             0  \n",
       "99998                 0.460462                 0.469846             0  \n",
       "99999                 0.634487                 0.823620             0  \n",
       "\n",
       "[100000 rows x 15 columns]"
      ]
     },
     "execution_count": 139,
     "metadata": {},
     "output_type": "execute_result"
    }
   ],
   "source": [
    "original_data"
   ]
  },
  {
   "cell_type": "code",
   "execution_count": null,
   "id": "22eb612e",
   "metadata": {},
   "outputs": [],
   "source": []
  }
 ],
 "metadata": {
  "kernelspec": {
   "display_name": "Python 3 (ipykernel)",
   "language": "python",
   "name": "python3"
  },
  "language_info": {
   "codemirror_mode": {
    "name": "ipython",
    "version": 3
   },
   "file_extension": ".py",
   "mimetype": "text/x-python",
   "name": "python",
   "nbconvert_exporter": "python",
   "pygments_lexer": "ipython3",
   "version": "3.11.10"
  }
 },
 "nbformat": 4,
 "nbformat_minor": 5
}
