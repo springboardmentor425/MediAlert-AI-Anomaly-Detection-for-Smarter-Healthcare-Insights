{
 "cells": [
  {
   "cell_type": "code",
   "execution_count": null,
   "id": "722d22d0",
   "metadata": {},
   "outputs": [],
   "source": [
    "##Creating, Reading and Writing"
   ]
  },
  {
   "cell_type": "code",
   "execution_count": 27,
   "id": "ce7d2f6b",
   "metadata": {},
   "outputs": [
    {
     "name": "stdout",
     "output_type": "stream",
     "text": [
      "              date      county    state     fips  cases  deaths\n",
      "0       2023-01-01     Autauga  Alabama   1001.0  18961   230.0\n",
      "1       2023-01-01     Baldwin  Alabama   1003.0  67496   719.0\n",
      "2       2023-01-01     Barbour  Alabama   1005.0   7027   111.0\n",
      "3       2023-01-01        Bibb  Alabama   1007.0   7692   108.0\n",
      "4       2023-01-01      Blount  Alabama   1009.0  17731   260.0\n",
      "...            ...         ...      ...      ...    ...     ...\n",
      "267004  2023-03-23  Sweetwater  Wyoming  56037.0  12519   139.0\n",
      "267005  2023-03-23       Teton  Wyoming  56039.0  12150    16.0\n",
      "267006  2023-03-23       Uinta  Wyoming  56041.0   6416    43.0\n",
      "267007  2023-03-23    Washakie  Wyoming  56043.0   2700    51.0\n",
      "267008  2023-03-23      Weston  Wyoming  56045.0   1906    23.0\n",
      "\n",
      "[267009 rows x 6 columns]\n"
     ]
    }
   ],
   "source": [
    "import pandas as pd\n",
    "\n",
    "# Read the CSV file\n",
    "dataframe = pd.read_csv('csv/us-counties-2023.csv')\n",
    "\n",
    "# Display the first few rows\n",
    "print(dataframe)\n"
   ]
  },
  {
   "cell_type": "code",
   "execution_count": 22,
   "id": "8342ec36",
   "metadata": {},
   "outputs": [],
   "source": [
    "import pandas as pd"
   ]
  },
  {
   "cell_type": "code",
   "execution_count": 23,
   "id": "078536d8",
   "metadata": {},
   "outputs": [
    {
     "data": {
      "text/html": [
       "<div>\n",
       "<style scoped>\n",
       "    .dataframe tbody tr th:only-of-type {\n",
       "        vertical-align: middle;\n",
       "    }\n",
       "\n",
       "    .dataframe tbody tr th {\n",
       "        vertical-align: top;\n",
       "    }\n",
       "\n",
       "    .dataframe thead th {\n",
       "        text-align: right;\n",
       "    }\n",
       "</style>\n",
       "<table border=\"1\" class=\"dataframe\">\n",
       "  <thead>\n",
       "    <tr style=\"text-align: right;\">\n",
       "      <th></th>\n",
       "      <th>Yes</th>\n",
       "      <th>No</th>\n",
       "    </tr>\n",
       "  </thead>\n",
       "  <tbody>\n",
       "    <tr>\n",
       "      <th>0</th>\n",
       "      <td>50</td>\n",
       "      <td>131</td>\n",
       "    </tr>\n",
       "    <tr>\n",
       "      <th>1</th>\n",
       "      <td>21</td>\n",
       "      <td>2</td>\n",
       "    </tr>\n",
       "  </tbody>\n",
       "</table>\n",
       "</div>"
      ],
      "text/plain": [
       "   Yes   No\n",
       "0   50  131\n",
       "1   21    2"
      ]
     },
     "execution_count": 23,
     "metadata": {},
     "output_type": "execute_result"
    }
   ],
   "source": [
    "pd.DataFrame({'Yes': [50, 21], 'No': [131, 2]})"
   ]
  },
  {
   "cell_type": "code",
   "execution_count": 24,
   "id": "20230dd2",
   "metadata": {},
   "outputs": [
    {
     "data": {
      "text/html": [
       "<div>\n",
       "<style scoped>\n",
       "    .dataframe tbody tr th:only-of-type {\n",
       "        vertical-align: middle;\n",
       "    }\n",
       "\n",
       "    .dataframe tbody tr th {\n",
       "        vertical-align: top;\n",
       "    }\n",
       "\n",
       "    .dataframe thead th {\n",
       "        text-align: right;\n",
       "    }\n",
       "</style>\n",
       "<table border=\"1\" class=\"dataframe\">\n",
       "  <thead>\n",
       "    <tr style=\"text-align: right;\">\n",
       "      <th></th>\n",
       "      <th>Bob</th>\n",
       "      <th>Sue</th>\n",
       "    </tr>\n",
       "  </thead>\n",
       "  <tbody>\n",
       "    <tr>\n",
       "      <th>0</th>\n",
       "      <td>I liked it.</td>\n",
       "      <td>Pretty good.</td>\n",
       "    </tr>\n",
       "    <tr>\n",
       "      <th>1</th>\n",
       "      <td>It was awful.</td>\n",
       "      <td>Bland.</td>\n",
       "    </tr>\n",
       "  </tbody>\n",
       "</table>\n",
       "</div>"
      ],
      "text/plain": [
       "             Bob           Sue\n",
       "0    I liked it.  Pretty good.\n",
       "1  It was awful.        Bland."
      ]
     },
     "execution_count": 24,
     "metadata": {},
     "output_type": "execute_result"
    }
   ],
   "source": [
    "pd.DataFrame({'Bob': ['I liked it.', 'It was awful.'], 'Sue': ['Pretty good.', 'Bland.']})"
   ]
  },
  {
   "cell_type": "code",
   "execution_count": 25,
   "id": "a4a85f4e",
   "metadata": {},
   "outputs": [
    {
     "data": {
      "text/html": [
       "<div>\n",
       "<style scoped>\n",
       "    .dataframe tbody tr th:only-of-type {\n",
       "        vertical-align: middle;\n",
       "    }\n",
       "\n",
       "    .dataframe tbody tr th {\n",
       "        vertical-align: top;\n",
       "    }\n",
       "\n",
       "    .dataframe thead th {\n",
       "        text-align: right;\n",
       "    }\n",
       "</style>\n",
       "<table border=\"1\" class=\"dataframe\">\n",
       "  <thead>\n",
       "    <tr style=\"text-align: right;\">\n",
       "      <th></th>\n",
       "      <th>Bob</th>\n",
       "      <th>Sue</th>\n",
       "    </tr>\n",
       "  </thead>\n",
       "  <tbody>\n",
       "    <tr>\n",
       "      <th>Product A</th>\n",
       "      <td>I liked it.</td>\n",
       "      <td>Pretty good.</td>\n",
       "    </tr>\n",
       "    <tr>\n",
       "      <th>Product B</th>\n",
       "      <td>It was awful.</td>\n",
       "      <td>Bland.</td>\n",
       "    </tr>\n",
       "  </tbody>\n",
       "</table>\n",
       "</div>"
      ],
      "text/plain": [
       "                     Bob           Sue\n",
       "Product A    I liked it.  Pretty good.\n",
       "Product B  It was awful.        Bland."
      ]
     },
     "execution_count": 25,
     "metadata": {},
     "output_type": "execute_result"
    }
   ],
   "source": [
    "pd.DataFrame({'Bob': ['I liked it.', 'It was awful.'], \n",
    "              'Sue': ['Pretty good.', 'Bland.']},\n",
    "             index=['Product A', 'Product B'])"
   ]
  },
  {
   "cell_type": "code",
   "execution_count": 26,
   "id": "eafcac3f",
   "metadata": {},
   "outputs": [
    {
     "data": {
      "text/plain": [
       "0    1\n",
       "1    2\n",
       "2    3\n",
       "3    4\n",
       "4    5\n",
       "dtype: int64"
      ]
     },
     "execution_count": 26,
     "metadata": {},
     "output_type": "execute_result"
    }
   ],
   "source": [
    "pd.Series([1, 2, 3, 4, 5])"
   ]
  },
  {
   "cell_type": "code",
   "execution_count": 28,
   "id": "8c396a05",
   "metadata": {},
   "outputs": [
    {
     "data": {
      "text/plain": [
       "2015 Sales    30\n",
       "2016 Sales    35\n",
       "2017 Sales    40\n",
       "Name: Product A, dtype: int64"
      ]
     },
     "execution_count": 28,
     "metadata": {},
     "output_type": "execute_result"
    }
   ],
   "source": [
    "pd.Series([30, 35, 40], index=['2015 Sales', '2016 Sales', '2017 Sales'], name='Product A')"
   ]
  },
  {
   "cell_type": "code",
   "execution_count": 29,
   "id": "9264925d",
   "metadata": {},
   "outputs": [],
   "source": [
    "wine_reviews = pd.read_csv(\"csv/us-counties-2023.csv\")"
   ]
  },
  {
   "cell_type": "code",
   "execution_count": 30,
   "id": "cf63c154",
   "metadata": {},
   "outputs": [
    {
     "data": {
      "text/plain": [
       "(267009, 6)"
      ]
     },
     "execution_count": 30,
     "metadata": {},
     "output_type": "execute_result"
    }
   ],
   "source": [
    "wine_reviews.shape"
   ]
  },
  {
   "cell_type": "code",
   "execution_count": 31,
   "id": "bf4d5d67",
   "metadata": {},
   "outputs": [
    {
     "data": {
      "text/html": [
       "<div>\n",
       "<style scoped>\n",
       "    .dataframe tbody tr th:only-of-type {\n",
       "        vertical-align: middle;\n",
       "    }\n",
       "\n",
       "    .dataframe tbody tr th {\n",
       "        vertical-align: top;\n",
       "    }\n",
       "\n",
       "    .dataframe thead th {\n",
       "        text-align: right;\n",
       "    }\n",
       "</style>\n",
       "<table border=\"1\" class=\"dataframe\">\n",
       "  <thead>\n",
       "    <tr style=\"text-align: right;\">\n",
       "      <th></th>\n",
       "      <th>date</th>\n",
       "      <th>county</th>\n",
       "      <th>state</th>\n",
       "      <th>fips</th>\n",
       "      <th>cases</th>\n",
       "      <th>deaths</th>\n",
       "    </tr>\n",
       "  </thead>\n",
       "  <tbody>\n",
       "    <tr>\n",
       "      <th>0</th>\n",
       "      <td>2023-01-01</td>\n",
       "      <td>Autauga</td>\n",
       "      <td>Alabama</td>\n",
       "      <td>1001.0</td>\n",
       "      <td>18961</td>\n",
       "      <td>230.0</td>\n",
       "    </tr>\n",
       "    <tr>\n",
       "      <th>1</th>\n",
       "      <td>2023-01-01</td>\n",
       "      <td>Baldwin</td>\n",
       "      <td>Alabama</td>\n",
       "      <td>1003.0</td>\n",
       "      <td>67496</td>\n",
       "      <td>719.0</td>\n",
       "    </tr>\n",
       "    <tr>\n",
       "      <th>2</th>\n",
       "      <td>2023-01-01</td>\n",
       "      <td>Barbour</td>\n",
       "      <td>Alabama</td>\n",
       "      <td>1005.0</td>\n",
       "      <td>7027</td>\n",
       "      <td>111.0</td>\n",
       "    </tr>\n",
       "    <tr>\n",
       "      <th>3</th>\n",
       "      <td>2023-01-01</td>\n",
       "      <td>Bibb</td>\n",
       "      <td>Alabama</td>\n",
       "      <td>1007.0</td>\n",
       "      <td>7692</td>\n",
       "      <td>108.0</td>\n",
       "    </tr>\n",
       "    <tr>\n",
       "      <th>4</th>\n",
       "      <td>2023-01-01</td>\n",
       "      <td>Blount</td>\n",
       "      <td>Alabama</td>\n",
       "      <td>1009.0</td>\n",
       "      <td>17731</td>\n",
       "      <td>260.0</td>\n",
       "    </tr>\n",
       "  </tbody>\n",
       "</table>\n",
       "</div>"
      ],
      "text/plain": [
       "         date   county    state    fips  cases  deaths\n",
       "0  2023-01-01  Autauga  Alabama  1001.0  18961   230.0\n",
       "1  2023-01-01  Baldwin  Alabama  1003.0  67496   719.0\n",
       "2  2023-01-01  Barbour  Alabama  1005.0   7027   111.0\n",
       "3  2023-01-01     Bibb  Alabama  1007.0   7692   108.0\n",
       "4  2023-01-01   Blount  Alabama  1009.0  17731   260.0"
      ]
     },
     "execution_count": 31,
     "metadata": {},
     "output_type": "execute_result"
    }
   ],
   "source": [
    "wine_reviews.head()"
   ]
  },
  {
   "cell_type": "code",
   "execution_count": 32,
   "id": "a7947a14",
   "metadata": {},
   "outputs": [
    {
     "data": {
      "text/html": [
       "<div>\n",
       "<style scoped>\n",
       "    .dataframe tbody tr th:only-of-type {\n",
       "        vertical-align: middle;\n",
       "    }\n",
       "\n",
       "    .dataframe tbody tr th {\n",
       "        vertical-align: top;\n",
       "    }\n",
       "\n",
       "    .dataframe thead th {\n",
       "        text-align: right;\n",
       "    }\n",
       "</style>\n",
       "<table border=\"1\" class=\"dataframe\">\n",
       "  <thead>\n",
       "    <tr style=\"text-align: right;\">\n",
       "      <th></th>\n",
       "      <th>county</th>\n",
       "      <th>state</th>\n",
       "      <th>fips</th>\n",
       "      <th>cases</th>\n",
       "      <th>deaths</th>\n",
       "    </tr>\n",
       "    <tr>\n",
       "      <th>date</th>\n",
       "      <th></th>\n",
       "      <th></th>\n",
       "      <th></th>\n",
       "      <th></th>\n",
       "      <th></th>\n",
       "    </tr>\n",
       "  </thead>\n",
       "  <tbody>\n",
       "    <tr>\n",
       "      <th>2023-01-01</th>\n",
       "      <td>Autauga</td>\n",
       "      <td>Alabama</td>\n",
       "      <td>1001.0</td>\n",
       "      <td>18961</td>\n",
       "      <td>230.0</td>\n",
       "    </tr>\n",
       "    <tr>\n",
       "      <th>2023-01-01</th>\n",
       "      <td>Baldwin</td>\n",
       "      <td>Alabama</td>\n",
       "      <td>1003.0</td>\n",
       "      <td>67496</td>\n",
       "      <td>719.0</td>\n",
       "    </tr>\n",
       "    <tr>\n",
       "      <th>2023-01-01</th>\n",
       "      <td>Barbour</td>\n",
       "      <td>Alabama</td>\n",
       "      <td>1005.0</td>\n",
       "      <td>7027</td>\n",
       "      <td>111.0</td>\n",
       "    </tr>\n",
       "    <tr>\n",
       "      <th>2023-01-01</th>\n",
       "      <td>Bibb</td>\n",
       "      <td>Alabama</td>\n",
       "      <td>1007.0</td>\n",
       "      <td>7692</td>\n",
       "      <td>108.0</td>\n",
       "    </tr>\n",
       "    <tr>\n",
       "      <th>2023-01-01</th>\n",
       "      <td>Blount</td>\n",
       "      <td>Alabama</td>\n",
       "      <td>1009.0</td>\n",
       "      <td>17731</td>\n",
       "      <td>260.0</td>\n",
       "    </tr>\n",
       "  </tbody>\n",
       "</table>\n",
       "</div>"
      ],
      "text/plain": [
       "             county    state    fips  cases  deaths\n",
       "date                                               \n",
       "2023-01-01  Autauga  Alabama  1001.0  18961   230.0\n",
       "2023-01-01  Baldwin  Alabama  1003.0  67496   719.0\n",
       "2023-01-01  Barbour  Alabama  1005.0   7027   111.0\n",
       "2023-01-01     Bibb  Alabama  1007.0   7692   108.0\n",
       "2023-01-01   Blount  Alabama  1009.0  17731   260.0"
      ]
     },
     "execution_count": 32,
     "metadata": {},
     "output_type": "execute_result"
    }
   ],
   "source": [
    "wine_reviews = pd.read_csv(\"csv/us-counties-2023.csv\", index_col=0)\n",
    "wine_reviews.head()"
   ]
  },
  {
   "cell_type": "code",
   "execution_count": null,
   "id": "c7db9dd7",
   "metadata": {},
   "outputs": [],
   "source": []
  },
  {
   "cell_type": "code",
   "execution_count": null,
   "id": "6aad06ed",
   "metadata": {},
   "outputs": [],
   "source": [
    "#Indexing, Selecting & Assigning"
   ]
  },
  {
   "cell_type": "code",
   "execution_count": 42,
   "id": "07b9f07c",
   "metadata": {},
   "outputs": [
    {
     "name": "stdout",
     "output_type": "stream",
     "text": [
      "0            Autauga\n",
      "1            Baldwin\n",
      "2            Barbour\n",
      "3               Bibb\n",
      "4             Blount\n",
      "             ...    \n",
      "267004    Sweetwater\n",
      "267005         Teton\n",
      "267006         Uinta\n",
      "267007      Washakie\n",
      "267008        Weston\n",
      "Name: county, Length: 267009, dtype: object\n"
     ]
    }
   ],
   "source": [
    "import pandas as pd\n",
    "\n",
    "reviews = pd.read_csv('csv/us-counties-2023.csv')\n",
    "\n",
    "print(reviews['county'])\n"
   ]
  },
  {
   "cell_type": "code",
   "execution_count": 48,
   "id": "37ad6cbd",
   "metadata": {},
   "outputs": [
    {
     "data": {
      "text/plain": [
       "date      2023-01-01\n",
       "county       Autauga\n",
       "state        Alabama\n",
       "fips          1001.0\n",
       "cases          18961\n",
       "deaths         230.0\n",
       "Name: 0, dtype: object"
      ]
     },
     "execution_count": 48,
     "metadata": {},
     "output_type": "execute_result"
    }
   ],
   "source": [
    "reviews.iloc[0]"
   ]
  },
  {
   "cell_type": "code",
   "execution_count": 49,
   "id": "0ce22cee",
   "metadata": {},
   "outputs": [
    {
     "data": {
      "text/plain": [
       "0         2023-01-01\n",
       "1         2023-01-01\n",
       "2         2023-01-01\n",
       "3         2023-01-01\n",
       "4         2023-01-01\n",
       "             ...    \n",
       "267004    2023-03-23\n",
       "267005    2023-03-23\n",
       "267006    2023-03-23\n",
       "267007    2023-03-23\n",
       "267008    2023-03-23\n",
       "Name: date, Length: 267009, dtype: object"
      ]
     },
     "execution_count": 49,
     "metadata": {},
     "output_type": "execute_result"
    }
   ],
   "source": [
    "reviews.iloc[:, 0]"
   ]
  },
  {
   "cell_type": "code",
   "execution_count": 50,
   "id": "523caabd",
   "metadata": {},
   "outputs": [
    {
     "data": {
      "text/html": [
       "<div>\n",
       "<style scoped>\n",
       "    .dataframe tbody tr th:only-of-type {\n",
       "        vertical-align: middle;\n",
       "    }\n",
       "\n",
       "    .dataframe tbody tr th {\n",
       "        vertical-align: top;\n",
       "    }\n",
       "\n",
       "    .dataframe thead th {\n",
       "        text-align: right;\n",
       "    }\n",
       "</style>\n",
       "<table border=\"1\" class=\"dataframe\">\n",
       "  <thead>\n",
       "    <tr style=\"text-align: right;\">\n",
       "      <th></th>\n",
       "      <th>date</th>\n",
       "      <th>county</th>\n",
       "      <th>state</th>\n",
       "      <th>fips</th>\n",
       "      <th>cases</th>\n",
       "      <th>deaths</th>\n",
       "    </tr>\n",
       "  </thead>\n",
       "  <tbody>\n",
       "    <tr>\n",
       "      <th>267004</th>\n",
       "      <td>2023-03-23</td>\n",
       "      <td>Sweetwater</td>\n",
       "      <td>Wyoming</td>\n",
       "      <td>56037.0</td>\n",
       "      <td>12519</td>\n",
       "      <td>139.0</td>\n",
       "    </tr>\n",
       "    <tr>\n",
       "      <th>267005</th>\n",
       "      <td>2023-03-23</td>\n",
       "      <td>Teton</td>\n",
       "      <td>Wyoming</td>\n",
       "      <td>56039.0</td>\n",
       "      <td>12150</td>\n",
       "      <td>16.0</td>\n",
       "    </tr>\n",
       "    <tr>\n",
       "      <th>267006</th>\n",
       "      <td>2023-03-23</td>\n",
       "      <td>Uinta</td>\n",
       "      <td>Wyoming</td>\n",
       "      <td>56041.0</td>\n",
       "      <td>6416</td>\n",
       "      <td>43.0</td>\n",
       "    </tr>\n",
       "    <tr>\n",
       "      <th>267007</th>\n",
       "      <td>2023-03-23</td>\n",
       "      <td>Washakie</td>\n",
       "      <td>Wyoming</td>\n",
       "      <td>56043.0</td>\n",
       "      <td>2700</td>\n",
       "      <td>51.0</td>\n",
       "    </tr>\n",
       "    <tr>\n",
       "      <th>267008</th>\n",
       "      <td>2023-03-23</td>\n",
       "      <td>Weston</td>\n",
       "      <td>Wyoming</td>\n",
       "      <td>56045.0</td>\n",
       "      <td>1906</td>\n",
       "      <td>23.0</td>\n",
       "    </tr>\n",
       "  </tbody>\n",
       "</table>\n",
       "</div>"
      ],
      "text/plain": [
       "              date      county    state     fips  cases  deaths\n",
       "267004  2023-03-23  Sweetwater  Wyoming  56037.0  12519   139.0\n",
       "267005  2023-03-23       Teton  Wyoming  56039.0  12150    16.0\n",
       "267006  2023-03-23       Uinta  Wyoming  56041.0   6416    43.0\n",
       "267007  2023-03-23    Washakie  Wyoming  56043.0   2700    51.0\n",
       "267008  2023-03-23      Weston  Wyoming  56045.0   1906    23.0"
      ]
     },
     "execution_count": 50,
     "metadata": {},
     "output_type": "execute_result"
    }
   ],
   "source": [
    "reviews.iloc[-5:]"
   ]
  },
  {
   "cell_type": "code",
   "execution_count": 51,
   "id": "93477877",
   "metadata": {},
   "outputs": [
    {
     "data": {
      "text/plain": [
       "'Autauga'"
      ]
     },
     "execution_count": 51,
     "metadata": {},
     "output_type": "execute_result"
    }
   ],
   "source": [
    "    reviews.loc[0, 'county']"
   ]
  },
  {
   "cell_type": "code",
   "execution_count": 57,
   "id": "9d523706",
   "metadata": {},
   "outputs": [],
   "source": [
    "#"
   ]
  },
  {
   "cell_type": "code",
   "execution_count": 55,
   "id": "98eaac22",
   "metadata": {},
   "outputs": [
    {
     "data": {
      "text/plain": [
       "0         False\n",
       "1         False\n",
       "2         False\n",
       "3         False\n",
       "4         False\n",
       "          ...  \n",
       "267004    False\n",
       "267005    False\n",
       "267006    False\n",
       "267007    False\n",
       "267008     True\n",
       "Name: county, Length: 267009, dtype: bool"
      ]
     },
     "execution_count": 55,
     "metadata": {},
     "output_type": "execute_result"
    }
   ],
   "source": [
    "reviews.county == 'Weston'"
   ]
  },
  {
   "cell_type": "code",
   "execution_count": 59,
   "id": "c232c69d",
   "metadata": {},
   "outputs": [],
   "source": [
    "#Summary Functions and Maps"
   ]
  },
  {
   "cell_type": "code",
   "execution_count": 58,
   "id": "12c30fd5",
   "metadata": {},
   "outputs": [
    {
     "data": {
      "text/plain": [
       "np.float64(352.2099242938764)"
      ]
     },
     "execution_count": 58,
     "metadata": {},
     "output_type": "execute_result"
    }
   ],
   "source": [
    "reviews.deaths.mean()"
   ]
  },
  {
   "cell_type": "code",
   "execution_count": 60,
   "id": "a9818175",
   "metadata": {},
   "outputs": [
    {
     "data": {
      "text/plain": [
       "count    260613.000000\n",
       "mean        352.209924\n",
       "std        1322.158230\n",
       "min           0.000000\n",
       "25%          48.000000\n",
       "50%         111.000000\n",
       "75%         262.000000\n",
       "max       45155.000000\n",
       "Name: deaths, dtype: float64"
      ]
     },
     "execution_count": 60,
     "metadata": {},
     "output_type": "execute_result"
    }
   ],
   "source": [
    "reviews.deaths.describe()"
   ]
  },
  {
   "cell_type": "code",
   "execution_count": 61,
   "id": "2358bfd7",
   "metadata": {},
   "outputs": [
    {
     "data": {
      "text/html": [
       "<div>\n",
       "<style scoped>\n",
       "    .dataframe tbody tr th:only-of-type {\n",
       "        vertical-align: middle;\n",
       "    }\n",
       "\n",
       "    .dataframe tbody tr th {\n",
       "        vertical-align: top;\n",
       "    }\n",
       "\n",
       "    .dataframe thead th {\n",
       "        text-align: right;\n",
       "    }\n",
       "</style>\n",
       "<table border=\"1\" class=\"dataframe\">\n",
       "  <thead>\n",
       "    <tr style=\"text-align: right;\">\n",
       "      <th></th>\n",
       "      <th>date</th>\n",
       "      <th>county</th>\n",
       "      <th>state</th>\n",
       "      <th>fips</th>\n",
       "      <th>cases</th>\n",
       "      <th>deaths</th>\n",
       "    </tr>\n",
       "  </thead>\n",
       "  <tbody>\n",
       "    <tr>\n",
       "      <th>0</th>\n",
       "      <td>2023-01-01</td>\n",
       "      <td>Autauga</td>\n",
       "      <td>Alabama</td>\n",
       "      <td>1001.0</td>\n",
       "      <td>18961</td>\n",
       "      <td>230.0</td>\n",
       "    </tr>\n",
       "  </tbody>\n",
       "</table>\n",
       "</div>"
      ],
      "text/plain": [
       "         date   county    state    fips  cases  deaths\n",
       "0  2023-01-01  Autauga  Alabama  1001.0  18961   230.0"
      ]
     },
     "execution_count": 61,
     "metadata": {},
     "output_type": "execute_result"
    }
   ],
   "source": [
    "reviews.head(1)"
   ]
  },
  {
   "cell_type": "code",
   "execution_count": 62,
   "id": "fc42fa1b",
   "metadata": {},
   "outputs": [],
   "source": [
    "#Grouping and Sorting"
   ]
  },
  {
   "cell_type": "code",
   "execution_count": 63,
   "id": "7122216b",
   "metadata": {},
   "outputs": [
    {
     "data": {
      "text/plain": [
       "deaths\n",
       "0.0        2976\n",
       "1.0        1124\n",
       "2.0        1132\n",
       "3.0         820\n",
       "4.0        1000\n",
       "           ... \n",
       "45043.0       2\n",
       "45074.0       1\n",
       "45076.0       3\n",
       "45123.0       1\n",
       "45155.0       1\n",
       "Name: deaths, Length: 3062, dtype: int64"
      ]
     },
     "execution_count": 63,
     "metadata": {},
     "output_type": "execute_result"
    }
   ],
   "source": [
    "reviews.groupby('deaths').deaths.count()"
   ]
  },
  {
   "cell_type": "code",
   "execution_count": 64,
   "id": "b2d6fd52",
   "metadata": {},
   "outputs": [
    {
     "data": {
      "text/plain": [
       "deaths\n",
       "0.0              1\n",
       "1.0              0\n",
       "2.0            101\n",
       "3.0              0\n",
       "4.0             76\n",
       "            ...   \n",
       "45043.0    3236362\n",
       "45074.0    3237762\n",
       "45076.0    3238686\n",
       "45123.0    3252967\n",
       "45155.0    3252357\n",
       "Name: cases, Length: 3062, dtype: int64"
      ]
     },
     "execution_count": 64,
     "metadata": {},
     "output_type": "execute_result"
    }
   ],
   "source": [
    "reviews.groupby('deaths').cases.min()"
   ]
  },
  {
   "cell_type": "code",
   "execution_count": 65,
   "id": "b5f500ba",
   "metadata": {},
   "outputs": [
    {
     "name": "stderr",
     "output_type": "stream",
     "text": [
      "C:\\Users\\RAMANA JSRA\\AppData\\Local\\Temp\\ipykernel_2392\\790293109.py:1: FutureWarning: The provided callable <built-in function min> is currently using SeriesGroupBy.min. In a future version of pandas, the provided callable will be used directly. To keep current behavior pass the string \"min\" instead.\n",
      "  reviews.groupby(['county']).fips.agg([len, min, max])\n",
      "C:\\Users\\RAMANA JSRA\\AppData\\Local\\Temp\\ipykernel_2392\\790293109.py:1: FutureWarning: The provided callable <built-in function max> is currently using SeriesGroupBy.max. In a future version of pandas, the provided callable will be used directly. To keep current behavior pass the string \"max\" instead.\n",
      "  reviews.groupby(['county']).fips.agg([len, min, max])\n"
     ]
    },
    {
     "data": {
      "text/html": [
       "<div>\n",
       "<style scoped>\n",
       "    .dataframe tbody tr th:only-of-type {\n",
       "        vertical-align: middle;\n",
       "    }\n",
       "\n",
       "    .dataframe tbody tr th {\n",
       "        vertical-align: top;\n",
       "    }\n",
       "\n",
       "    .dataframe thead th {\n",
       "        text-align: right;\n",
       "    }\n",
       "</style>\n",
       "<table border=\"1\" class=\"dataframe\">\n",
       "  <thead>\n",
       "    <tr style=\"text-align: right;\">\n",
       "      <th></th>\n",
       "      <th>len</th>\n",
       "      <th>min</th>\n",
       "      <th>max</th>\n",
       "    </tr>\n",
       "    <tr>\n",
       "      <th>county</th>\n",
       "      <th></th>\n",
       "      <th></th>\n",
       "      <th></th>\n",
       "    </tr>\n",
       "  </thead>\n",
       "  <tbody>\n",
       "    <tr>\n",
       "      <th>Abbeville</th>\n",
       "      <td>82</td>\n",
       "      <td>45001.0</td>\n",
       "      <td>45001.0</td>\n",
       "    </tr>\n",
       "    <tr>\n",
       "      <th>Acadia</th>\n",
       "      <td>82</td>\n",
       "      <td>22001.0</td>\n",
       "      <td>22001.0</td>\n",
       "    </tr>\n",
       "    <tr>\n",
       "      <th>Accomack</th>\n",
       "      <td>82</td>\n",
       "      <td>51001.0</td>\n",
       "      <td>51001.0</td>\n",
       "    </tr>\n",
       "    <tr>\n",
       "      <th>Ada</th>\n",
       "      <td>82</td>\n",
       "      <td>16001.0</td>\n",
       "      <td>16001.0</td>\n",
       "    </tr>\n",
       "    <tr>\n",
       "      <th>Adair</th>\n",
       "      <td>328</td>\n",
       "      <td>19001.0</td>\n",
       "      <td>40001.0</td>\n",
       "    </tr>\n",
       "    <tr>\n",
       "      <th>...</th>\n",
       "      <td>...</td>\n",
       "      <td>...</td>\n",
       "      <td>...</td>\n",
       "    </tr>\n",
       "    <tr>\n",
       "      <th>Yukon-Koyukuk Census Area</th>\n",
       "      <td>82</td>\n",
       "      <td>2290.0</td>\n",
       "      <td>2290.0</td>\n",
       "    </tr>\n",
       "    <tr>\n",
       "      <th>Yuma</th>\n",
       "      <td>164</td>\n",
       "      <td>4027.0</td>\n",
       "      <td>8125.0</td>\n",
       "    </tr>\n",
       "    <tr>\n",
       "      <th>Zapata</th>\n",
       "      <td>82</td>\n",
       "      <td>48505.0</td>\n",
       "      <td>48505.0</td>\n",
       "    </tr>\n",
       "    <tr>\n",
       "      <th>Zavala</th>\n",
       "      <td>82</td>\n",
       "      <td>48507.0</td>\n",
       "      <td>48507.0</td>\n",
       "    </tr>\n",
       "    <tr>\n",
       "      <th>Ziebach</th>\n",
       "      <td>82</td>\n",
       "      <td>46137.0</td>\n",
       "      <td>46137.0</td>\n",
       "    </tr>\n",
       "  </tbody>\n",
       "</table>\n",
       "<p>1932 rows × 3 columns</p>\n",
       "</div>"
      ],
      "text/plain": [
       "                           len      min      max\n",
       "county                                          \n",
       "Abbeville                   82  45001.0  45001.0\n",
       "Acadia                      82  22001.0  22001.0\n",
       "Accomack                    82  51001.0  51001.0\n",
       "Ada                         82  16001.0  16001.0\n",
       "Adair                      328  19001.0  40001.0\n",
       "...                        ...      ...      ...\n",
       "Yukon-Koyukuk Census Area   82   2290.0   2290.0\n",
       "Yuma                       164   4027.0   8125.0\n",
       "Zapata                      82  48505.0  48505.0\n",
       "Zavala                      82  48507.0  48507.0\n",
       "Ziebach                     82  46137.0  46137.0\n",
       "\n",
       "[1932 rows x 3 columns]"
      ]
     },
     "execution_count": 65,
     "metadata": {},
     "output_type": "execute_result"
    }
   ],
   "source": [
    "reviews.groupby(['county']).fips.agg([len, min, max])"
   ]
  },
  {
   "cell_type": "code",
   "execution_count": null,
   "id": "3ee13032",
   "metadata": {},
   "outputs": [],
   "source": [
    "#Data Types and Missing Values"
   ]
  }
 ],
 "metadata": {
  "kernelspec": {
   "display_name": "Python 3 (ipykernel)",
   "language": "python",
   "name": "python3"
  },
  "language_info": {
   "codemirror_mode": {
    "name": "ipython",
    "version": 3
   },
   "file_extension": ".py",
   "mimetype": "text/x-python",
   "name": "python",
   "nbconvert_exporter": "python",
   "pygments_lexer": "ipython3",
   "version": "3.11.10"
  }
 },
 "nbformat": 4,
 "nbformat_minor": 5
}
