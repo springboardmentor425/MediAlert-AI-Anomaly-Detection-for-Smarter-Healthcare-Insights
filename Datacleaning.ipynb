{
 "cells": [
  {
   "cell_type": "code",
   "execution_count": 2,
   "id": "10ffaa63-9fab-4ae2-8e13-f975cfef6888",
   "metadata": {},
   "outputs": [],
   "source": [
    "import pandas as pd\n"
   ]
  },
  {
   "cell_type": "code",
   "execution_count": 3,
   "id": "2044b772-93ee-49aa-995c-ac154425d868",
   "metadata": {},
   "outputs": [
    {
     "name": "stdout",
     "output_type": "stream",
     "text": [
      "     index  National Provider Identifier  \\\n",
      "0  8774979                    1891106191   \n",
      "1  3354385                    1346202256   \n",
      "2  3001884                    1306820956   \n",
      "3  7594822                    1770523540   \n",
      "4   746159                    1073627758   \n",
      "\n",
      "  Last Name/Organization Name of the Provider First Name of the Provider  \\\n",
      "0                                 UPADHYAYULA                  SATYASREE   \n",
      "1                                       JONES                      WENDY   \n",
      "2                                    DUROCHER                    RICHARD   \n",
      "3                                     FULLARD                     JASPER   \n",
      "4                                    PERROTTI                    ANTHONY   \n",
      "\n",
      "  Middle Initial of the Provider Credentials of the Provider  \\\n",
      "0                            NaN                        M.D.   \n",
      "1                              P                        M.D.   \n",
      "2                              W                         DPM   \n",
      "3                            NaN                          MD   \n",
      "4                              E                          DO   \n",
      "\n",
      "  Gender of the Provider Entity Type of the Provider  \\\n",
      "0                      F                           I   \n",
      "1                      F                           I   \n",
      "2                      M                           I   \n",
      "3                      M                           I   \n",
      "4                      M                           I   \n",
      "\n",
      "  Street Address 1 of the Provider Street Address 2 of the Provider  ...  \\\n",
      "0                1402 S GRAND BLVD                   FDT 14TH FLOOR  ...   \n",
      "1                  2950 VILLAGE DR                              NaN  ...   \n",
      "2                20 WASHINGTON AVE                          STE 212  ...   \n",
      "3               5746 N BROADWAY ST                              NaN  ...   \n",
      "4                 875 MILITARY TRL                        SUITE 200  ...   \n",
      "\n",
      "  HCPCS Code                                  HCPCS Description  \\\n",
      "0      99223  Initial hospital inpatient care, typically 70 ...   \n",
      "1      G0202  Screening mammography, bilateral (2-view study...   \n",
      "2      99348  Established patient home visit, typically 25 m...   \n",
      "3      81002                            Urinalysis, manual test   \n",
      "4      96372  Injection beneath the skin or into muscle for ...   \n",
      "\n",
      "  HCPCS Drug Indicator Number of Services Number of Medicare Beneficiaries  \\\n",
      "0                    N                 27                               24   \n",
      "1                    N                175                              175   \n",
      "2                    N                 32                               13   \n",
      "3                    N                 20                               18   \n",
      "4                    N                 33                               24   \n",
      "\n",
      "  Number of Distinct Medicare Beneficiary/Per Day Services  \\\n",
      "0                                                 27         \n",
      "1                                                175         \n",
      "2                                                 32         \n",
      "3                                                 20         \n",
      "4                                                 31         \n",
      "\n",
      "  Average Medicare Allowed Amount Average Submitted Charge Amount  \\\n",
      "0                    200.58777778                    305.21111111   \n",
      "1                          123.73                           548.8   \n",
      "2                           90.65                             155   \n",
      "3                             3.5                               5   \n",
      "4                           26.52                              40   \n",
      "\n",
      "  Average Medicare Payment Amount Average Medicare Standardized Amount  \n",
      "0                    157.26222222                         160.90888889  \n",
      "1                          118.83                         135.31525714  \n",
      "2                      64.4396875                           60.5959375  \n",
      "3                            3.43                                 3.43  \n",
      "4                    19.539393939                         19.057575758  \n",
      "\n",
      "[5 rows x 27 columns]\n"
     ]
    }
   ],
   "source": [
    "import pandas as pd\n",
    "\n",
    "# Use pd.read_csv to load a CSV file\n",
    "file_path = 'C:/Users/Admin/Downloads/archive/Healthcare Providers.csv'\n",
    "df = pd.read_csv(file_path)\n",
    "\n",
    "# Display the first few rows\n",
    "print(df.head())\n"
   ]
  },
  {
   "cell_type": "code",
   "execution_count": 4,
   "id": "c4c0bdc1-5664-4c98-bd4b-77264af2a1d1",
   "metadata": {},
   "outputs": [
    {
     "name": "stdout",
     "output_type": "stream",
     "text": [
      "index                                                           0\n",
      "National Provider Identifier                                    0\n",
      "Last Name/Organization Name of the Provider                     0\n",
      "First Name of the Provider                                   4255\n",
      "Middle Initial of the Provider                              29331\n",
      "Credentials of the Provider                                  7209\n",
      "Gender of the Provider                                       4254\n",
      "Entity Type of the Provider                                     0\n",
      "Street Address 1 of the Provider                                0\n",
      "Street Address 2 of the Provider                            59363\n",
      "City of the Provider                                            0\n",
      "Zip Code of the Provider                                        0\n",
      "State Code of the Provider                                      0\n",
      "Country Code of the Provider                                    0\n",
      "Provider Type                                                   0\n",
      "Medicare Participation Indicator                                0\n",
      "Place of Service                                                0\n",
      "HCPCS Code                                                      0\n",
      "HCPCS Description                                               0\n",
      "HCPCS Drug Indicator                                            0\n",
      "Number of Services                                              0\n",
      "Number of Medicare Beneficiaries                                0\n",
      "Number of Distinct Medicare Beneficiary/Per Day Services        0\n",
      "Average Medicare Allowed Amount                                 0\n",
      "Average Submitted Charge Amount                                 0\n",
      "Average Medicare Payment Amount                                 0\n",
      "Average Medicare Standardized Amount                            0\n",
      "dtype: int64\n",
      "<class 'pandas.core.frame.DataFrame'>\n",
      "RangeIndex: 100000 entries, 0 to 99999\n",
      "Data columns (total 27 columns):\n",
      " #   Column                                                    Non-Null Count   Dtype  \n",
      "---  ------                                                    --------------   -----  \n",
      " 0   index                                                     100000 non-null  int64  \n",
      " 1   National Provider Identifier                              100000 non-null  int64  \n",
      " 2   Last Name/Organization Name of the Provider               100000 non-null  object \n",
      " 3   First Name of the Provider                                95745 non-null   object \n",
      " 4   Middle Initial of the Provider                            70669 non-null   object \n",
      " 5   Credentials of the Provider                               92791 non-null   object \n",
      " 6   Gender of the Provider                                    95746 non-null   object \n",
      " 7   Entity Type of the Provider                               100000 non-null  object \n",
      " 8   Street Address 1 of the Provider                          100000 non-null  object \n",
      " 9   Street Address 2 of the Provider                          40637 non-null   object \n",
      " 10  City of the Provider                                      100000 non-null  object \n",
      " 11  Zip Code of the Provider                                  100000 non-null  float64\n",
      " 12  State Code of the Provider                                100000 non-null  object \n",
      " 13  Country Code of the Provider                              100000 non-null  object \n",
      " 14  Provider Type                                             100000 non-null  object \n",
      " 15  Medicare Participation Indicator                          100000 non-null  object \n",
      " 16  Place of Service                                          100000 non-null  object \n",
      " 17  HCPCS Code                                                100000 non-null  object \n",
      " 18  HCPCS Description                                         100000 non-null  object \n",
      " 19  HCPCS Drug Indicator                                      100000 non-null  object \n",
      " 20  Number of Services                                        100000 non-null  object \n",
      " 21  Number of Medicare Beneficiaries                          100000 non-null  object \n",
      " 22  Number of Distinct Medicare Beneficiary/Per Day Services  100000 non-null  object \n",
      " 23  Average Medicare Allowed Amount                           100000 non-null  object \n",
      " 24  Average Submitted Charge Amount                           100000 non-null  object \n",
      " 25  Average Medicare Payment Amount                           100000 non-null  object \n",
      " 26  Average Medicare Standardized Amount                      100000 non-null  object \n",
      "dtypes: float64(1), int64(2), object(24)\n",
      "memory usage: 20.6+ MB\n",
      "None\n"
     ]
    }
   ],
   "source": [
    "# Check for missing values\n",
    "print(df.isnull().sum())\n",
    "\n",
    "# Show basic information about the dataset\n",
    "print(df.info())\n"
   ]
  },
  {
   "cell_type": "code",
   "execution_count": 7,
   "id": "2b4be1b0-1705-48cc-89ed-fe20837c136d",
   "metadata": {},
   "outputs": [
    {
     "name": "stdout",
     "output_type": "stream",
     "text": [
      "True\n"
     ]
    }
   ],
   "source": [
    "print(df.isnull().any().any())"
   ]
  },
  {
   "cell_type": "code",
   "execution_count": 8,
   "id": "227a0906-25b6-453f-81b9-a0503d743e9d",
   "metadata": {},
   "outputs": [],
   "source": [
    "# Fill categorical columns with 'Unknown' or mode\n",
    "df['First Name of the Provider'] = df['First Name of the Provider'].fillna('Unknown')\n",
    "df['Middle Initial of the Provider'] = df['Middle Initial of the Provider'].fillna('Unknown')\n",
    "df['Credentials of the Provider'] = df['Credentials of the Provider'].fillna('Unknown')\n",
    "df['Gender of the Provider'] = df['Gender of the Provider'].fillna(df['Gender of the Provider'].mode()[0])\n",
    "df['Street Address 2 of the Provider'] = df['Street Address 2 of the Provider'].fillna('Not Available')\n"
   ]
  },
  {
   "cell_type": "code",
   "execution_count": 9,
   "id": "ba74dcff-cfb2-4018-b5ac-176524a1888f",
   "metadata": {},
   "outputs": [],
   "source": [
    "# List of numeric columns\n",
    "numeric_columns = [\n",
    "    'HCPCS Drug Indicator',\n",
    "    'Number of Services',\n",
    "    'Number of Medicare Beneficiaries',\n",
    "    'Number of Distinct Medicare Beneficiary/Per Day Services',\n",
    "    'Average Medicare Allowed Amount',\n",
    "    'Average Submitted Charge Amount',\n",
    "    'Average Medicare Payment Amount',\n",
    "    'Average Medicare Standardized Amount'\n",
    "]\n",
    "\n",
    "# Convert these columns to numeric type, coercing errors into NaN\n",
    "for col in numeric_columns:\n",
    "    df[col] = pd.to_numeric(df[col], errors='coerce')\n"
   ]
  },
  {
   "cell_type": "code",
   "execution_count": 10,
   "id": "aac3a398-f5f6-42d9-ab4e-a498768e3547",
   "metadata": {},
   "outputs": [],
   "source": [
    "for col in numeric_columns:\n",
    "    df[col] = df[col].fillna(df[col].mean())\n"
   ]
  },
  {
   "cell_type": "code",
   "execution_count": 11,
   "id": "5f79c380-e5cb-4515-b32c-67b67fd6ae35",
   "metadata": {},
   "outputs": [],
   "source": [
    "df['HCPCS Drug Indicator'] = df['HCPCS Drug Indicator'].fillna(0)"
   ]
  },
  {
   "cell_type": "code",
   "execution_count": 12,
   "id": "8311a316-3ef9-4319-b9fe-093f44642393",
   "metadata": {},
   "outputs": [
    {
     "name": "stdout",
     "output_type": "stream",
     "text": [
      "0\n"
     ]
    }
   ],
   "source": [
    "print(df['HCPCS Drug Indicator'].isnull().sum())"
   ]
  },
  {
   "cell_type": "code",
   "execution_count": 13,
   "id": "aac15aeb-5b74-4422-ad9c-13187b69bfe7",
   "metadata": {},
   "outputs": [
    {
     "name": "stdout",
     "output_type": "stream",
     "text": [
      "index                                                       0\n",
      "National Provider Identifier                                0\n",
      "Last Name/Organization Name of the Provider                 0\n",
      "First Name of the Provider                                  0\n",
      "Middle Initial of the Provider                              0\n",
      "Credentials of the Provider                                 0\n",
      "Gender of the Provider                                      0\n",
      "Entity Type of the Provider                                 0\n",
      "Street Address 1 of the Provider                            0\n",
      "Street Address 2 of the Provider                            0\n",
      "City of the Provider                                        0\n",
      "Zip Code of the Provider                                    0\n",
      "State Code of the Provider                                  0\n",
      "Country Code of the Provider                                0\n",
      "Provider Type                                               0\n",
      "Medicare Participation Indicator                            0\n",
      "Place of Service                                            0\n",
      "HCPCS Code                                                  0\n",
      "HCPCS Description                                           0\n",
      "HCPCS Drug Indicator                                        0\n",
      "Number of Services                                          0\n",
      "Number of Medicare Beneficiaries                            0\n",
      "Number of Distinct Medicare Beneficiary/Per Day Services    0\n",
      "Average Medicare Allowed Amount                             0\n",
      "Average Submitted Charge Amount                             0\n",
      "Average Medicare Payment Amount                             0\n",
      "Average Medicare Standardized Amount                        0\n",
      "dtype: int64\n"
     ]
    }
   ],
   "source": [
    "print(df.isnull().sum())"
   ]
  },
  {
   "cell_type": "code",
   "execution_count": 14,
   "id": "9cc4a149-9e6b-46b5-af74-d82b0a7b5e2d",
   "metadata": {},
   "outputs": [],
   "source": [
    "df.to_csv('cleaned_healthcare_providers.csv', index=False)"
   ]
  },
  {
   "cell_type": "code",
   "execution_count": 16,
   "id": "43ce7365-4643-4aba-aba2-34498841c08d",
   "metadata": {},
   "outputs": [
    {
     "name": "stdout",
     "output_type": "stream",
     "text": [
      "index                                                       0\n",
      "National Provider Identifier                                0\n",
      "Last Name/Organization Name of the Provider                 0\n",
      "First Name of the Provider                                  0\n",
      "Middle Initial of the Provider                              0\n",
      "Credentials of the Provider                                 0\n",
      "Gender of the Provider                                      0\n",
      "Entity Type of the Provider                                 0\n",
      "Street Address 1 of the Provider                            0\n",
      "Street Address 2 of the Provider                            0\n",
      "City of the Provider                                        0\n",
      "Zip Code of the Provider                                    0\n",
      "State Code of the Provider                                  0\n",
      "Country Code of the Provider                                0\n",
      "Provider Type                                               0\n",
      "Medicare Participation Indicator                            0\n",
      "Place of Service                                            0\n",
      "HCPCS Code                                                  0\n",
      "HCPCS Description                                           0\n",
      "HCPCS Drug Indicator                                        0\n",
      "Number of Services                                          0\n",
      "Number of Medicare Beneficiaries                            0\n",
      "Number of Distinct Medicare Beneficiary/Per Day Services    0\n",
      "Average Medicare Allowed Amount                             0\n",
      "Average Submitted Charge Amount                             0\n",
      "Average Medicare Payment Amount                             0\n",
      "Average Medicare Standardized Amount                        0\n",
      "dtype: int64\n",
      "<class 'pandas.core.frame.DataFrame'>\n",
      "RangeIndex: 100000 entries, 0 to 99999\n",
      "Data columns (total 27 columns):\n",
      " #   Column                                                    Non-Null Count   Dtype  \n",
      "---  ------                                                    --------------   -----  \n",
      " 0   index                                                     100000 non-null  int64  \n",
      " 1   National Provider Identifier                              100000 non-null  int64  \n",
      " 2   Last Name/Organization Name of the Provider               100000 non-null  object \n",
      " 3   First Name of the Provider                                100000 non-null  object \n",
      " 4   Middle Initial of the Provider                            100000 non-null  object \n",
      " 5   Credentials of the Provider                               100000 non-null  object \n",
      " 6   Gender of the Provider                                    100000 non-null  object \n",
      " 7   Entity Type of the Provider                               100000 non-null  object \n",
      " 8   Street Address 1 of the Provider                          100000 non-null  object \n",
      " 9   Street Address 2 of the Provider                          100000 non-null  object \n",
      " 10  City of the Provider                                      100000 non-null  object \n",
      " 11  Zip Code of the Provider                                  100000 non-null  float64\n",
      " 12  State Code of the Provider                                100000 non-null  object \n",
      " 13  Country Code of the Provider                              100000 non-null  object \n",
      " 14  Provider Type                                             100000 non-null  object \n",
      " 15  Medicare Participation Indicator                          100000 non-null  object \n",
      " 16  Place of Service                                          100000 non-null  object \n",
      " 17  HCPCS Code                                                100000 non-null  object \n",
      " 18  HCPCS Description                                         100000 non-null  object \n",
      " 19  HCPCS Drug Indicator                                      100000 non-null  float64\n",
      " 20  Number of Services                                        100000 non-null  float64\n",
      " 21  Number of Medicare Beneficiaries                          100000 non-null  float64\n",
      " 22  Number of Distinct Medicare Beneficiary/Per Day Services  100000 non-null  float64\n",
      " 23  Average Medicare Allowed Amount                           100000 non-null  float64\n",
      " 24  Average Submitted Charge Amount                           100000 non-null  float64\n",
      " 25  Average Medicare Payment Amount                           100000 non-null  float64\n",
      " 26  Average Medicare Standardized Amount                      100000 non-null  float64\n",
      "dtypes: float64(9), int64(2), object(16)\n",
      "memory usage: 20.6+ MB\n",
      "None\n"
     ]
    }
   ],
   "source": [
    "# Check for missing values\n",
    "print(df.isnull().sum())\n",
    "\n",
    "# Show basic information about the dataset\n",
    "print(df.info())\n"
   ]
  },
  {
   "cell_type": "code",
   "execution_count": null,
   "id": "c57dae93-74d9-4ad4-b3a3-ecd7aec96202",
   "metadata": {},
   "outputs": [],
   "source": []
  }
 ],
 "metadata": {
  "kernelspec": {
   "display_name": "Python 3 (ipykernel)",
   "language": "python",
   "name": "python3"
  },
  "language_info": {
   "codemirror_mode": {
    "name": "ipython",
    "version": 3
   },
   "file_extension": ".py",
   "mimetype": "text/x-python",
   "name": "python",
   "nbconvert_exporter": "python",
   "pygments_lexer": "ipython3",
   "version": "3.12.7"
  }
 },
 "nbformat": 4,
 "nbformat_minor": 5
}
