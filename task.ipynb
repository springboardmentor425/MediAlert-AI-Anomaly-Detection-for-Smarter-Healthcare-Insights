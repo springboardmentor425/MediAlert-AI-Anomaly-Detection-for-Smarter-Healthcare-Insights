{
 "cells": [
  {
   "cell_type": "code",
   "execution_count": 4,
   "id": "d44ed551",
   "metadata": {},
   "outputs": [],
   "source": [
    "import pandas as pd\n",
    "\n"
   ]
  },
  {
   "cell_type": "code",
   "execution_count": 3,
   "id": "6699b5c1",
   "metadata": {
    "scrolled": true
   },
   "outputs": [
    {
     "name": "stdout",
     "output_type": "stream",
     "text": [
      "Requirement already satisfied: pandas in c:\\users\\garag\\downloads\\hey\\lib\\site-packages (2.0.3)\n",
      "Requirement already satisfied: openpyxl in c:\\users\\garag\\downloads\\hey\\lib\\site-packages (3.0.10)\n",
      "Requirement already satisfied: python-dateutil>=2.8.2 in c:\\users\\garag\\downloads\\hey\\lib\\site-packages (from pandas) (2.8.2)\n",
      "Requirement already satisfied: pytz>=2020.1 in c:\\users\\garag\\downloads\\hey\\lib\\site-packages (from pandas) (2023.3.post1)\n",
      "Requirement already satisfied: tzdata>=2022.1 in c:\\users\\garag\\downloads\\hey\\lib\\site-packages (from pandas) (2023.3)\n",
      "Requirement already satisfied: numpy>=1.21.0 in c:\\users\\garag\\downloads\\hey\\lib\\site-packages (from pandas) (1.24.3)\n",
      "Requirement already satisfied: et_xmlfile in c:\\users\\garag\\downloads\\hey\\lib\\site-packages (from openpyxl) (1.1.0)\n",
      "Requirement already satisfied: six>=1.5 in c:\\users\\garag\\downloads\\hey\\lib\\site-packages (from python-dateutil>=2.8.2->pandas) (1.16.0)\n",
      "Note: you may need to restart the kernel to use updated packages.\n"
     ]
    }
   ],
   "source": [
    "pip install pandas openpyxl"
   ]
  },
  {
   "cell_type": "code",
   "execution_count": 5,
   "id": "2113246e",
   "metadata": {},
   "outputs": [
    {
     "name": "stdout",
     "output_type": "stream",
     "text": [
      "         index  National Provider Identifier  \\\n",
      "0      8774979                    1891106191   \n",
      "1      3354385                    1346202256   \n",
      "2      3001884                    1306820956   \n",
      "3      7594822                    1770523540   \n",
      "4       746159                    1073627758   \n",
      "...        ...                           ...   \n",
      "99995  3837311                    1386938868   \n",
      "99996  2079360                    1215091327   \n",
      "99997  8927965                    1902868185   \n",
      "99998  8854571                    1891941183   \n",
      "99999  3547535                    1356772156   \n",
      "\n",
      "      Last Name/Organization Name of the Provider First Name of the Provider  \\\n",
      "0                                     UPADHYAYULA                  SATYASREE   \n",
      "1                                           JONES                      WENDY   \n",
      "2                                        DUROCHER                    RICHARD   \n",
      "3                                         FULLARD                     JASPER   \n",
      "4                                        PERROTTI                    ANTHONY   \n",
      "...                                           ...                        ...   \n",
      "99995                                       PAPES                       JOAN   \n",
      "99996                                      HAYNER                   MARGARET   \n",
      "99997                                    VALENCIA                       DANA   \n",
      "99998                              GONZALEZ-LAMOS                    RAFAELA   \n",
      "99999                                    RAMEZANI                     ELIIAN   \n",
      "\n",
      "      Middle Initial of the Provider Credentials of the Provider  \\\n",
      "0                                NaN                        M.D.   \n",
      "1                                  P                        M.D.   \n",
      "2                                  W                         DPM   \n",
      "3                                NaN                          MD   \n",
      "4                                  E                          DO   \n",
      "...                              ...                         ...   \n",
      "99995                            NaN                          PT   \n",
      "99996                              S                        ARNP   \n",
      "99997                            NaN                        M.D.   \n",
      "99998                            NaN                         NaN   \n",
      "99999                            NaN                         NaN   \n",
      "\n",
      "      Gender of the Provider Entity Type of the Provider  \\\n",
      "0                          F                           I   \n",
      "1                          F                           I   \n",
      "2                          M                           I   \n",
      "3                          M                           I   \n",
      "4                          M                           I   \n",
      "...                      ...                         ...   \n",
      "99995                      F                           I   \n",
      "99996                      F                           I   \n",
      "99997                      M                           I   \n",
      "99998                      F                           I   \n",
      "99999                      F                           I   \n",
      "\n",
      "      Street Address 1 of the Provider Street Address 2 of the Provider  ...  \\\n",
      "0                    1402 S GRAND BLVD                   FDT 14TH FLOOR  ...   \n",
      "1                      2950 VILLAGE DR                              NaN  ...   \n",
      "2                    20 WASHINGTON AVE                          STE 212  ...   \n",
      "3                   5746 N BROADWAY ST                              NaN  ...   \n",
      "4                     875 MILITARY TRL                        SUITE 200  ...   \n",
      "...                                ...                              ...  ...   \n",
      "99995               324 E BALTIMORE ST                              NaN  ...   \n",
      "99996                    645 NW 4TH ST                              NaN  ...   \n",
      "99997                 3009 N BALLAS RD                       SUITE 202B  ...   \n",
      "99998              2365 BOSTON POST RD                        SUITE 201  ...   \n",
      "99999        444 MIDDLE NECK RD APT 1H                              NaN  ...   \n",
      "\n",
      "      HCPCS Code                                  HCPCS Description  \\\n",
      "0          99223  Initial hospital inpatient care, typically 70 ...   \n",
      "1          G0202  Screening mammography, bilateral (2-view study...   \n",
      "2          99348  Established patient home visit, typically 25 m...   \n",
      "3          81002                            Urinalysis, manual test   \n",
      "4          96372  Injection beneath the skin or into muscle for ...   \n",
      "...          ...                                                ...   \n",
      "99995      97162  Evaluation of physical therapy, typically 30 m...   \n",
      "99996      99213  Established patient office or other outpatient...   \n",
      "99997      93320  Doppler ultrasound study of heart blood flow, ...   \n",
      "99998      G0008          Administration of influenza virus vaccine   \n",
      "99999      97112  Therapeutic procedure to re-educate brain-to-n...   \n",
      "\n",
      "      HCPCS Drug Indicator Number of Services  \\\n",
      "0                        N                 27   \n",
      "1                        N                175   \n",
      "2                        N                 32   \n",
      "3                        N                 20   \n",
      "4                        N                 33   \n",
      "...                    ...                ...   \n",
      "99995                    N                 20   \n",
      "99996                    N                136   \n",
      "99997                    N                 11   \n",
      "99998                    N                 12   \n",
      "99999                    N                589   \n",
      "\n",
      "      Number of Medicare Beneficiaries  \\\n",
      "0                                   24   \n",
      "1                                  175   \n",
      "2                                   13   \n",
      "3                                   18   \n",
      "4                                   24   \n",
      "...                                ...   \n",
      "99995                               20   \n",
      "99996                              107   \n",
      "99997                               11   \n",
      "99998                               12   \n",
      "99999                               76   \n",
      "\n",
      "      Number of Distinct Medicare Beneficiary/Per Day Services  \\\n",
      "0                                                     27         \n",
      "1                                                    175         \n",
      "2                                                     32         \n",
      "3                                                     20         \n",
      "4                                                     31         \n",
      "...                                                  ...         \n",
      "99995                                                 20         \n",
      "99996                                                136         \n",
      "99997                                                 11         \n",
      "99998                                                 12         \n",
      "99999                                                587         \n",
      "\n",
      "      Average Medicare Allowed Amount Average Submitted Charge Amount  \\\n",
      "0                        200.58777778                    305.21111111   \n",
      "1                              123.73                           548.8   \n",
      "2                               90.65                             155   \n",
      "3                                 3.5                               5   \n",
      "4                               26.52                              40   \n",
      "...                               ...                             ...   \n",
      "99995                         85.3725                             214   \n",
      "99996                           61.27                    144.05147059   \n",
      "99997                           17.98                    109.54545455   \n",
      "99998                           30.54                              65   \n",
      "99999                    38.601052632                    46.867572156   \n",
      "\n",
      "      Average Medicare Payment Amount Average Medicare Standardized Amount  \n",
      "0                        157.26222222                         160.90888889  \n",
      "1                              118.83                         135.31525714  \n",
      "2                          64.4396875                           60.5959375  \n",
      "3                                3.43                                 3.43  \n",
      "4                        19.539393939                         19.057575758  \n",
      "...                               ...                                  ...  \n",
      "99995                         60.7255                              62.2485  \n",
      "99996                    30.006176471                         37.040220588  \n",
      "99997                           14.09                                14.62  \n",
      "99998                           29.93                                25.32  \n",
      "99999                    29.736876061                         25.912139219  \n",
      "\n",
      "[100000 rows x 27 columns]\n"
     ]
    }
   ],
   "source": [
    "\n",
    "df = pd.read_csv('Healthcare_Providers.csv')\n",
    "print(df)\n"
   ]
  },
  {
   "cell_type": "code",
   "execution_count": 7,
   "id": "ad72c8b3",
   "metadata": {},
   "outputs": [
    {
     "name": "stdout",
     "output_type": "stream",
     "text": [
      "     index  National Provider Identifier  \\\n",
      "0  8774979                    1891106191   \n",
      "1  3354385                    1346202256   \n",
      "2  3001884                    1306820956   \n",
      "3  7594822                    1770523540   \n",
      "4   746159                    1073627758   \n",
      "\n",
      "  Last Name/Organization Name of the Provider First Name of the Provider  \\\n",
      "0                                 UPADHYAYULA                  SATYASREE   \n",
      "1                                       JONES                      WENDY   \n",
      "2                                    DUROCHER                    RICHARD   \n",
      "3                                     FULLARD                     JASPER   \n",
      "4                                    PERROTTI                    ANTHONY   \n",
      "\n",
      "  Middle Initial of the Provider Credentials of the Provider  \\\n",
      "0                            NaN                        M.D.   \n",
      "1                              P                        M.D.   \n",
      "2                              W                         DPM   \n",
      "3                            NaN                          MD   \n",
      "4                              E                          DO   \n",
      "\n",
      "  Gender of the Provider Entity Type of the Provider  \\\n",
      "0                      F                           I   \n",
      "1                      F                           I   \n",
      "2                      M                           I   \n",
      "3                      M                           I   \n",
      "4                      M                           I   \n",
      "\n",
      "  Street Address 1 of the Provider Street Address 2 of the Provider  ...  \\\n",
      "0                1402 S GRAND BLVD                   FDT 14TH FLOOR  ...   \n",
      "1                  2950 VILLAGE DR                              NaN  ...   \n",
      "2                20 WASHINGTON AVE                          STE 212  ...   \n",
      "3               5746 N BROADWAY ST                              NaN  ...   \n",
      "4                 875 MILITARY TRL                        SUITE 200  ...   \n",
      "\n",
      "  HCPCS Code                                  HCPCS Description  \\\n",
      "0      99223  Initial hospital inpatient care, typically 70 ...   \n",
      "1      G0202  Screening mammography, bilateral (2-view study...   \n",
      "2      99348  Established patient home visit, typically 25 m...   \n",
      "3      81002                            Urinalysis, manual test   \n",
      "4      96372  Injection beneath the skin or into muscle for ...   \n",
      "\n",
      "  HCPCS Drug Indicator Number of Services Number of Medicare Beneficiaries  \\\n",
      "0                    N                 27                               24   \n",
      "1                    N                175                              175   \n",
      "2                    N                 32                               13   \n",
      "3                    N                 20                               18   \n",
      "4                    N                 33                               24   \n",
      "\n",
      "  Number of Distinct Medicare Beneficiary/Per Day Services  \\\n",
      "0                                                 27         \n",
      "1                                                175         \n",
      "2                                                 32         \n",
      "3                                                 20         \n",
      "4                                                 31         \n",
      "\n",
      "  Average Medicare Allowed Amount Average Submitted Charge Amount  \\\n",
      "0                    200.58777778                    305.21111111   \n",
      "1                          123.73                           548.8   \n",
      "2                           90.65                             155   \n",
      "3                             3.5                               5   \n",
      "4                           26.52                              40   \n",
      "\n",
      "  Average Medicare Payment Amount Average Medicare Standardized Amount  \n",
      "0                    157.26222222                         160.90888889  \n",
      "1                          118.83                         135.31525714  \n",
      "2                      64.4396875                           60.5959375  \n",
      "3                            3.43                                 3.43  \n",
      "4                    19.539393939                         19.057575758  \n",
      "\n",
      "[5 rows x 27 columns]\n"
     ]
    }
   ],
   "source": [
    "print(df.head()) \n"
   ]
  },
  {
   "cell_type": "code",
   "execution_count": 8,
   "id": "cf3186ee",
   "metadata": {
    "scrolled": true
   },
   "outputs": [
    {
     "name": "stdout",
     "output_type": "stream",
     "text": [
      "<class 'pandas.core.frame.DataFrame'>\n",
      "RangeIndex: 100000 entries, 0 to 99999\n",
      "Data columns (total 27 columns):\n",
      " #   Column                                                    Non-Null Count   Dtype  \n",
      "---  ------                                                    --------------   -----  \n",
      " 0   index                                                     100000 non-null  int64  \n",
      " 1   National Provider Identifier                              100000 non-null  int64  \n",
      " 2   Last Name/Organization Name of the Provider               100000 non-null  object \n",
      " 3   First Name of the Provider                                95745 non-null   object \n",
      " 4   Middle Initial of the Provider                            70669 non-null   object \n",
      " 5   Credentials of the Provider                               92791 non-null   object \n",
      " 6   Gender of the Provider                                    95746 non-null   object \n",
      " 7   Entity Type of the Provider                               100000 non-null  object \n",
      " 8   Street Address 1 of the Provider                          100000 non-null  object \n",
      " 9   Street Address 2 of the Provider                          40637 non-null   object \n",
      " 10  City of the Provider                                      100000 non-null  object \n",
      " 11  Zip Code of the Provider                                  100000 non-null  float64\n",
      " 12  State Code of the Provider                                100000 non-null  object \n",
      " 13  Country Code of the Provider                              100000 non-null  object \n",
      " 14  Provider Type                                             100000 non-null  object \n",
      " 15  Medicare Participation Indicator                          100000 non-null  object \n",
      " 16  Place of Service                                          100000 non-null  object \n",
      " 17  HCPCS Code                                                100000 non-null  object \n",
      " 18  HCPCS Description                                         100000 non-null  object \n",
      " 19  HCPCS Drug Indicator                                      100000 non-null  object \n",
      " 20  Number of Services                                        100000 non-null  object \n",
      " 21  Number of Medicare Beneficiaries                          100000 non-null  object \n",
      " 22  Number of Distinct Medicare Beneficiary/Per Day Services  100000 non-null  object \n",
      " 23  Average Medicare Allowed Amount                           100000 non-null  object \n",
      " 24  Average Submitted Charge Amount                           100000 non-null  object \n",
      " 25  Average Medicare Payment Amount                           100000 non-null  object \n",
      " 26  Average Medicare Standardized Amount                      100000 non-null  object \n",
      "dtypes: float64(1), int64(2), object(24)\n",
      "memory usage: 20.6+ MB\n",
      "None\n"
     ]
    }
   ],
   "source": [
    "print(df.info())"
   ]
  },
  {
   "cell_type": "code",
   "execution_count": 9,
   "id": "2b65a405",
   "metadata": {},
   "outputs": [
    {
     "name": "stdout",
     "output_type": "stream",
     "text": [
      "              index  National Provider Identifier  Zip Code of the Provider\n",
      "count  1.000000e+05                  1.000000e+05              1.000000e+05\n",
      "mean   4.907646e+06                  1.498227e+09              4.163820e+08\n",
      "std    2.839633e+06                  2.874125e+08              3.082566e+08\n",
      "min    2.090000e+02                  1.003001e+09              6.010000e+02\n",
      "25%    2.458791e+06                  1.245669e+09              1.426300e+08\n",
      "50%    4.901266e+06                  1.497847e+09              3.633025e+08\n",
      "75%    7.349450e+06                  1.740374e+09              6.819881e+08\n",
      "max    9.847440e+06                  1.993000e+09              9.990166e+08\n"
     ]
    }
   ],
   "source": [
    "print(df.describe())"
   ]
  },
  {
   "cell_type": "code",
   "execution_count": 10,
   "id": "af77df3d",
   "metadata": {},
   "outputs": [
    {
     "name": "stdout",
     "output_type": "stream",
     "text": [
      "index                                                           0\n",
      "National Provider Identifier                                    0\n",
      "Last Name/Organization Name of the Provider                     0\n",
      "First Name of the Provider                                   4255\n",
      "Middle Initial of the Provider                              29331\n",
      "Credentials of the Provider                                  7209\n",
      "Gender of the Provider                                       4254\n",
      "Entity Type of the Provider                                     0\n",
      "Street Address 1 of the Provider                                0\n",
      "Street Address 2 of the Provider                            59363\n",
      "City of the Provider                                            0\n",
      "Zip Code of the Provider                                        0\n",
      "State Code of the Provider                                      0\n",
      "Country Code of the Provider                                    0\n",
      "Provider Type                                                   0\n",
      "Medicare Participation Indicator                                0\n",
      "Place of Service                                                0\n",
      "HCPCS Code                                                      0\n",
      "HCPCS Description                                               0\n",
      "HCPCS Drug Indicator                                            0\n",
      "Number of Services                                              0\n",
      "Number of Medicare Beneficiaries                                0\n",
      "Number of Distinct Medicare Beneficiary/Per Day Services        0\n",
      "Average Medicare Allowed Amount                                 0\n",
      "Average Submitted Charge Amount                                 0\n",
      "Average Medicare Payment Amount                                 0\n",
      "Average Medicare Standardized Amount                            0\n",
      "dtype: int64\n"
     ]
    }
   ],
   "source": [
    "m_v = df.isnull().sum()\n",
    "print(m_v)# Counts the missing values in each column\n"
   ]
  },
  {
   "cell_type": "code",
   "execution_count": 11,
   "id": "d6c94ea2",
   "metadata": {},
   "outputs": [
    {
     "name": "stdout",
     "output_type": "stream",
     "text": [
      "index                                                        0.000\n",
      "National Provider Identifier                                 0.000\n",
      "Last Name/Organization Name of the Provider                  0.000\n",
      "First Name of the Provider                                   4.255\n",
      "Middle Initial of the Provider                              29.331\n",
      "Credentials of the Provider                                  7.209\n",
      "Gender of the Provider                                       4.254\n",
      "Entity Type of the Provider                                  0.000\n",
      "Street Address 1 of the Provider                             0.000\n",
      "Street Address 2 of the Provider                            59.363\n",
      "City of the Provider                                         0.000\n",
      "Zip Code of the Provider                                     0.000\n",
      "State Code of the Provider                                   0.000\n",
      "Country Code of the Provider                                 0.000\n",
      "Provider Type                                                0.000\n",
      "Medicare Participation Indicator                             0.000\n",
      "Place of Service                                             0.000\n",
      "HCPCS Code                                                   0.000\n",
      "HCPCS Description                                            0.000\n",
      "HCPCS Drug Indicator                                         0.000\n",
      "Number of Services                                           0.000\n",
      "Number of Medicare Beneficiaries                             0.000\n",
      "Number of Distinct Medicare Beneficiary/Per Day Services     0.000\n",
      "Average Medicare Allowed Amount                              0.000\n",
      "Average Submitted Charge Amount                              0.000\n",
      "Average Medicare Payment Amount                              0.000\n",
      "Average Medicare Standardized Amount                         0.000\n",
      "dtype: float64\n"
     ]
    }
   ],
   "source": [
    "\n",
    "m_p = (m_v / len(df)) * 100\n",
    "print(m_p) #missing percentage\n",
    "\n"
   ]
  },
  {
   "cell_type": "code",
   "execution_count": 12,
   "id": "3a04849d",
   "metadata": {},
   "outputs": [
    {
     "name": "stdout",
     "output_type": "stream",
     "text": [
      "(100000, 27)\n"
     ]
    }
   ],
   "source": [
    "print(df.shape)"
   ]
  },
  {
   "cell_type": "code",
   "execution_count": null,
   "id": "be01ed33",
   "metadata": {},
   "outputs": [],
   "source": []
  },
  {
   "cell_type": "code",
   "execution_count": null,
   "id": "4ba3e7d6",
   "metadata": {},
   "outputs": [],
   "source": []
  },
  {
   "cell_type": "code",
   "execution_count": null,
   "id": "d14ec8ab",
   "metadata": {},
   "outputs": [],
   "source": []
  },
  {
   "cell_type": "code",
   "execution_count": null,
   "id": "cb727d11",
   "metadata": {},
   "outputs": [],
   "source": []
  },
  {
   "cell_type": "code",
   "execution_count": null,
   "id": "2c8f8627",
   "metadata": {},
   "outputs": [],
   "source": []
  },
  {
   "cell_type": "code",
   "execution_count": null,
   "id": "c2d1e286",
   "metadata": {},
   "outputs": [],
   "source": []
  },
  {
   "cell_type": "code",
   "execution_count": null,
   "id": "c8af0632",
   "metadata": {},
   "outputs": [],
   "source": []
  },
  {
   "cell_type": "code",
   "execution_count": null,
   "id": "acac49fb",
   "metadata": {},
   "outputs": [],
   "source": []
  },
  {
   "cell_type": "code",
   "execution_count": null,
   "id": "9e3dab38",
   "metadata": {},
   "outputs": [],
   "source": []
  },
  {
   "cell_type": "code",
   "execution_count": null,
   "id": "edbda517",
   "metadata": {},
   "outputs": [],
   "source": []
  }
 ],
 "metadata": {
  "kernelspec": {
   "display_name": "Python 3 (ipykernel)",
   "language": "python",
   "name": "python3"
  },
  "language_info": {
   "codemirror_mode": {
    "name": "ipython",
    "version": 3
   },
   "file_extension": ".py",
   "mimetype": "text/x-python",
   "name": "python",
   "nbconvert_exporter": "python",
   "pygments_lexer": "ipython3",
   "version": "3.11.5"
  }
 },
 "nbformat": 4,
 "nbformat_minor": 5
}
