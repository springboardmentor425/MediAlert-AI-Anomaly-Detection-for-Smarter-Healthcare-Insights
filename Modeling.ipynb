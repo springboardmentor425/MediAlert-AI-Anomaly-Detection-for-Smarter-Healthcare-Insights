{
  "nbformat": 4,
  "nbformat_minor": 0,
  "metadata": {
    "colab": {
      "provenance": []
    },
    "kernelspec": {
      "name": "python3",
      "display_name": "Python 3"
    },
    "language_info": {
      "name": "python"
    }
  },
  "cells": [
    {
      "cell_type": "code",
      "source": [
        "!pip install scikit-learn"
      ],
      "metadata": {
        "colab": {
          "base_uri": "https://localhost:8080/"
        },
        "id": "mz64yQa3BZdo",
        "outputId": "db3ff12b-30be-4a58-90d8-8780cba2d163"
      },
      "execution_count": 3,
      "outputs": [
        {
          "output_type": "stream",
          "name": "stdout",
          "text": [
            "Requirement already satisfied: scikit-learn in /usr/local/lib/python3.10/dist-packages (1.6.0)\n",
            "Requirement already satisfied: numpy>=1.19.5 in /usr/local/lib/python3.10/dist-packages (from scikit-learn) (1.26.4)\n",
            "Requirement already satisfied: scipy>=1.6.0 in /usr/local/lib/python3.10/dist-packages (from scikit-learn) (1.13.1)\n",
            "Requirement already satisfied: joblib>=1.2.0 in /usr/local/lib/python3.10/dist-packages (from scikit-learn) (1.4.2)\n",
            "Requirement already satisfied: threadpoolctl>=3.1.0 in /usr/local/lib/python3.10/dist-packages (from scikit-learn) (3.5.0)\n"
          ]
        }
      ]
    },
    {
      "cell_type": "code",
      "source": [
        "!pip install tensorflow\n"
      ],
      "metadata": {
        "colab": {
          "base_uri": "https://localhost:8080/"
        },
        "id": "x_QHwm38BhDh",
        "outputId": "52ec22c2-3a3a-44d7-b1be-d0337754f548"
      },
      "execution_count": 19,
      "outputs": [
        {
          "output_type": "stream",
          "name": "stdout",
          "text": [
            "Requirement already satisfied: tensorflow in /usr/local/lib/python3.10/dist-packages (2.17.1)\n",
            "Requirement already satisfied: absl-py>=1.0.0 in /usr/local/lib/python3.10/dist-packages (from tensorflow) (1.4.0)\n",
            "Requirement already satisfied: astunparse>=1.6.0 in /usr/local/lib/python3.10/dist-packages (from tensorflow) (1.6.3)\n",
            "Requirement already satisfied: flatbuffers>=24.3.25 in /usr/local/lib/python3.10/dist-packages (from tensorflow) (24.3.25)\n",
            "Requirement already satisfied: gast!=0.5.0,!=0.5.1,!=0.5.2,>=0.2.1 in /usr/local/lib/python3.10/dist-packages (from tensorflow) (0.6.0)\n",
            "Requirement already satisfied: google-pasta>=0.1.1 in /usr/local/lib/python3.10/dist-packages (from tensorflow) (0.2.0)\n",
            "Requirement already satisfied: h5py>=3.10.0 in /usr/local/lib/python3.10/dist-packages (from tensorflow) (3.12.1)\n",
            "Requirement already satisfied: libclang>=13.0.0 in /usr/local/lib/python3.10/dist-packages (from tensorflow) (18.1.1)\n",
            "Requirement already satisfied: ml-dtypes<0.5.0,>=0.3.1 in /usr/local/lib/python3.10/dist-packages (from tensorflow) (0.4.1)\n",
            "Requirement already satisfied: opt-einsum>=2.3.2 in /usr/local/lib/python3.10/dist-packages (from tensorflow) (3.4.0)\n",
            "Requirement already satisfied: packaging in /usr/local/lib/python3.10/dist-packages (from tensorflow) (24.2)\n",
            "Requirement already satisfied: protobuf!=4.21.0,!=4.21.1,!=4.21.2,!=4.21.3,!=4.21.4,!=4.21.5,<5.0.0dev,>=3.20.3 in /usr/local/lib/python3.10/dist-packages (from tensorflow) (4.25.5)\n",
            "Requirement already satisfied: requests<3,>=2.21.0 in /usr/local/lib/python3.10/dist-packages (from tensorflow) (2.32.3)\n",
            "Requirement already satisfied: setuptools in /usr/local/lib/python3.10/dist-packages (from tensorflow) (75.1.0)\n",
            "Requirement already satisfied: six>=1.12.0 in /usr/local/lib/python3.10/dist-packages (from tensorflow) (1.17.0)\n",
            "Requirement already satisfied: termcolor>=1.1.0 in /usr/local/lib/python3.10/dist-packages (from tensorflow) (2.5.0)\n",
            "Requirement already satisfied: typing-extensions>=3.6.6 in /usr/local/lib/python3.10/dist-packages (from tensorflow) (4.12.2)\n",
            "Requirement already satisfied: wrapt>=1.11.0 in /usr/local/lib/python3.10/dist-packages (from tensorflow) (1.17.0)\n",
            "Requirement already satisfied: grpcio<2.0,>=1.24.3 in /usr/local/lib/python3.10/dist-packages (from tensorflow) (1.68.1)\n",
            "Requirement already satisfied: tensorboard<2.18,>=2.17 in /usr/local/lib/python3.10/dist-packages (from tensorflow) (2.17.1)\n",
            "Requirement already satisfied: keras>=3.2.0 in /usr/local/lib/python3.10/dist-packages (from tensorflow) (3.5.0)\n",
            "Requirement already satisfied: tensorflow-io-gcs-filesystem>=0.23.1 in /usr/local/lib/python3.10/dist-packages (from tensorflow) (0.37.1)\n",
            "Requirement already satisfied: numpy<2.0.0,>=1.23.5 in /usr/local/lib/python3.10/dist-packages (from tensorflow) (1.26.4)\n",
            "Requirement already satisfied: wheel<1.0,>=0.23.0 in /usr/local/lib/python3.10/dist-packages (from astunparse>=1.6.0->tensorflow) (0.45.1)\n",
            "Requirement already satisfied: rich in /usr/local/lib/python3.10/dist-packages (from keras>=3.2.0->tensorflow) (13.9.4)\n",
            "Requirement already satisfied: namex in /usr/local/lib/python3.10/dist-packages (from keras>=3.2.0->tensorflow) (0.0.8)\n",
            "Requirement already satisfied: optree in /usr/local/lib/python3.10/dist-packages (from keras>=3.2.0->tensorflow) (0.13.1)\n",
            "Requirement already satisfied: charset-normalizer<4,>=2 in /usr/local/lib/python3.10/dist-packages (from requests<3,>=2.21.0->tensorflow) (3.4.0)\n",
            "Requirement already satisfied: idna<4,>=2.5 in /usr/local/lib/python3.10/dist-packages (from requests<3,>=2.21.0->tensorflow) (3.10)\n",
            "Requirement already satisfied: urllib3<3,>=1.21.1 in /usr/local/lib/python3.10/dist-packages (from requests<3,>=2.21.0->tensorflow) (2.2.3)\n",
            "Requirement already satisfied: certifi>=2017.4.17 in /usr/local/lib/python3.10/dist-packages (from requests<3,>=2.21.0->tensorflow) (2024.12.14)\n",
            "Requirement already satisfied: markdown>=2.6.8 in /usr/local/lib/python3.10/dist-packages (from tensorboard<2.18,>=2.17->tensorflow) (3.7)\n",
            "Requirement already satisfied: tensorboard-data-server<0.8.0,>=0.7.0 in /usr/local/lib/python3.10/dist-packages (from tensorboard<2.18,>=2.17->tensorflow) (0.7.2)\n",
            "Requirement already satisfied: werkzeug>=1.0.1 in /usr/local/lib/python3.10/dist-packages (from tensorboard<2.18,>=2.17->tensorflow) (3.1.3)\n",
            "Requirement already satisfied: MarkupSafe>=2.1.1 in /usr/local/lib/python3.10/dist-packages (from werkzeug>=1.0.1->tensorboard<2.18,>=2.17->tensorflow) (3.0.2)\n",
            "Requirement already satisfied: markdown-it-py>=2.2.0 in /usr/local/lib/python3.10/dist-packages (from rich->keras>=3.2.0->tensorflow) (3.0.0)\n",
            "Requirement already satisfied: pygments<3.0.0,>=2.13.0 in /usr/local/lib/python3.10/dist-packages (from rich->keras>=3.2.0->tensorflow) (2.18.0)\n",
            "Requirement already satisfied: mdurl~=0.1 in /usr/local/lib/python3.10/dist-packages (from markdown-it-py>=2.2.0->rich->keras>=3.2.0->tensorflow) (0.1.2)\n"
          ]
        }
      ]
    },
    {
      "cell_type": "code",
      "source": [
        "import numpy as np\n",
        "import pandas as pd\n",
        "from sklearn.ensemble import IsolationForest\n",
        "from sklearn.svm import OneClassSVM\n",
        "from sklearn.cluster import KMeans, DBSCAN\n",
        "from sklearn.metrics import silhouette_score\n",
        "from sklearn.decomposition import PCA\n",
        "from tensorflow.keras.models import Model\n",
        "from tensorflow.keras.layers import Input, Dense\n",
        "import matplotlib.pyplot as plt"
      ],
      "metadata": {
        "id": "j8XrNOe-TSK2"
      },
      "execution_count": 22,
      "outputs": []
    },
    {
      "cell_type": "code",
      "source": [
        "datafile = '/content/Healthcare Providers.csv'\n",
        "data = pd.read_csv(datafile)"
      ],
      "metadata": {
        "id": "VbNWoqOHA5mE"
      },
      "execution_count": 23,
      "outputs": []
    },
    {
      "cell_type": "code",
      "source": [
        "# --- 1. Data Cleaning and Transformation --- #\n",
        "\n",
        "# 1.1 Handle missing values\n",
        "# For numerical columns: Impute using median or KNN imputation\n",
        "numerical_cols = data.select_dtypes(include=['number']).columns\n",
        "numerical_imputer = SimpleImputer(strategy='median')\n",
        "data[numerical_cols] = numerical_imputer.fit_transform(data[numerical_cols])\n",
        "\n",
        "# For categorical columns: Impute using the mode or \"unknown\" placeholder\n",
        "categorical_cols = data.select_dtypes(include=['object']).columns\n",
        "categorical_imputer = SimpleImputer(strategy='most_frequent')\n",
        "data[categorical_cols] = categorical_imputer.fit_transform(data[categorical_cols])\n",
        "\n",
        "# Remove redundant features\n",
        "# Drop columns with excessive missing data (>50%)\n",
        "data = data.loc[:, data.isnull().mean() < 0.5]\n",
        "\n",
        "# Eliminate non-informative fields like unique identifiers\n",
        "non_informative_columns = ['ID', 'Provider_ID']  # Example columns, replace with actual unique identifiers\n",
        "data = data.drop(columns=[col for col in non_informative_columns if col in data.columns], errors='ignore')\n",
        "\n",
        "# Standardize formats for categorical data\n",
        "data[categorical_cols] = data[categorical_cols].apply(lambda x: x.str.lower().str.strip() if x.dtype == \"object\" else x)"
      ],
      "metadata": {
        "id": "nRAlEAShA-Nx"
      },
      "execution_count": 24,
      "outputs": []
    },
    {
      "cell_type": "code",
      "source": [
        "# --- 2. Encoding Categorical Variables --- #\n",
        "\n",
        "# Use Label Encoding for low-cardinality features\n",
        "low_cardinality_features = [col for col in categorical_cols if data[col].nunique() <= 10]\n",
        "label_encoders = {col: LabelEncoder() for col in low_cardinality_features}\n",
        "for col, le in label_encoders.items():\n",
        "    data[col] = le.fit_transform(data[col])\n",
        "\n",
        "# Use Frequency Encoding for high-cardinality features\n",
        "high_cardinality_features = [col for col in categorical_cols if data[col].nunique() > 10]\n",
        "for col in high_cardinality_features:\n",
        "    freq_encoding = data[col].value_counts().to_dict()\n",
        "    data[col] = data[col].map(freq_encoding)"
      ],
      "metadata": {
        "id": "-Aomgg-KBEfX"
      },
      "execution_count": 25,
      "outputs": []
    },
    {
      "cell_type": "code",
      "source": [
        "# --- 3. Feature Scaling and Normalization --- #\n",
        "\n",
        "# Apply StandardScaler for numerical columns\n",
        "scaler = StandardScaler()\n",
        "data[numerical_cols] = scaler.fit_transform(data[numerical_cols])\n",
        "\n",
        "# Use log transformation for skewed features\n",
        "skewed_cols = [col for col in numerical_cols if data[col].skew() > 1]\n",
        "# Check if skewed_cols is empty before applying log transformation\n",
        "if skewed_cols:  # Proceed only if skewed_cols is not empty\n",
        "    log_transformer = FunctionTransformer(np.log1p, validate=True)\n",
        "    data[skewed_cols] = log_transformer.fit_transform(data[skewed_cols])"
      ],
      "metadata": {
        "id": "IQtwBIClBJAy"
      },
      "execution_count": 27,
      "outputs": []
    },
    {
      "cell_type": "code",
      "source": [
        "# --- 4. Outlier Detection and Handling --- #\n",
        "\n",
        "# Identify outliers using z-scores\n",
        "from scipy.stats import zscore\n",
        "z_scores = np.abs(zscore(data[numerical_cols]))\n",
        "outliers = (z_scores > 3).any(axis=1)\n",
        "\n",
        "# Cap extreme values to the 95th percentile\n",
        "for col in numerical_cols:\n",
        "    upper_limit = data[col].quantile(0.95)\n",
        "    data[col] = np.where(data[col] > upper_limit, upper_limit, data[col])\n"
      ],
      "metadata": {
        "id": "0d9_TjxdBKtd"
      },
      "execution_count": 28,
      "outputs": []
    },
    {
      "cell_type": "code",
      "source": [
        "# --- 5. Dimensionality Reduction --- #\n",
        "\n",
        "# Apply PCA to reduce dimensions while retaining >95% variance\n",
        "pca = PCA(n_components=0.95)\n",
        "pca_data = pca.fit_transform(data[numerical_cols])\n",
        "data = pd.concat([data.drop(columns=numerical_cols), pd.DataFrame(pca_data)], axis=1)\n",
        "\n",
        "# Drop highly correlated features\n",
        "correlation_matrix = data.corr()\n",
        "high_corr_pairs = correlation_matrix.abs().stack().reset_index().query('level_0 != level_1 and 0.8 <= 0')[['level_0', 'level_1']]\n",
        "data = data.drop(columns=[pair[1] for pair in high_corr_pairs.itertuples(index=False)], errors='ignore')\n"
      ],
      "metadata": {
        "id": "00XEZaFrBM0v"
      },
      "execution_count": 29,
      "outputs": []
    },
    {
      "cell_type": "code",
      "source": [
        "# --- 6. Data Splitting --- #\n",
        "\n",
        "# Split the dataset\n",
        "train_data, test_data = train_test_split(data, test_size=0.2, random_state=42)\n",
        "\n",
        "# Save processed data\n",
        "train_data.to_csv('/mnt/data/train_data.csv', index=False)\n",
        "test_data.to_csv('/mnt/data/test_data.csv', index=False)\n",
        "\n",
        "print(\"Preprocessing completed. Training and test datasets saved.\")"
      ],
      "metadata": {
        "colab": {
          "base_uri": "https://localhost:8080/"
        },
        "id": "9AXHnwO2BOfe",
        "outputId": "bd33f968-f39d-4f52-ecf1-79ad0b8ab3fb"
      },
      "execution_count": 30,
      "outputs": [
        {
          "output_type": "stream",
          "name": "stdout",
          "text": [
            "Preprocessing completed. Training and test datasets saved.\n"
          ]
        }
      ]
    },
    {
      "cell_type": "code",
      "source": [
        "# --- 2.1. Exploratory Anomaly Detection --- #\n",
        "\n",
        "# Convert all column names to strings before fitting the IsolationForest model\n",
        "data.columns = data.columns.astype(str)\n",
        "\n",
        "# Isolation Forest\n",
        "iso_forest = IsolationForest(contamination=0.05, random_state=42)\n",
        "data['IsoForest_Score'] = iso_forest.fit_predict(data)\n",
        "\n",
        "# One-Class SVM\n",
        "one_class_svm = OneClassSVM(kernel='rbf', gamma=0.1, nu=0.05)\n",
        "data['OCSVM_Score'] = one_class_svm.fit_predict(data)\n",
        "\n",
        "# DBSCAN\n",
        "dbscan = DBSCAN(eps=1.5, min_samples=5)\n",
        "data['DBSCAN_Labels'] = dbscan.fit_predict(data)"
      ],
      "metadata": {
        "id": "3iDZhntEBP2n"
      },
      "execution_count": 32,
      "outputs": []
    },
    {
      "cell_type": "code",
      "source": [
        "# --- 2.2. Clustering-Based Anomaly Detection --- #\n",
        "\n",
        "# K-Means Clustering\n",
        "kmeans = KMeans(n_clusters=3, random_state=42)\n",
        "data['KMeans_Cluster'] = kmeans.fit_predict(data)\n",
        "\n",
        "# Calculate distances to cluster centroids\n",
        "data['KMeans_Distance'] = np.min(\n",
        "    np.linalg.norm(data.iloc[:, :-1].values - kmeans.cluster_centers_[data['KMeans_Cluster']], axis=1)\n",
        ")\n",
        "\n",
        "# Silhouette Score for Clustering Evaluation\n",
        "silhouette_avg = silhouette_score(data.iloc[:, :-1], data['KMeans_Cluster'])\n",
        "print(f\"Silhouette Score: {silhouette_avg:.2f}\")"
      ],
      "metadata": {
        "colab": {
          "base_uri": "https://localhost:8080/"
        },
        "id": "5chBMexDBRZF",
        "outputId": "7b0bd2ce-cd42-4183-c395-038af2051511"
      },
      "execution_count": 33,
      "outputs": [
        {
          "output_type": "stream",
          "name": "stdout",
          "text": [
            "Silhouette Score: 0.52\n"
          ]
        }
      ]
    },
    {
      "cell_type": "code",
      "source": [
        "# --- 2.3. Deep Learning with Autoencoders --- #\n",
        "\n",
        "# Define Autoencoder\n",
        "input_dim = data.shape[1]\n",
        "input_layer = Input(shape=(input_dim,))\n",
        "encoder = Dense(64, activation='relu')(input_layer)\n",
        "encoder = Dense(32, activation='relu')(encoder)\n",
        "decoder = Dense(64, activation='relu')(encoder)\n",
        "output_layer = Dense(input_dim, activation='sigmoid')(decoder)\n",
        "\n",
        "autoencoder = Model(inputs=input_layer, outputs=output_layer)\n",
        "autoencoder.compile(optimizer='adam', loss='mse')\n",
        "\n",
        "# Train Autoencoder\n",
        "autoencoder.fit(data, data, epochs=50, batch_size=32, shuffle=True, validation_split=0.2, verbose=1)\n",
        "\n",
        "# Reconstruction Error\n",
        "reconstructions = autoencoder.predict(data)\n",
        "reconstruction_error = np.mean(np.power(data - reconstructions, 2), axis=1)\n",
        "data['Autoencoder_Reconstruction_Error'] = reconstruction_error\n",
        "\n",
        "# Define Threshold for Anomalies\n",
        "threshold = np.percentile(reconstruction_error, 95)\n",
        "data['Autoencoder_Anomaly'] = reconstruction_error > threshold"
      ],
      "metadata": {
        "colab": {
          "base_uri": "https://localhost:8080/"
        },
        "id": "pgR1iU9bBTD7",
        "outputId": "3c4dc81d-1985-4313-c429-026628f8acdb"
      },
      "execution_count": 34,
      "outputs": [
        {
          "output_type": "stream",
          "name": "stdout",
          "text": [
            "Epoch 1/50\n",
            "\u001b[1m113/113\u001b[0m \u001b[32m━━━━━━━━━━━━━━━━━━━━\u001b[0m\u001b[37m\u001b[0m \u001b[1m2s\u001b[0m 5ms/step - loss: 258386.4844 - val_loss: 272192.8750\n",
            "Epoch 2/50\n",
            "\u001b[1m113/113\u001b[0m \u001b[32m━━━━━━━━━━━━━━━━━━━━\u001b[0m\u001b[37m\u001b[0m \u001b[1m0s\u001b[0m 3ms/step - loss: 259630.5625 - val_loss: 272189.8438\n",
            "Epoch 3/50\n",
            "\u001b[1m113/113\u001b[0m \u001b[32m━━━━━━━━━━━━━━━━━━━━\u001b[0m\u001b[37m\u001b[0m \u001b[1m1s\u001b[0m 3ms/step - loss: 259312.5469 - val_loss: 272189.8438\n",
            "Epoch 4/50\n",
            "\u001b[1m113/113\u001b[0m \u001b[32m━━━━━━━━━━━━━━━━━━━━\u001b[0m\u001b[37m\u001b[0m \u001b[1m0s\u001b[0m 3ms/step - loss: 259850.2656 - val_loss: 272189.8438\n",
            "Epoch 5/50\n",
            "\u001b[1m113/113\u001b[0m \u001b[32m━━━━━━━━━━━━━━━━━━━━\u001b[0m\u001b[37m\u001b[0m \u001b[1m1s\u001b[0m 5ms/step - loss: 256879.7500 - val_loss: 272189.8438\n",
            "Epoch 6/50\n",
            "\u001b[1m113/113\u001b[0m \u001b[32m━━━━━━━━━━━━━━━━━━━━\u001b[0m\u001b[37m\u001b[0m \u001b[1m1s\u001b[0m 5ms/step - loss: 262047.9219 - val_loss: 272189.8438\n",
            "Epoch 7/50\n",
            "\u001b[1m113/113\u001b[0m \u001b[32m━━━━━━━━━━━━━━━━━━━━\u001b[0m\u001b[37m\u001b[0m \u001b[1m1s\u001b[0m 8ms/step - loss: 256634.9062 - val_loss: 272189.8438\n",
            "Epoch 8/50\n",
            "\u001b[1m113/113\u001b[0m \u001b[32m━━━━━━━━━━━━━━━━━━━━\u001b[0m\u001b[37m\u001b[0m \u001b[1m1s\u001b[0m 9ms/step - loss: 260809.2500 - val_loss: 272189.8438\n",
            "Epoch 9/50\n",
            "\u001b[1m113/113\u001b[0m \u001b[32m━━━━━━━━━━━━━━━━━━━━\u001b[0m\u001b[37m\u001b[0m \u001b[1m0s\u001b[0m 3ms/step - loss: 257201.4219 - val_loss: 272189.8438\n",
            "Epoch 10/50\n",
            "\u001b[1m113/113\u001b[0m \u001b[32m━━━━━━━━━━━━━━━━━━━━\u001b[0m\u001b[37m\u001b[0m \u001b[1m1s\u001b[0m 2ms/step - loss: 262696.3750 - val_loss: 272189.8438\n",
            "Epoch 11/50\n",
            "\u001b[1m113/113\u001b[0m \u001b[32m━━━━━━━━━━━━━━━━━━━━\u001b[0m\u001b[37m\u001b[0m \u001b[1m0s\u001b[0m 2ms/step - loss: 259975.2656 - val_loss: 272189.8438\n",
            "Epoch 12/50\n",
            "\u001b[1m113/113\u001b[0m \u001b[32m━━━━━━━━━━━━━━━━━━━━\u001b[0m\u001b[37m\u001b[0m \u001b[1m0s\u001b[0m 2ms/step - loss: 261105.2812 - val_loss: 272189.8438\n",
            "Epoch 13/50\n",
            "\u001b[1m113/113\u001b[0m \u001b[32m━━━━━━━━━━━━━━━━━━━━\u001b[0m\u001b[37m\u001b[0m \u001b[1m0s\u001b[0m 2ms/step - loss: 262044.7969 - val_loss: 272189.8438\n",
            "Epoch 14/50\n",
            "\u001b[1m113/113\u001b[0m \u001b[32m━━━━━━━━━━━━━━━━━━━━\u001b[0m\u001b[37m\u001b[0m \u001b[1m0s\u001b[0m 2ms/step - loss: 263015.5312 - val_loss: 272189.8438\n",
            "Epoch 15/50\n",
            "\u001b[1m113/113\u001b[0m \u001b[32m━━━━━━━━━━━━━━━━━━━━\u001b[0m\u001b[37m\u001b[0m \u001b[1m0s\u001b[0m 2ms/step - loss: 257805.3125 - val_loss: 272189.8438\n",
            "Epoch 16/50\n",
            "\u001b[1m113/113\u001b[0m \u001b[32m━━━━━━━━━━━━━━━━━━━━\u001b[0m\u001b[37m\u001b[0m \u001b[1m0s\u001b[0m 2ms/step - loss: 261767.6406 - val_loss: 272189.8438\n",
            "Epoch 17/50\n",
            "\u001b[1m113/113\u001b[0m \u001b[32m━━━━━━━━━━━━━━━━━━━━\u001b[0m\u001b[37m\u001b[0m \u001b[1m0s\u001b[0m 2ms/step - loss: 258768.6250 - val_loss: 272189.8438\n",
            "Epoch 18/50\n",
            "\u001b[1m113/113\u001b[0m \u001b[32m━━━━━━━━━━━━━━━━━━━━\u001b[0m\u001b[37m\u001b[0m \u001b[1m0s\u001b[0m 2ms/step - loss: 262606.5938 - val_loss: 272189.8438\n",
            "Epoch 19/50\n",
            "\u001b[1m113/113\u001b[0m \u001b[32m━━━━━━━━━━━━━━━━━━━━\u001b[0m\u001b[37m\u001b[0m \u001b[1m0s\u001b[0m 2ms/step - loss: 261757.8438 - val_loss: 272189.8438\n",
            "Epoch 20/50\n",
            "\u001b[1m113/113\u001b[0m \u001b[32m━━━━━━━━━━━━━━━━━━━━\u001b[0m\u001b[37m\u001b[0m \u001b[1m0s\u001b[0m 2ms/step - loss: 261732.7812 - val_loss: 272189.8438\n",
            "Epoch 21/50\n",
            "\u001b[1m113/113\u001b[0m \u001b[32m━━━━━━━━━━━━━━━━━━━━\u001b[0m\u001b[37m\u001b[0m \u001b[1m0s\u001b[0m 2ms/step - loss: 257275.9375 - val_loss: 272189.8438\n",
            "Epoch 22/50\n",
            "\u001b[1m113/113\u001b[0m \u001b[32m━━━━━━━━━━━━━━━━━━━━\u001b[0m\u001b[37m\u001b[0m \u001b[1m0s\u001b[0m 2ms/step - loss: 256281.6250 - val_loss: 272189.8438\n",
            "Epoch 23/50\n",
            "\u001b[1m113/113\u001b[0m \u001b[32m━━━━━━━━━━━━━━━━━━━━\u001b[0m\u001b[37m\u001b[0m \u001b[1m0s\u001b[0m 2ms/step - loss: 260847.1562 - val_loss: 272189.8438\n",
            "Epoch 24/50\n",
            "\u001b[1m113/113\u001b[0m \u001b[32m━━━━━━━━━━━━━━━━━━━━\u001b[0m\u001b[37m\u001b[0m \u001b[1m0s\u001b[0m 2ms/step - loss: 259025.8281 - val_loss: 272189.8438\n",
            "Epoch 25/50\n",
            "\u001b[1m113/113\u001b[0m \u001b[32m━━━━━━━━━━━━━━━━━━━━\u001b[0m\u001b[37m\u001b[0m \u001b[1m0s\u001b[0m 2ms/step - loss: 257703.6094 - val_loss: 272189.8438\n",
            "Epoch 26/50\n",
            "\u001b[1m113/113\u001b[0m \u001b[32m━━━━━━━━━━━━━━━━━━━━\u001b[0m\u001b[37m\u001b[0m \u001b[1m0s\u001b[0m 2ms/step - loss: 261292.5469 - val_loss: 272189.8438\n",
            "Epoch 27/50\n",
            "\u001b[1m113/113\u001b[0m \u001b[32m━━━━━━━━━━━━━━━━━━━━\u001b[0m\u001b[37m\u001b[0m \u001b[1m0s\u001b[0m 2ms/step - loss: 260977.2344 - val_loss: 272189.8438\n",
            "Epoch 28/50\n",
            "\u001b[1m113/113\u001b[0m \u001b[32m━━━━━━━━━━━━━━━━━━━━\u001b[0m\u001b[37m\u001b[0m \u001b[1m0s\u001b[0m 2ms/step - loss: 259171.5781 - val_loss: 272189.8438\n",
            "Epoch 29/50\n",
            "\u001b[1m113/113\u001b[0m \u001b[32m━━━━━━━━━━━━━━━━━━━━\u001b[0m\u001b[37m\u001b[0m \u001b[1m0s\u001b[0m 2ms/step - loss: 263441.2500 - val_loss: 272189.8438\n",
            "Epoch 30/50\n",
            "\u001b[1m113/113\u001b[0m \u001b[32m━━━━━━━━━━━━━━━━━━━━\u001b[0m\u001b[37m\u001b[0m \u001b[1m0s\u001b[0m 2ms/step - loss: 264221.5625 - val_loss: 272189.8438\n",
            "Epoch 31/50\n",
            "\u001b[1m113/113\u001b[0m \u001b[32m━━━━━━━━━━━━━━━━━━━━\u001b[0m\u001b[37m\u001b[0m \u001b[1m0s\u001b[0m 2ms/step - loss: 258049.5312 - val_loss: 272189.8438\n",
            "Epoch 32/50\n",
            "\u001b[1m113/113\u001b[0m \u001b[32m━━━━━━━━━━━━━━━━━━━━\u001b[0m\u001b[37m\u001b[0m \u001b[1m0s\u001b[0m 2ms/step - loss: 255782.6406 - val_loss: 272189.8438\n",
            "Epoch 33/50\n",
            "\u001b[1m113/113\u001b[0m \u001b[32m━━━━━━━━━━━━━━━━━━━━\u001b[0m\u001b[37m\u001b[0m \u001b[1m0s\u001b[0m 2ms/step - loss: 261049.5938 - val_loss: 272189.8438\n",
            "Epoch 34/50\n",
            "\u001b[1m113/113\u001b[0m \u001b[32m━━━━━━━━━━━━━━━━━━━━\u001b[0m\u001b[37m\u001b[0m \u001b[1m0s\u001b[0m 2ms/step - loss: 263779.0000 - val_loss: 272189.8438\n",
            "Epoch 35/50\n",
            "\u001b[1m113/113\u001b[0m \u001b[32m━━━━━━━━━━━━━━━━━━━━\u001b[0m\u001b[37m\u001b[0m \u001b[1m0s\u001b[0m 2ms/step - loss: 260442.4219 - val_loss: 272189.8438\n",
            "Epoch 36/50\n",
            "\u001b[1m113/113\u001b[0m \u001b[32m━━━━━━━━━━━━━━━━━━━━\u001b[0m\u001b[37m\u001b[0m \u001b[1m0s\u001b[0m 2ms/step - loss: 262152.0625 - val_loss: 272189.8438\n",
            "Epoch 37/50\n",
            "\u001b[1m113/113\u001b[0m \u001b[32m━━━━━━━━━━━━━━━━━━━━\u001b[0m\u001b[37m\u001b[0m \u001b[1m0s\u001b[0m 2ms/step - loss: 260861.5781 - val_loss: 272189.8438\n",
            "Epoch 38/50\n",
            "\u001b[1m113/113\u001b[0m \u001b[32m━━━━━━━━━━━━━━━━━━━━\u001b[0m\u001b[37m\u001b[0m \u001b[1m0s\u001b[0m 2ms/step - loss: 259609.1094 - val_loss: 272189.8438\n",
            "Epoch 39/50\n",
            "\u001b[1m113/113\u001b[0m \u001b[32m━━━━━━━━━━━━━━━━━━━━\u001b[0m\u001b[37m\u001b[0m \u001b[1m0s\u001b[0m 2ms/step - loss: 260211.7188 - val_loss: 272189.8438\n",
            "Epoch 40/50\n",
            "\u001b[1m113/113\u001b[0m \u001b[32m━━━━━━━━━━━━━━━━━━━━\u001b[0m\u001b[37m\u001b[0m \u001b[1m0s\u001b[0m 2ms/step - loss: 262298.3750 - val_loss: 272189.8438\n",
            "Epoch 41/50\n",
            "\u001b[1m113/113\u001b[0m \u001b[32m━━━━━━━━━━━━━━━━━━━━\u001b[0m\u001b[37m\u001b[0m \u001b[1m0s\u001b[0m 2ms/step - loss: 262400.0000 - val_loss: 272189.8438\n",
            "Epoch 42/50\n",
            "\u001b[1m113/113\u001b[0m \u001b[32m━━━━━━━━━━━━━━━━━━━━\u001b[0m\u001b[37m\u001b[0m \u001b[1m0s\u001b[0m 2ms/step - loss: 266771.7188 - val_loss: 272189.8438\n",
            "Epoch 43/50\n",
            "\u001b[1m113/113\u001b[0m \u001b[32m━━━━━━━━━━━━━━━━━━━━\u001b[0m\u001b[37m\u001b[0m \u001b[1m0s\u001b[0m 2ms/step - loss: 258658.3438 - val_loss: 272189.8438\n",
            "Epoch 44/50\n",
            "\u001b[1m113/113\u001b[0m \u001b[32m━━━━━━━━━━━━━━━━━━━━\u001b[0m\u001b[37m\u001b[0m \u001b[1m0s\u001b[0m 3ms/step - loss: 256931.9062 - val_loss: 272189.8438\n",
            "Epoch 45/50\n",
            "\u001b[1m113/113\u001b[0m \u001b[32m━━━━━━━━━━━━━━━━━━━━\u001b[0m\u001b[37m\u001b[0m \u001b[1m0s\u001b[0m 3ms/step - loss: 259004.2031 - val_loss: 272189.8438\n",
            "Epoch 46/50\n",
            "\u001b[1m113/113\u001b[0m \u001b[32m━━━━━━━━━━━━━━━━━━━━\u001b[0m\u001b[37m\u001b[0m \u001b[1m1s\u001b[0m 3ms/step - loss: 264171.5938 - val_loss: 272189.8438\n",
            "Epoch 47/50\n",
            "\u001b[1m113/113\u001b[0m \u001b[32m━━━━━━━━━━━━━━━━━━━━\u001b[0m\u001b[37m\u001b[0m \u001b[1m1s\u001b[0m 3ms/step - loss: 258241.2031 - val_loss: 272189.8438\n",
            "Epoch 48/50\n",
            "\u001b[1m113/113\u001b[0m \u001b[32m━━━━━━━━━━━━━━━━━━━━\u001b[0m\u001b[37m\u001b[0m \u001b[1m1s\u001b[0m 3ms/step - loss: 262376.1875 - val_loss: 272189.8438\n",
            "Epoch 49/50\n",
            "\u001b[1m113/113\u001b[0m \u001b[32m━━━━━━━━━━━━━━━━━━━━\u001b[0m\u001b[37m\u001b[0m \u001b[1m0s\u001b[0m 3ms/step - loss: 259287.7344 - val_loss: 272189.8438\n",
            "Epoch 50/50\n",
            "\u001b[1m113/113\u001b[0m \u001b[32m━━━━━━━━━━━━━━━━━━━━\u001b[0m\u001b[37m\u001b[0m \u001b[1m0s\u001b[0m 2ms/step - loss: 259455.5156 - val_loss: 272189.8438\n",
            "\u001b[1m141/141\u001b[0m \u001b[32m━━━━━━━━━━━━━━━━━━━━\u001b[0m\u001b[37m\u001b[0m \u001b[1m0s\u001b[0m 1ms/step\n"
          ]
        }
      ]
    },
    {
      "cell_type": "code",
      "source": [
        "# --- 2.4. Model Evaluation --- #\n",
        "\n",
        "# Plot Reconstruction Error Distribution\n",
        "plt.hist(reconstruction_error, bins=50, alpha=0.7, color='blue', label='Reconstruction Error')\n",
        "plt.axvline(x=threshold, color='red', linestyle='--', label='Anomaly Threshold')\n",
        "plt.title('Reconstruction Error Distribution')\n",
        "plt.xlabel('Reconstruction Error')\n",
        "plt.ylabel('Frequency')\n",
        "plt.legend()\n",
        "plt.show()\n"
      ],
      "metadata": {
        "colab": {
          "base_uri": "https://localhost:8080/",
          "height": 472
        },
        "id": "xpR_tc6dBUd_",
        "outputId": "7c57f06f-301b-4f56-efb9-7172b380d778"
      },
      "execution_count": 35,
      "outputs": [
        {
          "output_type": "display_data",
          "data": {
            "text/plain": [
              "<Figure size 640x480 with 1 Axes>"
            ],
            "image/png": "[encoded data removed]"
          },
          "metadata": {}
        }
      ]
    },
    {
      "cell_type": "code",
      "source": [
        "# --- 2.5. Ensemble Approach --- #\n",
        "\n",
        "# Combine models using weighted average\n",
        "data['Ensemble_Score'] = (0.4 * data['IsoForest_Score'] +\n",
        "                          0.3 * data['OCSVM_Score'] +\n",
        "                          0.3 * data['Autoencoder_Reconstruction_Error'])\n",
        "\n",
        "# Normalize ensemble scores for comparison\n",
        "data['Ensemble_Score_Normalized'] = (data['Ensemble_Score'] - data['Ensemble_Score'].min()) / \\\n",
        "                                    (data['Ensemble_Score'].max() - data['Ensemble_Score'].min())\n",
        "\n",
        "# Save results\n",
        "data.to_csv('/mnt/data/anomaly_detection_results.csv', index=False)\n",
        "\n",
        "print(\"Modeling and anomaly detection completed. Results saved.\")"
      ],
      "metadata": {
        "colab": {
          "base_uri": "https://localhost:8080/"
        },
        "id": "aMAU9y6NJEIb",
        "outputId": "ce3e43db-d804-4fc7-827f-ec8c49e36a6c"
      },
      "execution_count": 36,
      "outputs": [
        {
          "output_type": "stream",
          "name": "stdout",
          "text": [
            "Modeling and anomaly detection completed. Results saved.\n"
          ]
        }
      ]
    }
  ]
}