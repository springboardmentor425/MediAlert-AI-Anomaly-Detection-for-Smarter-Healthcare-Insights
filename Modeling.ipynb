{
  "nbformat": 4,
  "nbformat_minor": 0,
  "metadata": {
    "colab": {
      "provenance": []
    },
    "kernelspec": {
      "name": "python3",
      "display_name": "Python 3"
    },
    "language_info": {
      "name": "python"
    }
  },
  "cells": [
    {
      "cell_type": "code",
      "execution_count": 3,
      "metadata": {
        "id": "0IuvIVuLC7T4"
      },
      "outputs": [],
      "source": [
        "import numpy as np\n",
        "import pandas as pd\n",
        "from sklearn.ensemble import IsolationForest\n",
        "from sklearn.svm import OneClassSVM\n",
        "from sklearn.cluster import KMeans, DBSCAN\n",
        "from sklearn.metrics import silhouette_score\n",
        "from sklearn.decomposition import PCA\n",
        "from sklearn.preprocessing import LabelEncoder\n",
        "from sklearn.impute import SimpleImputer, KNNImputer\n",
        "from sklearn.preprocessing import LabelEncoder, StandardScaler\n",
        "from sklearn.model_selection import train_test_split\n",
        "from tensorflow.keras.models import Model\n",
        "from tensorflow.keras.layers import Input, Dense\n",
        "import matplotlib.pyplot as plt"
      ]
    },
    {
      "cell_type": "code",
      "source": [
        "datafile = '/content/Healthcare Providers.csv'\n",
        "data = pd.read_csv(datafile)"
      ],
      "metadata": {
        "id": "jMBDC3g6DQYO"
      },
      "execution_count": 4,
      "outputs": []
    },
    {
      "cell_type": "markdown",
      "source": [
        "1. Data Cleaning and Transformation"
      ],
      "metadata": {
        "id": "65MkjTcbDkTB"
      }
    },
    {
      "cell_type": "code",
      "source": [
        "# 1.1 Handle missing values\n",
        "# For numerical columns: Impute using median or KNN imputation\n",
        "numerical_cols = data.select_dtypes(include=['number']).columns\n",
        "numerical_imputer = SimpleImputer(strategy='median')\n",
        "data[numerical_cols] = numerical_imputer.fit_transform(data[numerical_cols])\n",
        "\n",
        "# For categorical columns: Impute using the mode or \"unknown\" placeholder\n",
        "categorical_cols = data.select_dtypes(include=['object']).columns\n",
        "categorical_imputer = SimpleImputer(strategy='most_frequent')\n",
        "data[categorical_cols] = categorical_imputer.fit_transform(data[categorical_cols])\n",
        "\n",
        "# Remove redundant features\n",
        "# Drop columns with excessive missing data (>50%)\n",
        "data = data.loc[:, data.isnull().mean() < 0.5]\n",
        "\n",
        "# Eliminate non-informative fields like unique identifiers\n",
        "non_informative_columns = ['ID', 'Provider_ID']  # Example columns, replace with actual unique identifiers\n",
        "data = data.drop(columns=[col for col in non_informative_columns if col in data.columns], errors='ignore')\n",
        "\n",
        "# Standardize formats for categorical data\n",
        "data[categorical_cols] = data[categorical_cols].apply(lambda x: x.str.lower().str.strip() if x.dtype == \"object\" else x)\n"
      ],
      "metadata": {
        "id": "4g0KmmSHDmdr"
      },
      "execution_count": 5,
      "outputs": []
    },
    {
      "cell_type": "markdown",
      "source": [
        "2. Encoding Categorical Variables"
      ],
      "metadata": {
        "id": "lDiNlMd9ETG6"
      }
    },
    {
      "cell_type": "code",
      "source": [
        "#Use Label Encoding for low-cardinality features\n",
        "low_cardinality_features = [col for col in categorical_cols if data[col].nunique() <= 10]\n",
        "label_encoders = {col: LabelEncoder() for col in low_cardinality_features}\n",
        "for col, le in label_encoders.items():\n",
        "    data[col] = le.fit_transform(data[col])\n",
        "\n",
        "# Use Frequency Encoding for high-cardinality features\n",
        "high_cardinality_features = [col for col in categorical_cols if data[col].nunique() > 10]\n",
        "for col in high_cardinality_features:\n",
        "    freq_encoding = data[col].value_counts().to_dict()\n",
        "    data[col] = data[col].map(freq_encoding)"
      ],
      "metadata": {
        "id": "etYUcXnqEWlh"
      },
      "execution_count": 6,
      "outputs": []
    },
    {
      "cell_type": "markdown",
      "source": [
        "3. Feature Scaling and Normalization"
      ],
      "metadata": {
        "id": "1ZkeelKkEt4b"
      }
    },
    {
      "cell_type": "code",
      "source": [
        "# Apply StandardScaler for numerical columns\n",
        "scaler = StandardScaler()\n",
        "data[numerical_cols] = scaler.fit_transform(data[numerical_cols])\n",
        "\n",
        "# Use log transformation for skewed features\n",
        "skewed_cols = [col for col in numerical_cols if data[col].skew() > 1]\n",
        "# Check if skewed_cols is empty before applying log transformation\n",
        "if skewed_cols:  # Proceed only if skewed_cols is not empty\n",
        "    log_transformer = FunctionTransformer(np.log1p, validate=True)\n",
        "    data[skewed_cols] = log_transformer.fit_transform(data[skewed_cols])\n"
      ],
      "metadata": {
        "id": "-q-4TY7uEurI"
      },
      "execution_count": 7,
      "outputs": []
    },
    {
      "cell_type": "markdown",
      "source": [
        "4. Outlier Detection and Handling"
      ],
      "metadata": {
        "id": "OUJH9UTEFBSO"
      }
    },
    {
      "cell_type": "code",
      "source": [
        "# Identify outliers using z-scores\n",
        "from scipy.stats import zscore\n",
        "z_scores = np.abs(zscore(data[numerical_cols]))\n",
        "outliers = (z_scores > 3).any(axis=1)\n",
        "\n",
        "# Cap extreme values to the 95th percentile\n",
        "for col in numerical_cols:\n",
        "    upper_limit = data[col].quantile(0.95)\n",
        "    data[col] = np.where(data[col] > upper_limit, upper_limit, data[col])"
      ],
      "metadata": {
        "id": "DUzAMdM7FB2b"
      },
      "execution_count": 8,
      "outputs": []
    },
    {
      "cell_type": "markdown",
      "source": [
        "5. Dimensionality Reduction"
      ],
      "metadata": {
        "id": "evzQEvDwFIK3"
      }
    },
    {
      "cell_type": "code",
      "source": [
        "# Apply PCA to reduce dimensions while retaining >95% variance\n",
        "pca = PCA(n_components=0.95)\n",
        "pca_data = pca.fit_transform(data[numerical_cols])\n",
        "data = pd.concat([data.drop(columns=numerical_cols), pd.DataFrame(pca_data)], axis=1)\n",
        "\n",
        "# Drop highly correlated features\n",
        "correlation_matrix = data.corr()\n",
        "high_corr_pairs = correlation_matrix.abs().stack().reset_index().query('level_0 != level_1 and 0.8 <= 0')[['level_0', 'level_1']]\n",
        "data = data.drop(columns=[pair[1] for pair in high_corr_pairs.itertuples(index=False)], errors='ignore')"
      ],
      "metadata": {
        "id": "cCT50b4aGigh"
      },
      "execution_count": 9,
      "outputs": []
    },
    {
      "cell_type": "markdown",
      "source": [
        "6. Data Splitting"
      ],
      "metadata": {
        "id": "TWOdFZrLHCm3"
      }
    },
    {
      "cell_type": "code",
      "source": [
        "# Split the dataset\n",
        "train_data, test_data = train_test_split(data, test_size=0.2, random_state=42)\n",
        "\n",
        "# Save processed data\n",
        "train_data.to_csv('train_data.csv', index=False)\n",
        "test_data.to_csv('test_data.csv', index=False)\n",
        "\n",
        "print(\"Preprocessing completed. Training and test datasets saved.\")"
      ],
      "metadata": {
        "colab": {
          "base_uri": "https://localhost:8080/"
        },
        "id": "--abpElBHDZk",
        "outputId": "673c50c5-366c-471d-e827-75141041daee"
      },
      "execution_count": 10,
      "outputs": [
        {
          "output_type": "stream",
          "name": "stdout",
          "text": [
            "Preprocessing completed. Training and test datasets saved.\n"
          ]
        }
      ]
    },
    {
      "cell_type": "markdown",
      "source": [
        "2.1. Exploratory Anomaly Detection"
      ],
      "metadata": {
        "id": "SG_8ElySIJAQ"
      }
    },
    {
      "cell_type": "code",
      "source": [
        "# Convert all column names to strings before fitting the IsolationForest model\n",
        "data.columns = data.columns.astype(str)\n",
        "\n",
        "# Isolation Forest\n",
        "iso_forest = IsolationForest(contamination=0.05, random_state=42)\n",
        "data['IsoForest_Score'] = iso_forest.fit_predict(data)\n",
        "\n",
        "# DBSCAN\n",
        "dbscan = DBSCAN(eps=1.5, min_samples=5)\n",
        "data['DBSCAN_Labels'] = dbscan.fit_predict(data)"
      ],
      "metadata": {
        "id": "621HtyGRIJx0"
      },
      "execution_count": 11,
      "outputs": []
    },
    {
      "cell_type": "markdown",
      "source": [
        "2.2. Clustering-Based Anomaly Detection"
      ],
      "metadata": {
        "id": "PzaTsn54JhVE"
      }
    },
    {
      "cell_type": "code",
      "source": [
        "# K-Means Clustering\n",
        "kmeans = KMeans(n_clusters=3, random_state=42)\n",
        "data['KMeans_Cluster'] = kmeans.fit_predict(data)\n",
        "\n",
        "# Calculate distances to cluster centroids\n",
        "data['KMeans_Distance'] = np.min(\n",
        "    np.linalg.norm(data.iloc[:, :-1].values - kmeans.cluster_centers_[data['KMeans_Cluster']], axis=1)\n",
        ")\n",
        "\n",
        "# Silhouette Score for Clustering Evaluation\n",
        "silhouette_avg = silhouette_score(data.iloc[:, :-1], data['KMeans_Cluster'])\n",
        "print(f\"Silhouette Score: {silhouette_avg:.2f}\")"
      ],
      "metadata": {
        "colab": {
          "base_uri": "https://localhost:8080/"
        },
        "id": "jte1p3a1JiJX",
        "outputId": "e6dfa6e5-56f3-4576-ee6e-748c656cb4b3"
      },
      "execution_count": 12,
      "outputs": [
        {
          "output_type": "stream",
          "name": "stdout",
          "text": [
            "Silhouette Score: 0.52\n"
          ]
        }
      ]
    },
    {
      "cell_type": "markdown",
      "source": [
        "2.3. Deep Learning with Autoencoders"
      ],
      "metadata": {
        "id": "dB_C7OxhJkib"
      }
    },
    {
      "cell_type": "code",
      "source": [
        "# Define Autoencoder\n",
        "input_dim = data.shape[1]\n",
        "input_layer = Input(shape=(input_dim,))\n",
        "encoder = Dense(64, activation='relu')(input_layer)\n",
        "encoder = Dense(32, activation='relu')(encoder)\n",
        "decoder = Dense(64, activation='relu')(encoder)\n",
        "output_layer = Dense(input_dim, activation='sigmoid')(decoder)\n",
        "\n",
        "autoencoder = Model(inputs=input_layer, outputs=output_layer)\n",
        "autoencoder.compile(optimizer='adam', loss='mse')\n",
        "\n",
        "# Train Autoencoder\n",
        "autoencoder.fit(data, data, epochs=50, batch_size=32, shuffle=True, validation_split=0.2, verbose=1)\n",
        "\n",
        "# Reconstruction Error\n",
        "reconstructions = autoencoder.predict(data)\n",
        "reconstruction_error = np.mean(np.power(data - reconstructions, 2), axis=1)\n",
        "data['Autoencoder_Reconstruction_Error'] = reconstruction_error\n",
        "\n",
        "# Define Threshold for Anomalies\n",
        "threshold = np.percentile(reconstruction_error, 95)\n",
        "data['Autoencoder_Anomaly'] = reconstruction_error > threshold"
      ],
      "metadata": {
        "colab": {
          "base_uri": "https://localhost:8080/"
        },
        "id": "d3gZZZjXJnCH",
        "outputId": "751267e5-09b5-4707-f135-c3dcb143bc97"
      },
      "execution_count": 13,
      "outputs": [
        {
          "output_type": "stream",
          "name": "stdout",
          "text": [
            "Epoch 1/50\n",
            "\u001b[1m2500/2500\u001b[0m \u001b[32m━━━━━━━━━━━━━━━━━━━━\u001b[0m\u001b[37m\u001b[0m \u001b[1m12s\u001b[0m 4ms/step - loss: 130561792.0000 - val_loss: 131077624.0000\n",
            "Epoch 2/50\n",
            "\u001b[1m2500/2500\u001b[0m \u001b[32m━━━━━━━━━━━━━━━━━━━━\u001b[0m\u001b[37m\u001b[0m \u001b[1m16s\u001b[0m 6ms/step - loss: 130400536.0000 - val_loss: 131077624.0000\n",
            "Epoch 3/50\n",
            "\u001b[1m2500/2500\u001b[0m \u001b[32m━━━━━━━━━━━━━━━━━━━━\u001b[0m\u001b[37m\u001b[0m \u001b[1m9s\u001b[0m 4ms/step - loss: 130257528.0000 - val_loss: 131077624.0000\n",
            "Epoch 4/50\n",
            "\u001b[1m2500/2500\u001b[0m \u001b[32m━━━━━━━━━━━━━━━━━━━━\u001b[0m\u001b[37m\u001b[0m \u001b[1m8s\u001b[0m 3ms/step - loss: 130321416.0000 - val_loss: 131077624.0000\n",
            "Epoch 5/50\n",
            "\u001b[1m2500/2500\u001b[0m \u001b[32m━━━━━━━━━━━━━━━━━━━━\u001b[0m\u001b[37m\u001b[0m \u001b[1m7s\u001b[0m 3ms/step - loss: 130617648.0000 - val_loss: 131077624.0000\n",
            "Epoch 6/50\n",
            "\u001b[1m2500/2500\u001b[0m \u001b[32m━━━━━━━━━━━━━━━━━━━━\u001b[0m\u001b[37m\u001b[0m \u001b[1m8s\u001b[0m 3ms/step - loss: 130268856.0000 - val_loss: 131077624.0000\n",
            "Epoch 7/50\n",
            "\u001b[1m2500/2500\u001b[0m \u001b[32m━━━━━━━━━━━━━━━━━━━━\u001b[0m\u001b[37m\u001b[0m \u001b[1m11s\u001b[0m 3ms/step - loss: 130299592.0000 - val_loss: 131077624.0000\n",
            "Epoch 8/50\n",
            "\u001b[1m2500/2500\u001b[0m \u001b[32m━━━━━━━━━━━━━━━━━━━━\u001b[0m\u001b[37m\u001b[0m \u001b[1m8s\u001b[0m 3ms/step - loss: 130270744.0000 - val_loss: 131077624.0000\n",
            "Epoch 9/50\n",
            "\u001b[1m2500/2500\u001b[0m \u001b[32m━━━━━━━━━━━━━━━━━━━━\u001b[0m\u001b[37m\u001b[0m \u001b[1m10s\u001b[0m 2ms/step - loss: 130618120.0000 - val_loss: 131077624.0000\n",
            "Epoch 10/50\n",
            "\u001b[1m2500/2500\u001b[0m \u001b[32m━━━━━━━━━━━━━━━━━━━━\u001b[0m\u001b[37m\u001b[0m \u001b[1m7s\u001b[0m 3ms/step - loss: 130453288.0000 - val_loss: 131077624.0000\n",
            "Epoch 11/50\n",
            "\u001b[1m2500/2500\u001b[0m \u001b[32m━━━━━━━━━━━━━━━━━━━━\u001b[0m\u001b[37m\u001b[0m \u001b[1m9s\u001b[0m 2ms/step - loss: 130140304.0000 - val_loss: 131077624.0000\n",
            "Epoch 12/50\n",
            "\u001b[1m2500/2500\u001b[0m \u001b[32m━━━━━━━━━━━━━━━━━━━━\u001b[0m\u001b[37m\u001b[0m \u001b[1m10s\u001b[0m 2ms/step - loss: 130391856.0000 - val_loss: 131077624.0000\n",
            "Epoch 13/50\n",
            "\u001b[1m2500/2500\u001b[0m \u001b[32m━━━━━━━━━━━━━━━━━━━━\u001b[0m\u001b[37m\u001b[0m \u001b[1m9s\u001b[0m 4ms/step - loss: 130387976.0000 - val_loss: 131077624.0000\n",
            "Epoch 14/50\n",
            "\u001b[1m2500/2500\u001b[0m \u001b[32m━━━━━━━━━━━━━━━━━━━━\u001b[0m\u001b[37m\u001b[0m \u001b[1m7s\u001b[0m 2ms/step - loss: 130141840.0000 - val_loss: 131077624.0000\n",
            "Epoch 15/50\n",
            "\u001b[1m2500/2500\u001b[0m \u001b[32m━━━━━━━━━━━━━━━━━━━━\u001b[0m\u001b[37m\u001b[0m \u001b[1m11s\u001b[0m 3ms/step - loss: 130224792.0000 - val_loss: 131077624.0000\n",
            "Epoch 16/50\n",
            "\u001b[1m2500/2500\u001b[0m \u001b[32m━━━━━━━━━━━━━━━━━━━━\u001b[0m\u001b[37m\u001b[0m \u001b[1m11s\u001b[0m 3ms/step - loss: 129764800.0000 - val_loss: 131077624.0000\n",
            "Epoch 17/50\n",
            "\u001b[1m2500/2500\u001b[0m \u001b[32m━━━━━━━━━━━━━━━━━━━━\u001b[0m\u001b[37m\u001b[0m \u001b[1m8s\u001b[0m 2ms/step - loss: 130819176.0000 - val_loss: 131077624.0000\n",
            "Epoch 18/50\n",
            "\u001b[1m2500/2500\u001b[0m \u001b[32m━━━━━━━━━━━━━━━━━━━━\u001b[0m\u001b[37m\u001b[0m \u001b[1m10s\u001b[0m 2ms/step - loss: 130055096.0000 - val_loss: 131077624.0000\n",
            "Epoch 19/50\n",
            "\u001b[1m2500/2500\u001b[0m \u001b[32m━━━━━━━━━━━━━━━━━━━━\u001b[0m\u001b[37m\u001b[0m \u001b[1m10s\u001b[0m 2ms/step - loss: 130385792.0000 - val_loss: 131077624.0000\n",
            "Epoch 20/50\n",
            "\u001b[1m2500/2500\u001b[0m \u001b[32m━━━━━━━━━━━━━━━━━━━━\u001b[0m\u001b[37m\u001b[0m \u001b[1m7s\u001b[0m 3ms/step - loss: 130554640.0000 - val_loss: 131077624.0000\n",
            "Epoch 21/50\n",
            "\u001b[1m2500/2500\u001b[0m \u001b[32m━━━━━━━━━━━━━━━━━━━━\u001b[0m\u001b[37m\u001b[0m \u001b[1m5s\u001b[0m 2ms/step - loss: 130436392.0000 - val_loss: 131077624.0000\n",
            "Epoch 22/50\n",
            "\u001b[1m2500/2500\u001b[0m \u001b[32m━━━━━━━━━━━━━━━━━━━━\u001b[0m\u001b[37m\u001b[0m \u001b[1m5s\u001b[0m 2ms/step - loss: 130189544.0000 - val_loss: 131077624.0000\n",
            "Epoch 23/50\n",
            "\u001b[1m2500/2500\u001b[0m \u001b[32m━━━━━━━━━━━━━━━━━━━━\u001b[0m\u001b[37m\u001b[0m \u001b[1m7s\u001b[0m 3ms/step - loss: 130144072.0000 - val_loss: 131077624.0000\n",
            "Epoch 24/50\n",
            "\u001b[1m2500/2500\u001b[0m \u001b[32m━━━━━━━━━━━━━━━━━━━━\u001b[0m\u001b[37m\u001b[0m \u001b[1m6s\u001b[0m 2ms/step - loss: 130146544.0000 - val_loss: 131077624.0000\n",
            "Epoch 25/50\n",
            "\u001b[1m2500/2500\u001b[0m \u001b[32m━━━━━━━━━━━━━━━━━━━━\u001b[0m\u001b[37m\u001b[0m \u001b[1m9s\u001b[0m 2ms/step - loss: 130437792.0000 - val_loss: 131077624.0000\n",
            "Epoch 26/50\n",
            "\u001b[1m2500/2500\u001b[0m \u001b[32m━━━━━━━━━━━━━━━━━━━━\u001b[0m\u001b[37m\u001b[0m \u001b[1m6s\u001b[0m 2ms/step - loss: 130764264.0000 - val_loss: 131077624.0000\n",
            "Epoch 27/50\n",
            "\u001b[1m2500/2500\u001b[0m \u001b[32m━━━━━━━━━━━━━━━━━━━━\u001b[0m\u001b[37m\u001b[0m \u001b[1m10s\u001b[0m 2ms/step - loss: 130390072.0000 - val_loss: 131077624.0000\n",
            "Epoch 28/50\n",
            "\u001b[1m2500/2500\u001b[0m \u001b[32m━━━━━━━━━━━━━━━━━━━━\u001b[0m\u001b[37m\u001b[0m \u001b[1m9s\u001b[0m 2ms/step - loss: 130493584.0000 - val_loss: 131077624.0000\n",
            "Epoch 29/50\n",
            "\u001b[1m2500/2500\u001b[0m \u001b[32m━━━━━━━━━━━━━━━━━━━━\u001b[0m\u001b[37m\u001b[0m \u001b[1m6s\u001b[0m 2ms/step - loss: 130007392.0000 - val_loss: 131077624.0000\n",
            "Epoch 30/50\n",
            "\u001b[1m2500/2500\u001b[0m \u001b[32m━━━━━━━━━━━━━━━━━━━━\u001b[0m\u001b[37m\u001b[0m \u001b[1m6s\u001b[0m 2ms/step - loss: 130708600.0000 - val_loss: 131077624.0000\n",
            "Epoch 31/50\n",
            "\u001b[1m2500/2500\u001b[0m \u001b[32m━━━━━━━━━━━━━━━━━━━━\u001b[0m\u001b[37m\u001b[0m \u001b[1m5s\u001b[0m 2ms/step - loss: 130724520.0000 - val_loss: 131077624.0000\n",
            "Epoch 32/50\n",
            "\u001b[1m2500/2500\u001b[0m \u001b[32m━━━━━━━━━━━━━━━━━━━━\u001b[0m\u001b[37m\u001b[0m \u001b[1m7s\u001b[0m 3ms/step - loss: 130302952.0000 - val_loss: 131077624.0000\n",
            "Epoch 33/50\n",
            "\u001b[1m2500/2500\u001b[0m \u001b[32m━━━━━━━━━━━━━━━━━━━━\u001b[0m\u001b[37m\u001b[0m \u001b[1m13s\u001b[0m 4ms/step - loss: 129924192.0000 - val_loss: 131077624.0000\n",
            "Epoch 34/50\n",
            "\u001b[1m2500/2500\u001b[0m \u001b[32m━━━━━━━━━━━━━━━━━━━━\u001b[0m\u001b[37m\u001b[0m \u001b[1m8s\u001b[0m 3ms/step - loss: 130196536.0000 - val_loss: 131077624.0000\n",
            "Epoch 35/50\n",
            "\u001b[1m2500/2500\u001b[0m \u001b[32m━━━━━━━━━━━━━━━━━━━━\u001b[0m\u001b[37m\u001b[0m \u001b[1m10s\u001b[0m 3ms/step - loss: 130410136.0000 - val_loss: 131077624.0000\n",
            "Epoch 36/50\n",
            "\u001b[1m2500/2500\u001b[0m \u001b[32m━━━━━━━━━━━━━━━━━━━━\u001b[0m\u001b[37m\u001b[0m \u001b[1m6s\u001b[0m 2ms/step - loss: 130334976.0000 - val_loss: 131077624.0000\n",
            "Epoch 37/50\n",
            "\u001b[1m2500/2500\u001b[0m \u001b[32m━━━━━━━━━━━━━━━━━━━━\u001b[0m\u001b[37m\u001b[0m \u001b[1m7s\u001b[0m 3ms/step - loss: 130583440.0000 - val_loss: 131077624.0000\n",
            "Epoch 38/50\n",
            "\u001b[1m2500/2500\u001b[0m \u001b[32m━━━━━━━━━━━━━━━━━━━━\u001b[0m\u001b[37m\u001b[0m \u001b[1m9s\u001b[0m 2ms/step - loss: 129994560.0000 - val_loss: 131077624.0000\n",
            "Epoch 39/50\n",
            "\u001b[1m2500/2500\u001b[0m \u001b[32m━━━━━━━━━━━━━━━━━━━━\u001b[0m\u001b[37m\u001b[0m \u001b[1m7s\u001b[0m 3ms/step - loss: 130485872.0000 - val_loss: 131077624.0000\n",
            "Epoch 40/50\n",
            "\u001b[1m2500/2500\u001b[0m \u001b[32m━━━━━━━━━━━━━━━━━━━━\u001b[0m\u001b[37m\u001b[0m \u001b[1m10s\u001b[0m 3ms/step - loss: 130892416.0000 - val_loss: 131077624.0000\n",
            "Epoch 41/50\n",
            "\u001b[1m2500/2500\u001b[0m \u001b[32m━━━━━━━━━━━━━━━━━━━━\u001b[0m\u001b[37m\u001b[0m \u001b[1m6s\u001b[0m 2ms/step - loss: 130458096.0000 - val_loss: 131077624.0000\n",
            "Epoch 42/50\n",
            "\u001b[1m2500/2500\u001b[0m \u001b[32m━━━━━━━━━━━━━━━━━━━━\u001b[0m\u001b[37m\u001b[0m \u001b[1m12s\u001b[0m 3ms/step - loss: 130276864.0000 - val_loss: 131077624.0000\n",
            "Epoch 43/50\n",
            "\u001b[1m2500/2500\u001b[0m \u001b[32m━━━━━━━━━━━━━━━━━━━━\u001b[0m\u001b[37m\u001b[0m \u001b[1m6s\u001b[0m 2ms/step - loss: 130270176.0000 - val_loss: 131077624.0000\n",
            "Epoch 44/50\n",
            "\u001b[1m2500/2500\u001b[0m \u001b[32m━━━━━━━━━━━━━━━━━━━━\u001b[0m\u001b[37m\u001b[0m \u001b[1m10s\u001b[0m 2ms/step - loss: 129990064.0000 - val_loss: 131077624.0000\n",
            "Epoch 45/50\n",
            "\u001b[1m2500/2500\u001b[0m \u001b[32m━━━━━━━━━━━━━━━━━━━━\u001b[0m\u001b[37m\u001b[0m \u001b[1m12s\u001b[0m 3ms/step - loss: 130250800.0000 - val_loss: 131077624.0000\n",
            "Epoch 46/50\n",
            "\u001b[1m2500/2500\u001b[0m \u001b[32m━━━━━━━━━━━━━━━━━━━━\u001b[0m\u001b[37m\u001b[0m \u001b[1m11s\u001b[0m 3ms/step - loss: 130066048.0000 - val_loss: 131077624.0000\n",
            "Epoch 47/50\n",
            "\u001b[1m2500/2500\u001b[0m \u001b[32m━━━━━━━━━━━━━━━━━━━━\u001b[0m\u001b[37m\u001b[0m \u001b[1m5s\u001b[0m 2ms/step - loss: 130128120.0000 - val_loss: 131077624.0000\n",
            "Epoch 48/50\n",
            "\u001b[1m2500/2500\u001b[0m \u001b[32m━━━━━━━━━━━━━━━━━━━━\u001b[0m\u001b[37m\u001b[0m \u001b[1m6s\u001b[0m 2ms/step - loss: 129743160.0000 - val_loss: 131077624.0000\n",
            "Epoch 49/50\n",
            "\u001b[1m2500/2500\u001b[0m \u001b[32m━━━━━━━━━━━━━━━━━━━━\u001b[0m\u001b[37m\u001b[0m \u001b[1m10s\u001b[0m 2ms/step - loss: 130628096.0000 - val_loss: 131077624.0000\n",
            "Epoch 50/50\n",
            "\u001b[1m2500/2500\u001b[0m \u001b[32m━━━━━━━━━━━━━━━━━━━━\u001b[0m\u001b[37m\u001b[0m \u001b[1m10s\u001b[0m 2ms/step - loss: 130561480.0000 - val_loss: 131077624.0000\n",
            "\u001b[1m3125/3125\u001b[0m \u001b[32m━━━━━━━━━━━━━━━━━━━━\u001b[0m\u001b[37m\u001b[0m \u001b[1m4s\u001b[0m 1ms/step\n"
          ]
        }
      ]
    },
    {
      "cell_type": "markdown",
      "source": [
        "2.4. Model Evaluation"
      ],
      "metadata": {
        "id": "tW-A103TJtcz"
      }
    },
    {
      "cell_type": "code",
      "source": [
        "# Plot Reconstruction Error Distribution\n",
        "plt.boxplot(reconstruction_error, vert=False, patch_artist=True, boxprops=dict(facecolor='lightblue'))\n",
        "plt.axvline(x=threshold, color='red', linestyle='--', label='Anomaly Threshold')\n",
        "plt.title('Reconstruction Error Box Plot')\n",
        "plt.xlabel('Reconstruction Error')\n",
        "plt.legend()\n",
        "plt.show()"
      ],
      "metadata": {
        "colab": {
          "base_uri": "https://localhost:8080/",
          "height": 472
        },
        "id": "GAa_NIopJuVQ",
        "outputId": "514fade0-5bea-42c8-b5d9-38a772ae0c09"
      },
      "execution_count": 14,
      "outputs": [
        {
          "output_type": "display_data",
          "data": {
            "text/plain": [
              "<Figure size 640x480 with 1 Axes>"
            ],
            "image/png": "[encoded data removed]"
          },
          "metadata": {}
        }
      ]
    },
    {
      "cell_type": "markdown",
      "source": [
        "2.5. Ensemble Approach"
      ],
      "metadata": {
        "id": "NM1yjMTeKgO3"
      }
    },
    {
      "cell_type": "code",
      "source": [
        "# Combine models using weighted average\n",
        "data['Ensemble_Score'] = (0.4 * data['IsoForest_Score'] +\n",
        "                          0.3 * data['Autoencoder_Reconstruction_Error'])\n",
        "\n",
        "# Normalize ensemble scores for comparison\n",
        "data['Ensemble_Score_Normalized'] = (data['Ensemble_Score'] - data['Ensemble_Score'].min()) / \\\n",
        "                                    (data['Ensemble_Score'].max() - data['Ensemble_Score'].min())\n",
        "\n",
        "# Save results\n",
        "data.to_csv('anomaly_detection_results.csv', index=False)\n",
        "\n",
        "print(\"Modeling and anomaly detection completed. Results saved.\")"
      ],
      "metadata": {
        "colab": {
          "base_uri": "https://localhost:8080/"
        },
        "id": "H2ZPfncSKg26",
        "outputId": "ba3aefe5-c4da-4ea4-c1e5-ce9c40da5c9c"
      },
      "execution_count": 17,
      "outputs": [
        {
          "output_type": "stream",
          "name": "stdout",
          "text": [
            "Modeling and anomaly detection completed. Results saved.\n"
          ]
        }
      ]
    }
  ]
}