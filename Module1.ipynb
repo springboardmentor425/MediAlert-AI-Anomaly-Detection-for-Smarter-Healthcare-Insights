{
 "cells": [
  {
   "cell_type": "code",
   "execution_count": 1,
   "id": "6892b9ac-8736-4295-b543-5d733c6fbabb",
   "metadata": {},
   "outputs": [
    {
     "name": "stdout",
     "output_type": "stream",
     "text": [
      "Requirement already satisfied: pandas in c:\\users\\admin\\anaconda3\\lib\\site-packages (2.2.2)\n",
      "Requirement already satisfied: openpyxl in c:\\users\\admin\\anaconda3\\lib\\site-packages (3.1.5)\n",
      "Requirement already satisfied: numpy>=1.26.0 in c:\\users\\admin\\anaconda3\\lib\\site-packages (from pandas) (1.26.4)\n",
      "Requirement already satisfied: python-dateutil>=2.8.2 in c:\\users\\admin\\anaconda3\\lib\\site-packages (from pandas) (2.9.0.post0)\n",
      "Requirement already satisfied: pytz>=2020.1 in c:\\users\\admin\\anaconda3\\lib\\site-packages (from pandas) (2024.1)\n",
      "Requirement already satisfied: tzdata>=2022.7 in c:\\users\\admin\\anaconda3\\lib\\site-packages (from pandas) (2023.3)\n",
      "Requirement already satisfied: et-xmlfile in c:\\users\\admin\\anaconda3\\lib\\site-packages (from openpyxl) (1.1.0)\n",
      "Requirement already satisfied: six>=1.5 in c:\\users\\admin\\anaconda3\\lib\\site-packages (from python-dateutil>=2.8.2->pandas) (1.16.0)\n"
     ]
    }
   ],
   "source": [
    "!pip install pandas openpyxl"
   ]
  },
  {
   "cell_type": "code",
   "execution_count": 2,
   "id": "e8c9dce7-f5a2-4d61-864b-4cf0d9f4b04e",
   "metadata": {},
   "outputs": [],
   "source": [
    "import pandas as pd"
   ]
  },
  {
   "cell_type": "code",
   "execution_count": 4,
   "id": "c50fe6e2-aa3d-46cc-a2d1-b7305511613e",
   "metadata": {},
   "outputs": [
    {
     "name": "stdout",
     "output_type": "stream",
     "text": [
      "     index  National Provider Identifier  \\\n",
      "0  8774979                    1891106191   \n",
      "1  3354385                    1346202256   \n",
      "2  3001884                    1306820956   \n",
      "3  7594822                    1770523540   \n",
      "4   746159                    1073627758   \n",
      "\n",
      "  Last Name/Organization Name of the Provider First Name of the Provider  \\\n",
      "0                                 UPADHYAYULA                  SATYASREE   \n",
      "1                                       JONES                      WENDY   \n",
      "2                                    DUROCHER                    RICHARD   \n",
      "3                                     FULLARD                     JASPER   \n",
      "4                                    PERROTTI                    ANTHONY   \n",
      "\n",
      "  Middle Initial of the Provider Credentials of the Provider  \\\n",
      "0                            NaN                        M.D.   \n",
      "1                              P                        M.D.   \n",
      "2                              W                         DPM   \n",
      "3                            NaN                          MD   \n",
      "4                              E                          DO   \n",
      "\n",
      "  Gender of the Provider Entity Type of the Provider  \\\n",
      "0                      F                           I   \n",
      "1                      F                           I   \n",
      "2                      M                           I   \n",
      "3                      M                           I   \n",
      "4                      M                           I   \n",
      "\n",
      "  Street Address 1 of the Provider Street Address 2 of the Provider  ...  \\\n",
      "0                1402 S GRAND BLVD                   FDT 14TH FLOOR  ...   \n",
      "1                  2950 VILLAGE DR                              NaN  ...   \n",
      "2                20 WASHINGTON AVE                          STE 212  ...   \n",
      "3               5746 N BROADWAY ST                              NaN  ...   \n",
      "4                 875 MILITARY TRL                        SUITE 200  ...   \n",
      "\n",
      "  HCPCS Code                                  HCPCS Description  \\\n",
      "0      99223  Initial hospital inpatient care, typically 70 ...   \n",
      "1      G0202  Screening mammography, bilateral (2-view study...   \n",
      "2      99348  Established patient home visit, typically 25 m...   \n",
      "3      81002                            Urinalysis, manual test   \n",
      "4      96372  Injection beneath the skin or into muscle for ...   \n",
      "\n",
      "  HCPCS Drug Indicator Number of Services Number of Medicare Beneficiaries  \\\n",
      "0                    N                 27                               24   \n",
      "1                    N                175                              175   \n",
      "2                    N                 32                               13   \n",
      "3                    N                 20                               18   \n",
      "4                    N                 33                               24   \n",
      "\n",
      "  Number of Distinct Medicare Beneficiary/Per Day Services  \\\n",
      "0                                                 27         \n",
      "1                                                175         \n",
      "2                                                 32         \n",
      "3                                                 20         \n",
      "4                                                 31         \n",
      "\n",
      "  Average Medicare Allowed Amount Average Submitted Charge Amount  \\\n",
      "0                    200.58777778                    305.21111111   \n",
      "1                          123.73                           548.8   \n",
      "2                           90.65                             155   \n",
      "3                             3.5                               5   \n",
      "4                           26.52                              40   \n",
      "\n",
      "  Average Medicare Payment Amount Average Medicare Standardized Amount  \n",
      "0                    157.26222222                         160.90888889  \n",
      "1                          118.83                         135.31525714  \n",
      "2                      64.4396875                           60.5959375  \n",
      "3                            3.43                                 3.43  \n",
      "4                    19.539393939                         19.057575758  \n",
      "\n",
      "[5 rows x 27 columns]\n"
     ]
    }
   ],
   "source": [
    "import pandas as pd\n",
    "file_path = \"C:/Users/Admin/Downloads/archive/Healthcare Providers.csv\"\n",
    "data = pd.read_csv(file_path)\n",
    "print(data.head())\n"
   ]
  },
  {
   "cell_type": "code",
   "execution_count": 5,
   "id": "1dd54498-a65b-4979-b948-15f50977d90a",
   "metadata": {},
   "outputs": [
    {
     "name": "stdout",
     "output_type": "stream",
     "text": [
      "     index  National Provider Identifier  \\\n",
      "0  8774979                    1891106191   \n",
      "1  3354385                    1346202256   \n",
      "2  3001884                    1306820956   \n",
      "3  7594822                    1770523540   \n",
      "4   746159                    1073627758   \n",
      "\n",
      "  Last Name/Organization Name of the Provider First Name of the Provider  \\\n",
      "0                                 UPADHYAYULA                  SATYASREE   \n",
      "1                                       JONES                      WENDY   \n",
      "2                                    DUROCHER                    RICHARD   \n",
      "3                                     FULLARD                     JASPER   \n",
      "4                                    PERROTTI                    ANTHONY   \n",
      "\n",
      "  Middle Initial of the Provider Credentials of the Provider  \\\n",
      "0                            NaN                        M.D.   \n",
      "1                              P                        M.D.   \n",
      "2                              W                         DPM   \n",
      "3                            NaN                          MD   \n",
      "4                              E                          DO   \n",
      "\n",
      "  Gender of the Provider Entity Type of the Provider  \\\n",
      "0                      F                           I   \n",
      "1                      F                           I   \n",
      "2                      M                           I   \n",
      "3                      M                           I   \n",
      "4                      M                           I   \n",
      "\n",
      "  Street Address 1 of the Provider Street Address 2 of the Provider  ...  \\\n",
      "0                1402 S GRAND BLVD                   FDT 14TH FLOOR  ...   \n",
      "1                  2950 VILLAGE DR                              NaN  ...   \n",
      "2                20 WASHINGTON AVE                          STE 212  ...   \n",
      "3               5746 N BROADWAY ST                              NaN  ...   \n",
      "4                 875 MILITARY TRL                        SUITE 200  ...   \n",
      "\n",
      "  HCPCS Code                                  HCPCS Description  \\\n",
      "0      99223  Initial hospital inpatient care, typically 70 ...   \n",
      "1      G0202  Screening mammography, bilateral (2-view study...   \n",
      "2      99348  Established patient home visit, typically 25 m...   \n",
      "3      81002                            Urinalysis, manual test   \n",
      "4      96372  Injection beneath the skin or into muscle for ...   \n",
      "\n",
      "  HCPCS Drug Indicator Number of Services Number of Medicare Beneficiaries  \\\n",
      "0                    N                 27                               24   \n",
      "1                    N                175                              175   \n",
      "2                    N                 32                               13   \n",
      "3                    N                 20                               18   \n",
      "4                    N                 33                               24   \n",
      "\n",
      "  Number of Distinct Medicare Beneficiary/Per Day Services  \\\n",
      "0                                                 27         \n",
      "1                                                175         \n",
      "2                                                 32         \n",
      "3                                                 20         \n",
      "4                                                 31         \n",
      "\n",
      "  Average Medicare Allowed Amount Average Submitted Charge Amount  \\\n",
      "0                    200.58777778                    305.21111111   \n",
      "1                          123.73                           548.8   \n",
      "2                           90.65                             155   \n",
      "3                             3.5                               5   \n",
      "4                           26.52                              40   \n",
      "\n",
      "  Average Medicare Payment Amount Average Medicare Standardized Amount  \n",
      "0                    157.26222222                         160.90888889  \n",
      "1                          118.83                         135.31525714  \n",
      "2                      64.4396875                           60.5959375  \n",
      "3                            3.43                                 3.43  \n",
      "4                    19.539393939                         19.057575758  \n",
      "\n",
      "[5 rows x 27 columns]\n"
     ]
    }
   ],
   "source": [
    "print(data.head()) \n"
   ]
  },
  {
   "cell_type": "code",
   "execution_count": 6,
   "id": "38ab0e15-80f5-47c3-b201-177e967bcbd8",
   "metadata": {},
   "outputs": [
    {
     "name": "stdout",
     "output_type": "stream",
     "text": [
      "<class 'pandas.core.frame.DataFrame'>\n",
      "RangeIndex: 100000 entries, 0 to 99999\n",
      "Data columns (total 27 columns):\n",
      " #   Column                                                    Non-Null Count   Dtype  \n",
      "---  ------                                                    --------------   -----  \n",
      " 0   index                                                     100000 non-null  int64  \n",
      " 1   National Provider Identifier                              100000 non-null  int64  \n",
      " 2   Last Name/Organization Name of the Provider               100000 non-null  object \n",
      " 3   First Name of the Provider                                95745 non-null   object \n",
      " 4   Middle Initial of the Provider                            70669 non-null   object \n",
      " 5   Credentials of the Provider                               92791 non-null   object \n",
      " 6   Gender of the Provider                                    95746 non-null   object \n",
      " 7   Entity Type of the Provider                               100000 non-null  object \n",
      " 8   Street Address 1 of the Provider                          100000 non-null  object \n",
      " 9   Street Address 2 of the Provider                          40637 non-null   object \n",
      " 10  City of the Provider                                      100000 non-null  object \n",
      " 11  Zip Code of the Provider                                  100000 non-null  float64\n",
      " 12  State Code of the Provider                                100000 non-null  object \n",
      " 13  Country Code of the Provider                              100000 non-null  object \n",
      " 14  Provider Type                                             100000 non-null  object \n",
      " 15  Medicare Participation Indicator                          100000 non-null  object \n",
      " 16  Place of Service                                          100000 non-null  object \n",
      " 17  HCPCS Code                                                100000 non-null  object \n",
      " 18  HCPCS Description                                         100000 non-null  object \n",
      " 19  HCPCS Drug Indicator                                      100000 non-null  object \n",
      " 20  Number of Services                                        100000 non-null  object \n",
      " 21  Number of Medicare Beneficiaries                          100000 non-null  object \n",
      " 22  Number of Distinct Medicare Beneficiary/Per Day Services  100000 non-null  object \n",
      " 23  Average Medicare Allowed Amount                           100000 non-null  object \n",
      " 24  Average Submitted Charge Amount                           100000 non-null  object \n",
      " 25  Average Medicare Payment Amount                           100000 non-null  object \n",
      " 26  Average Medicare Standardized Amount                      100000 non-null  object \n",
      "dtypes: float64(1), int64(2), object(24)\n",
      "memory usage: 20.6+ MB\n",
      "None\n"
     ]
    }
   ],
   "source": [
    "print(data.info())"
   ]
  },
  {
   "cell_type": "code",
   "execution_count": 7,
   "id": "bdc4fb3e-2750-43fc-9d16-8a1955e161bd",
   "metadata": {},
   "outputs": [
    {
     "name": "stdout",
     "output_type": "stream",
     "text": [
      "              index  National Provider Identifier  Zip Code of the Provider\n",
      "count  1.000000e+05                  1.000000e+05              1.000000e+05\n",
      "mean   4.907646e+06                  1.498227e+09              4.163820e+08\n",
      "std    2.839633e+06                  2.874125e+08              3.082566e+08\n",
      "min    2.090000e+02                  1.003001e+09              6.010000e+02\n",
      "25%    2.458791e+06                  1.245669e+09              1.426300e+08\n",
      "50%    4.901266e+06                  1.497847e+09              3.633025e+08\n",
      "75%    7.349450e+06                  1.740374e+09              6.819881e+08\n",
      "max    9.847440e+06                  1.993000e+09              9.990166e+08\n"
     ]
    }
   ],
   "source": [
    "print(data.describe())"
   ]
  },
  {
   "cell_type": "code",
   "execution_count": 8,
   "id": "1c0b1599-5b7c-4664-9173-6a51799c641f",
   "metadata": {},
   "outputs": [
    {
     "name": "stdout",
     "output_type": "stream",
     "text": [
      "index                                                           0\n",
      "National Provider Identifier                                    0\n",
      "Last Name/Organization Name of the Provider                     0\n",
      "First Name of the Provider                                   4255\n",
      "Middle Initial of the Provider                              29331\n",
      "Credentials of the Provider                                  7209\n",
      "Gender of the Provider                                       4254\n",
      "Entity Type of the Provider                                     0\n",
      "Street Address 1 of the Provider                                0\n",
      "Street Address 2 of the Provider                            59363\n",
      "City of the Provider                                            0\n",
      "Zip Code of the Provider                                        0\n",
      "State Code of the Provider                                      0\n",
      "Country Code of the Provider                                    0\n",
      "Provider Type                                                   0\n",
      "Medicare Participation Indicator                                0\n",
      "Place of Service                                                0\n",
      "HCPCS Code                                                      0\n",
      "HCPCS Description                                               0\n",
      "HCPCS Drug Indicator                                            0\n",
      "Number of Services                                              0\n",
      "Number of Medicare Beneficiaries                                0\n",
      "Number of Distinct Medicare Beneficiary/Per Day Services        0\n",
      "Average Medicare Allowed Amount                                 0\n",
      "Average Submitted Charge Amount                                 0\n",
      "Average Medicare Payment Amount                                 0\n",
      "Average Medicare Standardized Amount                            0\n",
      "dtype: int64\n"
     ]
    }
   ],
   "source": [
    "missing_values = data.isnull().sum()\n",
    "print(missing_values)"
   ]
  },
  {
   "cell_type": "code",
   "execution_count": 9,
   "id": "75fe2980-4d5b-4dc6-9a26-9a0b8f35d0d6",
   "metadata": {},
   "outputs": [
    {
     "name": "stdout",
     "output_type": "stream",
     "text": [
      "index                                                        0.000\n",
      "National Provider Identifier                                 0.000\n",
      "Last Name/Organization Name of the Provider                  0.000\n",
      "First Name of the Provider                                   4.255\n",
      "Middle Initial of the Provider                              29.331\n",
      "Credentials of the Provider                                  7.209\n",
      "Gender of the Provider                                       4.254\n",
      "Entity Type of the Provider                                  0.000\n",
      "Street Address 1 of the Provider                             0.000\n",
      "Street Address 2 of the Provider                            59.363\n",
      "City of the Provider                                         0.000\n",
      "Zip Code of the Provider                                     0.000\n",
      "State Code of the Provider                                   0.000\n",
      "Country Code of the Provider                                 0.000\n",
      "Provider Type                                                0.000\n",
      "Medicare Participation Indicator                             0.000\n",
      "Place of Service                                             0.000\n",
      "HCPCS Code                                                   0.000\n",
      "HCPCS Description                                            0.000\n",
      "HCPCS Drug Indicator                                         0.000\n",
      "Number of Services                                           0.000\n",
      "Number of Medicare Beneficiaries                             0.000\n",
      "Number of Distinct Medicare Beneficiary/Per Day Services     0.000\n",
      "Average Medicare Allowed Amount                              0.000\n",
      "Average Submitted Charge Amount                              0.000\n",
      "Average Medicare Payment Amount                              0.000\n",
      "Average Medicare Standardized Amount                         0.000\n",
      "dtype: float64\n"
     ]
    }
   ],
   "source": [
    "missing_percentage = (missing_values / len(data)) * 100\n",
    "print(missing_percentage)"
   ]
  },
  {
   "cell_type": "code",
   "execution_count": 10,
   "id": "8ff0424d-3856-48ed-955f-08418404cc0a",
   "metadata": {},
   "outputs": [
    {
     "data": {
      "text/html": [
       "<div>\n",
       "<style scoped>\n",
       "    .dataframe tbody tr th:only-of-type {\n",
       "        vertical-align: middle;\n",
       "    }\n",
       "\n",
       "    .dataframe tbody tr th {\n",
       "        vertical-align: top;\n",
       "    }\n",
       "\n",
       "    .dataframe thead th {\n",
       "        text-align: right;\n",
       "    }\n",
       "</style>\n",
       "<table border=\"1\" class=\"dataframe\">\n",
       "  <thead>\n",
       "    <tr style=\"text-align: right;\">\n",
       "      <th></th>\n",
       "      <th>Missing Values</th>\n",
       "      <th>Percentage</th>\n",
       "    </tr>\n",
       "  </thead>\n",
       "  <tbody>\n",
       "    <tr>\n",
       "      <th>First Name of the Provider</th>\n",
       "      <td>4255</td>\n",
       "      <td>4.255</td>\n",
       "    </tr>\n",
       "    <tr>\n",
       "      <th>Middle Initial of the Provider</th>\n",
       "      <td>29331</td>\n",
       "      <td>29.331</td>\n",
       "    </tr>\n",
       "    <tr>\n",
       "      <th>Credentials of the Provider</th>\n",
       "      <td>7209</td>\n",
       "      <td>7.209</td>\n",
       "    </tr>\n",
       "    <tr>\n",
       "      <th>Gender of the Provider</th>\n",
       "      <td>4254</td>\n",
       "      <td>4.254</td>\n",
       "    </tr>\n",
       "    <tr>\n",
       "      <th>Street Address 2 of the Provider</th>\n",
       "      <td>59363</td>\n",
       "      <td>59.363</td>\n",
       "    </tr>\n",
       "  </tbody>\n",
       "</table>\n",
       "</div>"
      ],
      "text/plain": [
       "                                  Missing Values  Percentage\n",
       "First Name of the Provider                  4255       4.255\n",
       "Middle Initial of the Provider             29331      29.331\n",
       "Credentials of the Provider                 7209       7.209\n",
       "Gender of the Provider                      4254       4.254\n",
       "Street Address 2 of the Provider           59363      59.363"
      ]
     },
     "execution_count": 10,
     "metadata": {},
     "output_type": "execute_result"
    }
   ],
   "source": [
    "missing_values = data.isnull().sum()\n",
    "missing_percentages = (missing_values / len(data)) * 100\n",
    "missing_data = pd.DataFrame({\n",
    "    'Missing Values': missing_values,\n",
    "    'Percentage': missing_percentages\n",
    "})\n",
    "missing_data[missing_data['Missing Values'] > 0]"
   ]
  },
  {
   "cell_type": "code",
   "execution_count": 11,
   "id": "4e47ee6e-668c-46c7-a08b-06120cf76b7a",
   "metadata": {},
   "outputs": [
    {
     "name": "stdout",
     "output_type": "stream",
     "text": [
      "                                                    Missing Values  Percentage\n",
      "index                                                            0       0.000\n",
      "National Provider Identifier                                     0       0.000\n",
      "Last Name/Organization Name of the Provider                      0       0.000\n",
      "First Name of the Provider                                    4255       4.255\n",
      "Middle Initial of the Provider                               29331      29.331\n",
      "Credentials of the Provider                                   7209       7.209\n",
      "Gender of the Provider                                        4254       4.254\n",
      "Entity Type of the Provider                                      0       0.000\n",
      "Street Address 1 of the Provider                                 0       0.000\n",
      "Street Address 2 of the Provider                             59363      59.363\n",
      "City of the Provider                                             0       0.000\n",
      "Zip Code of the Provider                                         0       0.000\n",
      "State Code of the Provider                                       0       0.000\n",
      "Country Code of the Provider                                     0       0.000\n",
      "Provider Type                                                    0       0.000\n",
      "Medicare Participation Indicator                                 0       0.000\n",
      "Place of Service                                                 0       0.000\n",
      "HCPCS Code                                                       0       0.000\n",
      "HCPCS Description                                                0       0.000\n",
      "HCPCS Drug Indicator                                             0       0.000\n",
      "Number of Services                                               0       0.000\n",
      "Number of Medicare Beneficiaries                                 0       0.000\n",
      "Number of Distinct Medicare Beneficiary/Per Day...               0       0.000\n",
      "Average Medicare Allowed Amount                                  0       0.000\n",
      "Average Submitted Charge Amount                                  0       0.000\n",
      "Average Medicare Payment Amount                                  0       0.000\n",
      "Average Medicare Standardized Amount                             0       0.000\n"
     ]
    }
   ],
   "source": [
    "missing_summary = pd.DataFrame({\n",
    "    \"Missing Values\": missing_values,\n",
    "    \"Percentage\": missing_percentage\n",
    "})\n",
    "print(missing_summary)"
   ]
  },
  {
   "cell_type": "code",
   "execution_count": 12,
   "id": "efb56e64-3609-44de-a56c-903a015823fb",
   "metadata": {},
   "outputs": [
    {
     "name": "stdout",
     "output_type": "stream",
     "text": [
      "Index(['index', 'National Provider Identifier',\n",
      "       'Last Name/Organization Name of the Provider',\n",
      "       'First Name of the Provider', 'Middle Initial of the Provider',\n",
      "       'Credentials of the Provider', 'Gender of the Provider',\n",
      "       'Entity Type of the Provider', 'Street Address 1 of the Provider',\n",
      "       'Street Address 2 of the Provider', 'City of the Provider',\n",
      "       'Zip Code of the Provider', 'State Code of the Provider',\n",
      "       'Country Code of the Provider', 'Provider Type',\n",
      "       'Medicare Participation Indicator', 'Place of Service', 'HCPCS Code',\n",
      "       'HCPCS Description', 'HCPCS Drug Indicator', 'Number of Services',\n",
      "       'Number of Medicare Beneficiaries',\n",
      "       'Number of Distinct Medicare Beneficiary/Per Day Services',\n",
      "       'Average Medicare Allowed Amount', 'Average Submitted Charge Amount',\n",
      "       'Average Medicare Payment Amount',\n",
      "       'Average Medicare Standardized Amount'],\n",
      "      dtype='object')\n"
     ]
    }
   ],
   "source": [
    "print(data.columns)"
   ]
  },
  {
   "cell_type": "code",
   "execution_count": 13,
   "id": "2d8650da-7f73-4a89-8ed5-112d2bd9940d",
   "metadata": {},
   "outputs": [
    {
     "name": "stdout",
     "output_type": "stream",
     "text": [
      "index: 100000 unique values\n",
      "National Provider Identifier: 89508 unique values\n",
      "Last Name/Organization Name of the Provider: 42820 unique values\n",
      "First Name of the Provider: 13022 unique values\n",
      "Middle Initial of the Provider: 29 unique values\n",
      "Credentials of the Provider: 1854 unique values\n",
      "Gender of the Provider: 2 unique values\n",
      "Entity Type of the Provider: 2 unique values\n",
      "Street Address 1 of the Provider: 51928 unique values\n",
      "Street Address 2 of the Provider: 10024 unique values\n",
      "City of the Provider: 5846 unique values\n",
      "Zip Code of the Provider: 47827 unique values\n",
      "State Code of the Provider: 58 unique values\n",
      "Country Code of the Provider: 4 unique values\n",
      "Provider Type: 90 unique values\n",
      "Medicare Participation Indicator: 2 unique values\n",
      "Place of Service: 2 unique values\n",
      "HCPCS Code: 2631 unique values\n",
      "HCPCS Description: 2455 unique values\n",
      "HCPCS Drug Indicator: 2 unique values\n",
      "Number of Services: 2748 unique values\n",
      "Number of Medicare Beneficiaries: 1274 unique values\n",
      "Number of Distinct Medicare Beneficiary/Per Day Services: 1979 unique values\n",
      "Average Medicare Allowed Amount: 49629 unique values\n",
      "Average Submitted Charge Amount: 38088 unique values\n",
      "Average Medicare Payment Amount: 83367 unique values\n",
      "Average Medicare Standardized Amount: 76237 unique values\n"
     ]
    }
   ],
   "source": [
    "for column in data.columns:\n",
    "    unique_values = data[column].nunique()\n",
    "    print(f\"{column}: {unique_values} unique values\")"
   ]
  },
  {
   "cell_type": "code",
   "execution_count": 14,
   "id": "b0cf7a2c-0bdf-4e76-a913-bc00e4360d57",
   "metadata": {},
   "outputs": [
    {
     "name": "stdout",
     "output_type": "stream",
     "text": [
      "index                                                         int64\n",
      "National Provider Identifier                                  int64\n",
      "Last Name/Organization Name of the Provider                  object\n",
      "First Name of the Provider                                   object\n",
      "Middle Initial of the Provider                               object\n",
      "Credentials of the Provider                                  object\n",
      "Gender of the Provider                                       object\n",
      "Entity Type of the Provider                                  object\n",
      "Street Address 1 of the Provider                             object\n",
      "Street Address 2 of the Provider                             object\n",
      "City of the Provider                                         object\n",
      "Zip Code of the Provider                                    float64\n",
      "State Code of the Provider                                   object\n",
      "Country Code of the Provider                                 object\n",
      "Provider Type                                                object\n",
      "Medicare Participation Indicator                             object\n",
      "Place of Service                                             object\n",
      "HCPCS Code                                                   object\n",
      "HCPCS Description                                            object\n",
      "HCPCS Drug Indicator                                         object\n",
      "Number of Services                                           object\n",
      "Number of Medicare Beneficiaries                             object\n",
      "Number of Distinct Medicare Beneficiary/Per Day Services     object\n",
      "Average Medicare Allowed Amount                              object\n",
      "Average Submitted Charge Amount                              object\n",
      "Average Medicare Payment Amount                              object\n",
      "Average Medicare Standardized Amount                         object\n",
      "dtype: object\n"
     ]
    }
   ],
   "source": [
    "print(data.dtypes)"
   ]
  },
  {
   "cell_type": "code",
   "execution_count": null,
   "id": "aaf92cec-3aa4-4195-9dd5-170bcc17b08d",
   "metadata": {},
   "outputs": [],
   "source": []
  }
 ],
 "metadata": {
  "kernelspec": {
   "display_name": "Python 3 (ipykernel)",
   "language": "python",
   "name": "python3"
  },
  "language_info": {
   "codemirror_mode": {
    "name": "ipython",
    "version": 3
   },
   "file_extension": ".py",
   "mimetype": "text/x-python",
   "name": "python",
   "nbconvert_exporter": "python",
   "pygments_lexer": "ipython3",
   "version": "3.12.7"
  }
 },
 "nbformat": 4,
 "nbformat_minor": 5
}
